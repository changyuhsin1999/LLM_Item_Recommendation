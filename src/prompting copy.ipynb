{
 "cells": [
  {
   "cell_type": "code",
   "execution_count": 2,
   "metadata": {},
   "outputs": [
    {
     "data": {
      "text/html": [
       "<div>\n",
       "<style scoped>\n",
       "    .dataframe tbody tr th:only-of-type {\n",
       "        vertical-align: middle;\n",
       "    }\n",
       "\n",
       "    .dataframe tbody tr th {\n",
       "        vertical-align: top;\n",
       "    }\n",
       "\n",
       "    .dataframe thead th {\n",
       "        text-align: right;\n",
       "    }\n",
       "</style>\n",
       "<table border=\"1\" class=\"dataframe\">\n",
       "  <thead>\n",
       "    <tr style=\"text-align: right;\">\n",
       "      <th></th>\n",
       "      <th>userId</th>\n",
       "      <th>movieId</th>\n",
       "      <th>rating</th>\n",
       "      <th>title</th>\n",
       "      <th>genres</th>\n",
       "    </tr>\n",
       "  </thead>\n",
       "  <tbody>\n",
       "    <tr>\n",
       "      <th>0</th>\n",
       "      <td>1</td>\n",
       "      <td>1</td>\n",
       "      <td>4.0</td>\n",
       "      <td>Toy Story (1995)</td>\n",
       "      <td>Adventure|Animation|Children|Comedy|Fantasy</td>\n",
       "    </tr>\n",
       "    <tr>\n",
       "      <th>1</th>\n",
       "      <td>5</td>\n",
       "      <td>1</td>\n",
       "      <td>4.0</td>\n",
       "      <td>Toy Story (1995)</td>\n",
       "      <td>Adventure|Animation|Children|Comedy|Fantasy</td>\n",
       "    </tr>\n",
       "    <tr>\n",
       "      <th>2</th>\n",
       "      <td>7</td>\n",
       "      <td>1</td>\n",
       "      <td>4.5</td>\n",
       "      <td>Toy Story (1995)</td>\n",
       "      <td>Adventure|Animation|Children|Comedy|Fantasy</td>\n",
       "    </tr>\n",
       "    <tr>\n",
       "      <th>3</th>\n",
       "      <td>15</td>\n",
       "      <td>1</td>\n",
       "      <td>2.5</td>\n",
       "      <td>Toy Story (1995)</td>\n",
       "      <td>Adventure|Animation|Children|Comedy|Fantasy</td>\n",
       "    </tr>\n",
       "    <tr>\n",
       "      <th>4</th>\n",
       "      <td>17</td>\n",
       "      <td>1</td>\n",
       "      <td>4.5</td>\n",
       "      <td>Toy Story (1995)</td>\n",
       "      <td>Adventure|Animation|Children|Comedy|Fantasy</td>\n",
       "    </tr>\n",
       "    <tr>\n",
       "      <th>...</th>\n",
       "      <td>...</td>\n",
       "      <td>...</td>\n",
       "      <td>...</td>\n",
       "      <td>...</td>\n",
       "      <td>...</td>\n",
       "    </tr>\n",
       "    <tr>\n",
       "      <th>100831</th>\n",
       "      <td>610</td>\n",
       "      <td>160341</td>\n",
       "      <td>2.5</td>\n",
       "      <td>Bloodmoon (1997)</td>\n",
       "      <td>Action|Thriller</td>\n",
       "    </tr>\n",
       "    <tr>\n",
       "      <th>100832</th>\n",
       "      <td>610</td>\n",
       "      <td>160527</td>\n",
       "      <td>4.5</td>\n",
       "      <td>Sympathy for the Underdog (1971)</td>\n",
       "      <td>Action|Crime|Drama</td>\n",
       "    </tr>\n",
       "    <tr>\n",
       "      <th>100833</th>\n",
       "      <td>610</td>\n",
       "      <td>160836</td>\n",
       "      <td>3.0</td>\n",
       "      <td>Hazard (2005)</td>\n",
       "      <td>Action|Drama|Thriller</td>\n",
       "    </tr>\n",
       "    <tr>\n",
       "      <th>100834</th>\n",
       "      <td>610</td>\n",
       "      <td>163937</td>\n",
       "      <td>3.5</td>\n",
       "      <td>Blair Witch (2016)</td>\n",
       "      <td>Horror|Thriller</td>\n",
       "    </tr>\n",
       "    <tr>\n",
       "      <th>100835</th>\n",
       "      <td>610</td>\n",
       "      <td>163981</td>\n",
       "      <td>3.5</td>\n",
       "      <td>31 (2016)</td>\n",
       "      <td>Horror</td>\n",
       "    </tr>\n",
       "  </tbody>\n",
       "</table>\n",
       "<p>100836 rows × 5 columns</p>\n",
       "</div>"
      ],
      "text/plain": [
       "        userId  movieId  rating                             title  \\\n",
       "0            1        1     4.0                  Toy Story (1995)   \n",
       "1            5        1     4.0                  Toy Story (1995)   \n",
       "2            7        1     4.5                  Toy Story (1995)   \n",
       "3           15        1     2.5                  Toy Story (1995)   \n",
       "4           17        1     4.5                  Toy Story (1995)   \n",
       "...        ...      ...     ...                               ...   \n",
       "100831     610   160341     2.5                  Bloodmoon (1997)   \n",
       "100832     610   160527     4.5  Sympathy for the Underdog (1971)   \n",
       "100833     610   160836     3.0                     Hazard (2005)   \n",
       "100834     610   163937     3.5                Blair Witch (2016)   \n",
       "100835     610   163981     3.5                         31 (2016)   \n",
       "\n",
       "                                             genres  \n",
       "0       Adventure|Animation|Children|Comedy|Fantasy  \n",
       "1       Adventure|Animation|Children|Comedy|Fantasy  \n",
       "2       Adventure|Animation|Children|Comedy|Fantasy  \n",
       "3       Adventure|Animation|Children|Comedy|Fantasy  \n",
       "4       Adventure|Animation|Children|Comedy|Fantasy  \n",
       "...                                             ...  \n",
       "100831                              Action|Thriller  \n",
       "100832                           Action|Crime|Drama  \n",
       "100833                        Action|Drama|Thriller  \n",
       "100834                              Horror|Thriller  \n",
       "100835                                       Horror  \n",
       "\n",
       "[100836 rows x 5 columns]"
      ]
     },
     "execution_count": 2,
     "metadata": {},
     "output_type": "execute_result"
    }
   ],
   "source": [
    "import os\n",
    "import pandas as pd\n",
    "from openai import OpenAI\n",
    "from func import get_user_watch_history\n",
    "\n",
    "client = OpenAI()\n",
    "\n",
    "merged_df = pd.read_csv(\"data/merged_df.csv\")\n",
    "merged_df"
   ]
  },
  {
   "cell_type": "code",
   "execution_count": 2,
   "metadata": {},
   "outputs": [
    {
     "name": "stdout",
     "output_type": "stream",
     "text": [
      "Based on the user's previously watched movies and ratings, here are 10 movie recommendations:\n",
      "\n",
      "1. The Dark Knight Rises (2012)\n",
      "2. The Shawshank Redemption (1994)\n",
      "3. The Avengers (2012)\n",
      "4. The Wolf of Wall Street (2013)\n",
      "5. The Social Network (2010)\n",
      "6. The Grand Budapest Hotel (2014)\n",
      "7. Mad Max: Fury Road (2015)\n",
      "8. Django Unchained (2012)\n",
      "9. Guardians of the Galaxy Vol. 2 (2017)\n",
      "10. The Martian (2015)\n",
      "\n",
      "Predicted ratings for these 10 movies based on user preferences:\n",
      "\n",
      "1. The Dark Knight Rises (2012) - Predicted rating: 4.5\n",
      "2. The Shawshank Redemption (1994) - Predicted rating: 5.0\n",
      "3. The Avengers (2012) - Predicted rating: 4.0\n",
      "4. The Wolf of Wall Street (2013) - Predicted rating: 4.5\n",
      "5. The Social Network (2010) - Predicted rating: 4.0\n",
      "6. The Grand Budapest Hotel (2014) - Predicted rating: 4.0\n",
      "7. Mad Max: Fury Road (2015) - Predicted rating: 4.0\n",
      "8. Django Unchained (2012) - Predicted rating: 4.5\n",
      "9. Guardians of the Galaxy Vol. 2 (2017) - Predicted rating: 4.5\n",
      "10. The Martian (2015) - Predicted rating: 4.5\n"
     ]
    }
   ],
   "source": [
    "import os\n",
    "import pandas as pd\n",
    "from openai import OpenAI\n",
    "from func import get_user_watch_history\n",
    "\n",
    "client = OpenAI()\n",
    "\n",
    "merged_df = pd.read_csv(\"data/merged_df.csv\")\n",
    "unique_movie_titles = merged_df['title'].unique().tolist()\n",
    "system_prompt = \"You are a movie recommender system that will compare user previous watch history and ratings.\"\n",
    "\n",
    "# def get_movies_and_predict_ratings():\n",
    "user_response = input(\"Are you planning to watch the movie alone or with a partner? (alone[a]/partner[p]): \").strip().lower()\n",
    "if user_response in ['alone', 'a']:\n",
    "  user_id = int(input(\"Enter Your User ID:\"))\n",
    "  if user_id in merged_df['userId'].values:\n",
    "    titles_list, ratings_list = get_user_watch_history(user_id, merged_df)\n",
    "    completion = client.chat.completions.create(\n",
    "    model=\"gpt-3.5-turbo\",\n",
    "    messages=[\n",
    "      {\"role\": \"system\", \"content\": f\"{system_prompt} Based on the genre and ratings of those movies \\\n",
    "        that this particular user gave, please recommend 10 movie that this user would enjoy watching \\\n",
    "          and predict the rating of these 10 movies given by this user\"},\n",
    "      {\"role\": \"user\", \"content\": f\"User {user_id}'s previously watch movies include {titles_list} \\\n",
    "        and the corresponded ratings are {ratings_list}. \\\n",
    "          Please suggest 10 movie based on the watch history and \\\n",
    "            predict ratings of those 10 movies based on user preferences\"}\n",
    "    ]\n",
    "  )\n",
    "  else:\n",
    "    print(\"This is not a valid user ID, please try again\")\n",
    "elif user_response in ['partner', 'p']:\n",
    "  user_A = int(input(\"Enter Your User ID:\"))\n",
    "  user_B = int(input(\"Enter Your Partner's User ID:\"))\n",
    "  if user_A and user_B in merged_df['userId'].values:\n",
    "    titles_list_A, ratings_list_A = get_user_watch_history(user_A, merged_df)\n",
    "    titles_list_B, ratings_list_B = get_user_watch_history(user_B, merged_df)\n",
    "    completion = client.chat.completions.create(\n",
    "    model=\"gpt-3.5-turbo\",\n",
    "    messages=[\n",
    "      {\"role\": \"system\", \"content\": f\"{system_prompt} Based on the genre and ratings of movies from 2 users, \\\n",
    "        please recommend 10 movie that these 2 users would enjoy watching together and predict the rating of these 10 movies\"},\n",
    "      {\"role\": \"user\", \"content\": f\"User {user_A}'s previously watch movies include {titles_list_A} \\\n",
    "        and the corresponded ratings are {ratings_list_A}. User {user_B}'s previously watch movies \\\n",
    "          include {titles_list_B} and the corresponded ratings are {ratings_list_B} \\\n",
    "            Please suggest 10 movie that both users would enjoy watching based on the watch histories \\\n",
    "              and predict specific ratings of those 10 movies based on user preferences\"}\n",
    "    ]\n",
    "  )\n",
    "else:\n",
    "    print(\"Invalid response. Please answer with 'alone','a' or 'partner','p'.\")\n",
    "    \n",
    "\n",
    "print(completion.choices[0].message.content) "
   ]
  },
  {
   "cell_type": "markdown",
   "metadata": {},
   "source": [
    "# Watch party with 2 userID\n",
    "user_A = 23\n",
    "\n",
    "user_B = 445"
   ]
  },
  {
   "cell_type": "code",
   "execution_count": 18,
   "metadata": {},
   "outputs": [
    {
     "name": "stdout",
     "output_type": "stream",
     "text": [
      "Based on the user's previously watched movies and ratings, here are 10 movie recommendations along with the predicted ratings:\n",
      "\n",
      "1. The Departed (2006) - Predicted Rating: 4.5\n",
      "2. The Dark Knight (2008) - Predicted Rating: 4.5\n",
      "3. Whiplash (2014) - Predicted Rating: 4.5\n",
      "4. The Prestige (2006) - Predicted Rating: 4.5\n",
      "5. Gone Baby Gone (2007) - Predicted Rating: 4.0\n",
      "6. Drive (2011) - Predicted Rating: 4.0\n",
      "7. Shutter Island (2010) - Predicted Rating: 4.5\n",
      "8. No Country for Old Men (2007) - Predicted Rating: 4.5\n",
      "9. The Revenant (2015) - Predicted Rating: 4.0\n",
      "10. Gravity (2013) - Predicted Rating: 4.0\n",
      "\n",
      "Please note that these predicted ratings are based on the user's preferences and previous ratings.\n"
     ]
    }
   ],
   "source": [
    "print(completion.choices[0].message.content)"
   ]
  },
  {
   "cell_type": "code",
   "execution_count": null,
   "metadata": {},
   "outputs": [],
   "source": []
  },
  {
   "cell_type": "markdown",
   "metadata": {},
   "source": [
    "# Recommend based on genre"
   ]
  },
  {
   "cell_type": "code",
   "execution_count": 21,
   "metadata": {},
   "outputs": [
    {
     "name": "stdout",
     "output_type": "stream",
     "text": [
      "Based on User 367's favorite genres, here are 10 movie recommendations:\n",
      "\n",
      "1. \"Toy Story\" (Genre: Children, Rating: 4.5/5)\n",
      "2. \"E.T. the Extra-Terrestrial\" (Genre: Sci-Fi, Rating: 4/5)\n",
      "3. \"Inception\" (Genre: Sci-Fi, Crime, Rating: 4.5/5)\n",
      "4. \"The Dark Knight\" (Genre: Crime, Rating: 5/5)\n",
      "5. \"Jurassic Park\" (Genre: Sci-Fi, Rating: 4/5)\n",
      "6. \"Home Alone\" (Genre: Children, Crime, Rating: 4/5)\n",
      "7. \"Harry Potter and the Sorcerer's Stone\" (Genre: Children, Rating: 4/5)\n",
      "8. \"Blade Runner\" (Genre: Sci-Fi, Crime, Rating: 4.5/5)\n",
      "9. \"The Incredibles\" (Genre: Children, Sci-Fi, Rating: 4/5)\n",
      "10. \"The Shawshank Redemption\" (Genre: Crime, Rating: 5/5)\n",
      "\n",
      "Please note that the movie ratings are just estimates and may vary according to personal taste.\n"
     ]
    }
   ],
   "source": [
    "from func import find_top_3_genre\n",
    "\n",
    "# def get_movie_genre():\n",
    "user_id_genre = int(input(\"We will suggest movies based on your favorite genre, please enter your user ID:\"))\n",
    "if user_id_genre in merged_df['userId'].values:\n",
    "    top_3_genre = find_top_3_genre(user_id_genre,merged_df)\n",
    "    genre_response = client.chat.completions.create(\n",
    "    model=\"gpt-3.5-turbo\",\n",
    "    messages=[\n",
    "      {\"role\": \"system\", \"content\": \"You are a movie recommender system that will recommend 10 movie\\\n",
    "        in this user's favorite genres and predict the rating of these 10 movies given by this user\"},\n",
    "      {\"role\": \"user\", \"content\": f\"User {user_id_genre}'s favorite genre include {top_3_genre}.\\\n",
    "        Please suggest 10 movie in these genre for the user\"}\n",
    "    ]\n",
    ")\n",
    "else:\n",
    "    print(\"This is not a valid user ID, please try again\")\n",
    "\n",
    "print(genre_response.choices[0].message.content)"
   ]
  },
  {
   "cell_type": "markdown",
   "metadata": {},
   "source": [
    "# Recommend based on similar user"
   ]
  },
  {
   "cell_type": "code",
   "execution_count": 4,
   "metadata": {},
   "outputs": [
    {
     "name": "stdout",
     "output_type": "stream",
     "text": [
      "Based on the watch history and ratings of user 582, here are 10 movie recommendations for you, user 123:\n",
      "\n",
      "1. The Dark Knight (2008) - Predicted rating: 4.0\n",
      "2. Inception (2010) - Predicted rating: 4.5\n",
      "3. The Shawshank Redemption (1994) - Predicted rating: 4.5\n",
      "4. The Avengers (2012) - Predicted rating: 4.5\n",
      "5. The Lord of the Rings: The Return of the King (2003) - Predicted rating: 4.0\n",
      "6. The Prestige (2006) - Predicted rating: 4.5\n",
      "7. The Matrix (1999) - Predicted rating: 4.0\n",
      "8. The Incredibles (2004) - Predicted rating: 4.0\n",
      "9. The Godfather (1972) - Predicted rating: 4.5\n",
      "10. The Departed (2006) - Predicted rating: 4.0\n",
      "\n",
      "These ratings are predicted based on the preferences of user 582 and may not always perfectly match your own ratings. Enjoy watching the recommended movies!\n"
     ]
    }
   ],
   "source": [
    "from func import get_similar_users\n",
    "\n",
    "# def rec_from_similar_user():\n",
    "user_id_sim = int(input(\"We will suggest movies you may also like based on similar user, \\\n",
    "    please enter your user ID:\"))\n",
    "if user_id_sim in merged_df['userId'].values:\n",
    "    most_similar = get_similar_users(user_id_sim, merged_df)\n",
    "    titles_list, ratings_list = get_user_watch_history(most_similar, merged_df)\n",
    "    response_sim = client.chat.completions.create(\n",
    "    model=\"gpt-3.5-turbo-1106\",\n",
    "    messages=[\n",
    "    {\"role\": \"system\", \"content\": \"You are a movie recommender system that will suggest movies\\\n",
    "        that the user may also like based on similar user's watch histories. \\\n",
    "        From the most similar user's watch histories, please recommend 10 movies\\\n",
    "        that this user would enjoy watching and predict the rating of these 10 movies given by this user\"},\n",
    "    {\"role\": \"user\", \"content\": f\"User {user_id_sim}'s most similar user is user {most_similar},\\\n",
    "        which has previously watched {titles_list} and the corresponded ratings are {ratings_list}.\\\n",
    "        Please suggest 10 movies that user {user_id_sim} may also like and provide rating prediction \\\n",
    "        of those 10 movies based on user preferences\"}\n",
    "    ]\n",
    ")\n",
    "else:\n",
    "    print(\"This is not a valid user ID, please try again\")   \n",
    "\n",
    "print(response_sim.choices[0].message.content)"
   ]
  },
  {
   "cell_type": "markdown",
   "metadata": {},
   "source": [
    "# Rating prediction for evaluation metric"
   ]
  },
  {
   "cell_type": "code",
   "execution_count": 52,
   "metadata": {},
   "outputs": [
    {
     "name": "stdout",
     "output_type": "stream",
     "text": [
      "Dumb & Dumber (Dumb and Dumber) (1994) - Predicted Rating: 3.0\n",
      "E.T. the Extra-Terrestrial (1982) - Predicted Rating: 5.0\n",
      "Indiana Jones and the Last Crusade (1989) - Predicted Rating: 4.0\n",
      "Batman Returns (1992) - Predicted Rating: 4.0\n",
      "NeverEnding Story, The (1984) - Predicted Rating: 4.0\n",
      "Superman (1978) - Predicted Rating: 5.0\n",
      "Rocky Horror Picture Show, The (1975) - Predicted Rating: 4.0\n",
      "Iron Giant, The (1999) - Predicted Rating: 4.0\n",
      "Who Framed Roger Rabbit? (1988) - Predicted Rating: 4.0\n",
      "Teenage Mutant Ninja Turtles III (1993) - Predicted Rating: 2.0\n",
      "Ladyhawke (1985) - Predicted Rating: 4.0\n",
      "Lady and the Tramp (1955) - Predicted Rating: 5.0\n",
      "Blow (2001) - Predicted Rating: 4.0\n",
      "Ace Ventura: Pet Detective (1994) - Predicted Rating: 3.0\n",
      "Speed (1994) - Predicted Rating: 4.0\n",
      "Free Willy (1993) - Predicted Rating: 3.0\n",
      "Super Mario Bros. (1993) - Predicted Rating: 2.0\n",
      "Charlie's Angels (2000) - Predicted Rating: 3.0\n",
      "Mary Poppins (1964) - Predicted Rating: 5.0\n",
      "Die Hard 2 (1990) - Predicted Rating: 4.0\n",
      "Karate Kid, Part II, The (1986) - Predicted Rating: 3.0\n",
      "Shanghai Noon (2000) - Predicted Rating: 3.0\n",
      "Star Trek II: The Wrath of Khan (1982) - Predicted Rating: 4.0\n",
      "Pocahontas (1995) - Predicted Rating: 4.0\n",
      "Young Guns II (1990) - Predicted Rating: 3.0\n",
      "Michael (1996) - Predicted Rating: 4.0\n",
      "Anastasia (1997) - Predicted Rating: 4.0\n",
      "Inspector Gadget (1999) - Predicted Rating: 3.0\n",
      "Great Muppet Caper, The (1981) - Predicted Rating: 3.0\n",
      "Rescuers Down Under, The (1990) - Predicted Rating: 3.0\n",
      "Spy Kids (2001) - Predicted Rating: 3.0\n",
      "Beach, The (2000) - Predicted Rating: 2.0\n",
      "Mod Squad, The (1999) - Predicted Rating: 3.0\n",
      "Pokémon 3: The Movie (2001) - Predicted Rating: 3.0\n",
      "Flintstones in Viva Rock Vegas, The (2000) - Predicted Rating: 2.0\n",
      "Cowboy Way, The (1994) - Predicted Rating: 3.0\n",
      "Red Sonja (1985) - Predicted Rating: 3.0\n",
      "Little Princess, The (1939) - Predicted Rating: 4.0\n",
      "Barney's Great Adventure (1998) - Predicted Rating: 3.0\n",
      "Benji (1974) - Predicted Rating: 3.0\n"
     ]
    }
   ],
   "source": [
    "from func import get_user_watch_history_20\n",
    "# def rating_prediction()\n",
    "user_id_rating = int(input(\"We want to predict movie ratings from your watch list, please enter your user ID:\"))\n",
    "if user_id_rating in merged_df['userId'].values:\n",
    "    titles_list, ratings_list = get_user_watch_history(user_id_rating, merged_df)\n",
    "    n = len(titles_list)\n",
    "    movies = \"\"\n",
    "    for i in range(n):\n",
    "        movies += f'Movie: {titles_list[i]}, Rating: {ratings_list[i]}. \\n'\n",
    "        test_title_list, true_ratings = get_user_watch_history_20(user_id_rating, merged_df, fraction=0.8)\n",
    "    tests = \"\\n\".join(test_title_list)\n",
    "    user_prompt = f\"User {user_id_rating}'s previously watch movies include {movies} . Based on these ratings, please provide a list of prediction rating corresponded to {tests} with the format of movie title - Predicted Rating: ratings\"\n",
    "    response_rating = client.chat.completions.create(\n",
    "    model=\"gpt-3.5-turbo-1106\",\n",
    "    messages=[\n",
    "    {\"role\": \"system\", \"content\": \"You are a movie rating prediction system that will predict rating\\\n",
    "        with a list of titles given\"},\n",
    "    {\"role\": \"user\", \"content\": user_prompt}\n",
    "    ]\n",
    ")\n",
    "else:\n",
    "    print(\"This is not a valid user ID, please try again\")   \n",
    "\n",
    "print(response_rating.choices[0].message.content)"
   ]
  },
  {
   "cell_type": "markdown",
   "metadata": {},
   "source": [
    "# Evaluation metric (RMSE of the prediction)"
   ]
  },
  {
   "cell_type": "code",
   "execution_count": 56,
   "metadata": {},
   "outputs": [],
   "source": [
    "from func import extract_ratings\n",
    "message = f\"{response_rating.choices[0].message.content}\"\n",
    "movies_and_ratings = extract_ratings(message)\n",
    "predicted_ratings = []\n",
    "for movie, rating in movies_and_ratings:\n",
    "    predicted_ratings.append(rating)"
   ]
  },
  {
   "cell_type": "code",
   "execution_count": 57,
   "metadata": {},
   "outputs": [
    {
     "data": {
      "text/plain": [
       "40"
      ]
     },
     "execution_count": 57,
     "metadata": {},
     "output_type": "execute_result"
    }
   ],
   "source": [
    "len(test_title_list)"
   ]
  },
  {
   "cell_type": "code",
   "execution_count": 58,
   "metadata": {},
   "outputs": [
    {
     "name": "stdout",
     "output_type": "stream",
     "text": [
      "RMSE: 0.9082951062292475\n"
     ]
    }
   ],
   "source": [
    "import math\n",
    "from func import calculate_rmse\n",
    "rmse_score = calculate_rmse(predicted_ratings, true_ratings)\n",
    "print(f\"RMSE: {rmse_score}\")"
   ]
  },
  {
   "cell_type": "markdown",
   "metadata": {},
   "source": [
    "# To Do List\n",
    "- Organized prompts into function or class\n",
    "- put into .py file\n",
    "- Think about evaluation metric to compare baseline and message from prompt\n",
    "- requirement.txt file\n",
    "- update readme"
   ]
  }
 ],
 "metadata": {
  "kernelspec": {
   "display_name": "base",
   "language": "python",
   "name": "python3"
  },
  "language_info": {
   "codemirror_mode": {
    "name": "ipython",
    "version": 3
   },
   "file_extension": ".py",
   "mimetype": "text/x-python",
   "name": "python",
   "nbconvert_exporter": "python",
   "pygments_lexer": "ipython3",
   "version": "3.9.6"
  },
  "orig_nbformat": 4
 },
 "nbformat": 4,
 "nbformat_minor": 2
}
