{
 "cells": [
  {
   "cell_type": "code",
   "execution_count": 2,
   "metadata": {},
   "outputs": [
    {
     "name": "stdout",
     "output_type": "stream",
     "text": [
      "Based on the user's previously watched movies and ratings, here are 10 movie recommendations:\n",
      "\n",
      "1. The Dark Knight Rises (2012)\n",
      "2. The Shawshank Redemption (1994)\n",
      "3. The Avengers (2012)\n",
      "4. The Wolf of Wall Street (2013)\n",
      "5. The Social Network (2010)\n",
      "6. The Grand Budapest Hotel (2014)\n",
      "7. Mad Max: Fury Road (2015)\n",
      "8. Django Unchained (2012)\n",
      "9. Guardians of the Galaxy Vol. 2 (2017)\n",
      "10. The Martian (2015)\n",
      "\n",
      "Predicted ratings for these 10 movies based on user preferences:\n",
      "\n",
      "1. The Dark Knight Rises (2012) - Predicted rating: 4.5\n",
      "2. The Shawshank Redemption (1994) - Predicted rating: 5.0\n",
      "3. The Avengers (2012) - Predicted rating: 4.0\n",
      "4. The Wolf of Wall Street (2013) - Predicted rating: 4.5\n",
      "5. The Social Network (2010) - Predicted rating: 4.0\n",
      "6. The Grand Budapest Hotel (2014) - Predicted rating: 4.0\n",
      "7. Mad Max: Fury Road (2015) - Predicted rating: 4.0\n",
      "8. Django Unchained (2012) - Predicted rating: 4.5\n",
      "9. Guardians of the Galaxy Vol. 2 (2017) - Predicted rating: 4.5\n",
      "10. The Martian (2015) - Predicted rating: 4.5\n"
     ]
    }
   ],
   "source": [
    "import os\n",
    "import pandas as pd\n",
    "from openai import OpenAI\n",
    "from func import get_user_watch_history\n",
    "\n",
    "client = OpenAI()\n",
    "\n",
    "merged_df = pd.read_csv(\"data/merged_df.csv\")\n",
    "unique_movie_titles = merged_df['title'].unique().tolist()\n",
    "system_prompt = \"You are a movie recommender system that will compare user previous watch history and ratings.\"\n",
    "\n",
    "# def get_movies_and_predict_ratings():\n",
    "user_response = input(\"Are you planning to watch the movie alone or with a partner? (alone[a]/partner[p]): \").strip().lower()\n",
    "if user_response in ['alone', 'a']:\n",
    "  user_id = int(input(\"Enter Your User ID:\"))\n",
    "  if user_id in merged_df['userId'].values:\n",
    "    titles_list, ratings_list = get_user_watch_history(user_id, merged_df)\n",
    "    completion = client.chat.completions.create(\n",
    "    model=\"gpt-3.5-turbo\",\n",
    "    messages=[\n",
    "      {\"role\": \"system\", \"content\": f\"{system_prompt} Based on the genre and ratings of those movies that this particular user gave, please recommend 10 movie that this user would enjoy watching and predict the rating of these 10 movies given by this user\"},\n",
    "      {\"role\": \"user\", \"content\": f\"User {user_id}'s previously watch movies include {titles_list} and the corresponded ratings are {ratings_list}. Please suggest 10 movie based on the watch history and predict ratings of those 10 movies based on user preferences\"}\n",
    "    ]\n",
    "  )\n",
    "  else:\n",
    "    print(\"This is not a valid user ID, please try again\")\n",
    "elif user_response in ['partner', 'p']:\n",
    "  user_A = int(input(\"Enter Your User ID:\"))\n",
    "  user_B = int(input(\"Enter Your Partner's User ID:\"))\n",
    "  if user_A and user_B in merged_df['userId'].values:\n",
    "    titles_list_A, ratings_list_A = get_user_watch_history(user_A, merged_df)\n",
    "    titles_list_B, ratings_list_B = get_user_watch_history(user_B, merged_df)\n",
    "    completion = client.chat.completions.create(\n",
    "    model=\"gpt-3.5-turbo\",\n",
    "    messages=[\n",
    "      {\"role\": \"system\", \"content\": f\"{system_prompt} Based on the genre and ratings of movies from 2 users, please recommend 10 movie that these 2 users would enjoy watching together and predict the rating of these 10 movies\"},\n",
    "      {\"role\": \"user\", \"content\": f\"User {user_A}'s previously watch movies include {titles_list_A} and the corresponded ratings are {ratings_list_A}. User {user_B}'s previously watch movies include {titles_list_B} and the corresponded ratings are {ratings_list_B} Please suggest 10 movie that both users would enjoy watching based on the watch histories and predict specific ratings of those 10 movies based on user preferences\"}\n",
    "    ]\n",
    "  )\n",
    "else:\n",
    "    print(\"Invalid response. Please answer with 'alone','a' or 'partner','p'.\")\n",
    "    \n",
    "\n",
    "print(completion.choices[0].message.content) "
   ]
  },
  {
   "cell_type": "markdown",
   "metadata": {},
   "source": [
    "# Watch party with 2 userID\n",
    "user_A = 23\n",
    "\n",
    "user_B = 445"
   ]
  },
  {
   "cell_type": "code",
   "execution_count": 17,
   "metadata": {},
   "outputs": [
    {
     "name": "stdout",
     "output_type": "stream",
     "text": [
      "To recommend movies that both User 23 and User 445 would enjoy watching together, we can compare their previously watched movies and find common genres and high-rated movies. Here are 10 movie recommendations:\n",
      "\n",
      "1. \"Fight Club\" - Genre: Drama, Thriller - Predicted Rating: 4.5\n",
      "2. \"Pulp Fiction\" - Genre: Crime, Drama - Predicted Rating: 4.5\n",
      "3. \"Inception\" - Genre: Action, Sci-Fi, Thriller - Predicted Rating: 4.5\n",
      "4. \"Eternal Sunshine of the Spotless Mind\" - Genre: Drama, Romance, Sci-Fi - Predicted Rating: 4.5\n",
      "5. \"The Shawshank Redemption\" - Genre: Drama - Predicted Rating: 4.5\n",
      "6. \"The Dark Knight\" - Genre: Action, Crime, Drama - Predicted Rating: 4.5\n",
      "7. \"The Matrix\" - Genre: Action, Sci-Fi - Predicted Rating: 4.5\n",
      "8. \"The Silence of the Lambs\" - Genre: Crime, Drama, Thriller - Predicted Rating: 4.5\n",
      "9. \"Reservoir Dogs\" - Genre: Crime, Drama, Thriller - Predicted Rating: 4.0\n",
      "10. \"Mad Max: Fury Road\" - Genre: Action, Adventure, Sci-Fi - Predicted Rating: 4.0\n",
      "\n",
      "Please note that the predicted ratings are based on the collective preferences of both users and the similarities in their previously watched movies. The actual ratings may vary based on individual tastes.\n"
     ]
    }
   ],
   "source": [
    "print(completion.choices[0].message.content)"
   ]
  },
  {
   "cell_type": "markdown",
   "metadata": {},
   "source": [
    "# Recommend based on genre"
   ]
  },
  {
   "cell_type": "code",
   "execution_count": 21,
   "metadata": {},
   "outputs": [
    {
     "name": "stdout",
     "output_type": "stream",
     "text": [
      "Based on User 367's favorite genres, here are 10 movie recommendations:\n",
      "\n",
      "1. \"Toy Story\" (Genre: Children, Rating: 4.5/5)\n",
      "2. \"E.T. the Extra-Terrestrial\" (Genre: Sci-Fi, Rating: 4/5)\n",
      "3. \"Inception\" (Genre: Sci-Fi, Crime, Rating: 4.5/5)\n",
      "4. \"The Dark Knight\" (Genre: Crime, Rating: 5/5)\n",
      "5. \"Jurassic Park\" (Genre: Sci-Fi, Rating: 4/5)\n",
      "6. \"Home Alone\" (Genre: Children, Crime, Rating: 4/5)\n",
      "7. \"Harry Potter and the Sorcerer's Stone\" (Genre: Children, Rating: 4/5)\n",
      "8. \"Blade Runner\" (Genre: Sci-Fi, Crime, Rating: 4.5/5)\n",
      "9. \"The Incredibles\" (Genre: Children, Sci-Fi, Rating: 4/5)\n",
      "10. \"The Shawshank Redemption\" (Genre: Crime, Rating: 5/5)\n",
      "\n",
      "Please note that the movie ratings are just estimates and may vary according to personal taste.\n"
     ]
    }
   ],
   "source": [
    "from func import find_top_3_genre\n",
    "\n",
    "# def get_movie_genre():\n",
    "user_id_genre = int(input(\"We will suggest movies based on your favorite genre, please enter your user ID:\"))\n",
    "if user_id_genre in merged_df['userId'].values:\n",
    "    top_3_genre = find_top_3_genre(user_id_genre,merged_df)\n",
    "    genre_response = client.chat.completions.create(\n",
    "    model=\"gpt-3.5-turbo\",\n",
    "    messages=[\n",
    "      {\"role\": \"system\", \"content\": \"You are a movie recommender system that will recommend 10 movie \\\n",
    "        in this user's favorite genres and predict the rating of these 10 movies given by this user\"},\n",
    "      {\"role\": \"user\", \"content\": f\"User {user_id_genre}'s favorite genre include {top_3_genre}. \\\n",
    "        Please suggest 10 movie in these genre for the user\"}\n",
    "    ]\n",
    ")\n",
    "else:\n",
    "    print(\"This is not a valid user ID, please try again\")\n",
    "\n",
    "print(genre_response.choices[0].message.content)"
   ]
  },
  {
   "cell_type": "markdown",
   "metadata": {},
   "source": [
    "# Recommend based on similar user"
   ]
  },
  {
   "cell_type": "code",
   "execution_count": 23,
   "metadata": {},
   "outputs": [
    {
     "name": "stdout",
     "output_type": "stream",
     "text": [
      "Based on the watch histories of the most similar user (user 432), here are 10 movie recommendations for user 351:\n",
      "\n",
      "1. The Dark Knight (2008) - Predicted rating: 4.0\n",
      "2. The Shawshank Redemption (1994) - Predicted rating: 4.5\n",
      "3. Pulp Fiction (1994) - Predicted rating: 4.0\n",
      "4. Inception (2010) - Predicted rating: 4.0\n",
      "5. The Silence of the Lambs (1991) - Predicted rating: 4.0\n",
      "6. Fight Club (1999) - Predicted rating: 4.5\n",
      "7. The Matrix (1999) - Predicted rating: 4.0\n",
      "8. The Prestige (2006) - Predicted rating: 4.0\n",
      "9. The Departed (2006) - Predicted rating: 4.0\n",
      "10. Gladiator (2000) - Predicted rating: 4.0\n",
      "\n",
      "Please note that the predicted ratings are based on the preferences of user 432 and may not necessarily reflect the exact ratings that user 351 would give.\n"
     ]
    }
   ],
   "source": [
    "from func import get_similar_users\n",
    "\n",
    "# def rec_from_similar_user():\n",
    "user_id_sim = int(input(\"We will suggest movies you may also like based on similar user, \\\n",
    "    please enter your user ID:\"))\n",
    "if user_id_sim in merged_df['userId'].values:\n",
    "    most_similar = get_similar_users(user_id_sim, merged_df)\n",
    "    titles_list, ratings_list = get_user_watch_history(most_similar, merged_df)\n",
    "    response_sim = client.chat.completions.create(\n",
    "    model=\"gpt-3.5-turbo\",\n",
    "    messages=[\n",
    "    {\"role\": \"system\", \"content\": \"You are a movie recommender system that will suggest movies \\\n",
    "        that the user may also like based on similar user's watch histories. From the most similar \\\n",
    "        user's watch histories, please recommend 10 movies that this user would enjoy watching \\\n",
    "        and predict the rating of these 10 movies given by this user\"},\n",
    "    {\"role\": \"user\", \"content\": f\"User {user_id_sim}'s most similar user is user {most_similar},\\\n",
    "        which has previously watched {titles_list} and the corresponded ratings are {ratings_list}.\\\n",
    "        Please suggest 10 movies that user {user_id_sim} may also like and provide rating prediction\\\n",
    "        of those 10 movies based on user preferences\"}\n",
    "    ]\n",
    ")\n",
    "else:\n",
    "    print(\"This is not a valid user ID, please try again\")   \n",
    "\n",
    "print(response_sim.choices[0].message.content)"
   ]
  },
  {
   "cell_type": "markdown",
   "metadata": {},
   "source": [
    "# Rating prediction for evaluation metric"
   ]
  },
  {
   "cell_type": "code",
   "execution_count": 1,
   "metadata": {},
   "outputs": [
    {
     "ename": "ValueError",
     "evalue": "invalid literal for int() with base 10: ''",
     "output_type": "error",
     "traceback": [
      "\u001b[0;31m---------------------------------------------------------------------------\u001b[0m",
      "\u001b[0;31mValueError\u001b[0m                                Traceback (most recent call last)",
      "\u001b[1;32m/Users/yiyang/Desktop/RL Apps/LLM_Item_Recommendation/prompting.ipynb Cell 9\u001b[0m line \u001b[0;36m3\n\u001b[1;32m      <a href='vscode-notebook-cell:/Users/yiyang/Desktop/RL%20Apps/LLM_Item_Recommendation/prompting.ipynb#X11sZmlsZQ%3D%3D?line=0'>1</a>\u001b[0m \u001b[39mfrom\u001b[39;00m \u001b[39mfunc\u001b[39;00m \u001b[39mimport\u001b[39;00m get_user_watch_history_20\n\u001b[1;32m      <a href='vscode-notebook-cell:/Users/yiyang/Desktop/RL%20Apps/LLM_Item_Recommendation/prompting.ipynb#X11sZmlsZQ%3D%3D?line=1'>2</a>\u001b[0m \u001b[39m# def rating_prediction()\u001b[39;00m\n\u001b[0;32m----> <a href='vscode-notebook-cell:/Users/yiyang/Desktop/RL%20Apps/LLM_Item_Recommendation/prompting.ipynb#X11sZmlsZQ%3D%3D?line=2'>3</a>\u001b[0m user_id_rating \u001b[39m=\u001b[39m \u001b[39mint\u001b[39;49m(\u001b[39minput\u001b[39;49m(\u001b[39m\"\u001b[39;49m\u001b[39mWe want to predict movie ratings from your watch list, please enter your user ID:\u001b[39;49m\u001b[39m\"\u001b[39;49m))\n\u001b[1;32m      <a href='vscode-notebook-cell:/Users/yiyang/Desktop/RL%20Apps/LLM_Item_Recommendation/prompting.ipynb#X11sZmlsZQ%3D%3D?line=3'>4</a>\u001b[0m \u001b[39mif\u001b[39;00m user_id_rating \u001b[39min\u001b[39;00m merged_df[\u001b[39m'\u001b[39m\u001b[39muserId\u001b[39m\u001b[39m'\u001b[39m]\u001b[39m.\u001b[39mvalues:\n\u001b[1;32m      <a href='vscode-notebook-cell:/Users/yiyang/Desktop/RL%20Apps/LLM_Item_Recommendation/prompting.ipynb#X11sZmlsZQ%3D%3D?line=4'>5</a>\u001b[0m     titles_list, ratings_list \u001b[39m=\u001b[39m get_user_watch_history(user_id_rating, merged_df)\n",
      "\u001b[0;31mValueError\u001b[0m: invalid literal for int() with base 10: ''"
     ]
    }
   ],
   "source": [
    "from func import get_user_watch_history_20\n",
    "# def rating_prediction()\n",
    "user_id_rating = int(input(\"We want to predict movie ratings from your watch list, please enter your user ID:\"))\n",
    "if user_id_rating in merged_df['userId'].values:\n",
    "    titles_list, ratings_list = get_user_watch_history(user_id_rating, merged_df)\n",
    "    test_title_list, true_ratings = get_user_watch_history_20(user_id_rating, merged_df, fraction=0.8)\n",
    "    response_rating = client.chat.completions.create(\n",
    "    model=\"gpt-3.5-turbo\",\n",
    "    messages=[\n",
    "    {\"role\": \"system\", \"content\": \"You are a movie rating prediction system that will predict rating \\\n",
    "        with a list of titles given\"},\n",
    "    {\"role\": \"user\", \"content\": f\"User {user_id_rating}'s previously watch movies include {titles_list} \\\n",
    "        and the corresponded ratings are {ratings_list}. Based on these ratings, please provide a list \\\n",
    "        of prediction rating corresponded to {test_title_list} with the format of movie title - \\\n",
    "        Predicted Rating: ratings\"}\n",
    "    ]\n",
    ")\n",
    "else:\n",
    "    print(\"This is not a valid user ID, please try again\")   \n",
    "\n",
    "print(response_rating.choices[0].message.content)"
   ]
  },
  {
   "cell_type": "markdown",
   "metadata": {},
   "source": [
    "# Evaluation metric (RMSE of the prediction)"
   ]
  },
  {
   "cell_type": "code",
   "execution_count": 4,
   "metadata": {},
   "outputs": [],
   "source": [
    "from func import extract_ratings\n",
    "message = f\"{response_rating.choices[0].message.content}\"\n",
    "movies_and_ratings = extract_ratings(message)\n",
    "predicted_ratings = []\n",
    "for movie, rating in movies_and_ratings:\n",
    "    predicted_ratings.append(rating)"
   ]
  },
  {
   "cell_type": "code",
   "execution_count": 5,
   "metadata": {},
   "outputs": [
    {
     "name": "stdout",
     "output_type": "stream",
     "text": [
      "RMSE: 0.522141340009933\n"
     ]
    }
   ],
   "source": [
    "import math\n",
    "from func import calculate_rmse\n",
    "rmse_score = calculate_rmse(predicted_ratings, true_ratings)\n",
    "print(f\"RMSE: {rmse_score}\")"
   ]
  },
  {
   "cell_type": "markdown",
   "metadata": {},
   "source": [
    "# To Do List\n",
    "- Organized prompts into function or class\n",
    "- put into .py file\n",
    "- Think about evaluation metric to compare baseline and message from prompt\n",
    "- requirement.txt file\n",
    "- update readme"
   ]
  }
 ],
 "metadata": {
  "kernelspec": {
   "display_name": "base",
   "language": "python",
   "name": "python3"
  },
  "language_info": {
   "codemirror_mode": {
    "name": "ipython",
    "version": 3
   },
   "file_extension": ".py",
   "mimetype": "text/x-python",
   "name": "python",
   "nbconvert_exporter": "python",
   "pygments_lexer": "ipython3",
   "version": "3.9.6"
  },
  "orig_nbformat": 4
 },
 "nbformat": 4,
 "nbformat_minor": 2
}
