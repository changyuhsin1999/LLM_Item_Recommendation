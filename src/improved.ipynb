{
 "cells": [
  {
   "cell_type": "markdown",
   "metadata": {},
   "source": [
    "When selecting movies, the most important features to me are the storyline, character development, cinematography, directing, and overall production quality. I also appreciate thought-provoking themes and strong performances from the cast. Additionally, the genre, originality, and cultural impact of the film might influence my selection.\n"
   ]
  },
  {
   "cell_type": "code",
   "execution_count": 1,
   "metadata": {},
   "outputs": [],
   "source": [
    "import os\n",
    "import pandas as pd\n",
    "from openai import OpenAI\n",
    "from func import get_user_watch_history\n",
    "\n",
    "client = OpenAI()\n",
    "\n",
    "merged_df = pd.read_csv(\"data/merged_df.csv\")\n",
    "unique_movie_titles = merged_df['title'].unique().tolist()\n",
    "system_prompt = \"You are a movie recommender system that will compare user previous watch history and ratings.\"\n",
    "\n",
    "user_id = 137\n",
    "candidate_size = 100"
   ]
  },
  {
   "cell_type": "code",
   "execution_count": 2,
   "metadata": {},
   "outputs": [],
   "source": [
    "from sklearn.model_selection import train_test_split\n",
    "data = merged_df\n",
    "user_df = data[data[\"userId\"] == user_id]\n",
    "\n",
    "train_df, test_df = train_test_split(user_df, test_size=0.2, random_state=42)\n",
    "train_title, train_rating = train_df[\"title\"], train_df[\"rating\"]\n",
    "test_title, test_rating = test_df[\"title\"], test_df[\"rating\"]"
   ]
  },
  {
   "cell_type": "code",
   "execution_count": 3,
   "metadata": {},
   "outputs": [],
   "source": [
    "import numpy as np\n",
    "import random\n",
    "movie_df = list(pd.unique(data[\"title\"]))\n",
    "candidate = random.sample(movie_df, k=candidate_size)"
   ]
  },
  {
   "cell_type": "code",
   "execution_count": 4,
   "metadata": {},
   "outputs": [
    {
     "name": "stdout",
     "output_type": "stream",
     "text": [
      "The length of the training set: 112\n",
      "The length of the testing set: 29\n",
      "The length of the candidate set: 100\n"
     ]
    }
   ],
   "source": [
    "print(f\"The length of the training set: {len(train_title)}\")\n",
    "print(f\"The length of the testing set: {len(test_title)}\")\n",
    "print(f\"The length of the candidate set: {len(candidate)}\")"
   ]
  },
  {
   "cell_type": "code",
   "execution_count": 5,
   "metadata": {},
   "outputs": [],
   "source": [
    "def clean_candidate(candidate, train_title, test_title):\n",
    "    to_remove = []\n",
    "    for movie in candidate:\n",
    "        if movie in train_title:\n",
    "            ro_remove.append(movie)\n",
    "    for movie in to_remove:\n",
    "        candidate.append(movie)\n",
    "    for movie in test_title:\n",
    "        if movie not in candidate:\n",
    "            candidate.append(movie) \n",
    "    return candidate\n",
    "            \n",
    "candidate = clean_candidate(candidate, train_title, test_title)"
   ]
  },
  {
   "cell_type": "code",
   "execution_count": 6,
   "metadata": {},
   "outputs": [],
   "source": [
    "movie_rating = \"\"\n",
    "for i in range(len(train_title)):\n",
    "    movie_rating += f\"{train_title.iloc[i]}: {train_rating.iloc[i]} \\n\"\n",
    "\n",
    "if user_id in merged_df['userId'].values:\n",
    "    titles_list, ratings_list = get_user_watch_history(user_id, merged_df)\n",
    "    messages=[\n",
    "        # {\"role\": \"user\", \"content\": f\"Candidate Set(candidate movies): \"},\n",
    "        {\"role\": \"user\", \"content\": f\"The movies I have watched(watched movies): {movie_rating}\"},\n",
    "        {\"role\": \"user\", \"content\": f\"Step 1: What features are most important to me when selecting movies? \"},\n",
    "    ]\n",
    "    completion = client.chat.completions.create(\n",
    "        model=\"gpt-3.5-turbo-1106\",\n",
    "        messages=messages\n",
    "    )\n",
    "\n",
    "answer1 = (completion.choices[0].message.content)\n"
   ]
  },
  {
   "cell_type": "code",
   "execution_count": 7,
   "metadata": {},
   "outputs": [
    {
     "name": "stdout",
     "output_type": "stream",
     "text": [
      "Based on your personal movie preferences, the selected movies in descending order of preference would be:\n",
      "\n",
      "1. Psycho (1960)\n",
      "2. Apocalypse Now (1979)\n",
      "3. Roger & Me (1989)\n",
      "4. Alien (1979)\n",
      "5. Gandhi (1982)\n"
     ]
    }
   ],
   "source": [
    "# movie_rating = \"\"\n",
    "# for i in range(len(train_title)):\n",
    "#     movie_rating += f\"{train_title.iloc[i]}: {train_rating.iloc[i]} \\n\"\n",
    "\n",
    "messages=[\n",
    "    {\"role\": \"user\", \"content\": f\"The movies I have watched(watched movies) and their ratings: {movie_rating}\"},\n",
    "    {\"role\": \"user\", \"content\": f\"Step 1: What features are most important to me when selecting movies? \"},\n",
    "]\n",
    "\n",
    "messages.append({\"role\": \"assistant\", \"content\": answer1})\n",
    "                \n",
    "step2 = \"You will select the movies (at most 5 movies) that appeal to me the most from the list of movies \\\n",
    "    I have watched, based on my personal preferences. The selected movies will be presented in descending \\\n",
    "    order of preference. (Format: no. a watched movie).\"\n",
    "    \n",
    "messages.append({\"role\": \"user\", \"content\": step2})\n",
    "                \n",
    "completion = client.chat.completions.create(\n",
    "        model=\"gpt-3.5-turbo-1106\",\n",
    "        messages=messages\n",
    "    )\n",
    "\n",
    "answer2 = (completion.choices[0].message.content)\n",
    "print(answer2)"
   ]
  },
  {
   "cell_type": "code",
   "execution_count": 8,
   "metadata": {},
   "outputs": [
    {
     "name": "stdout",
     "output_type": "stream",
     "text": [
      "Sure, here are movie recommendations from the Candidate Set similar to the ones you've watched:\n",
      "\n",
      "1. [Psycho (1960) : <- The Cabinet of Dr. Caligari (1920) ->]\n",
      "2. [Apocalypse Now (1979) : <- Lawrence of Arabia (1962) ->]\n",
      "3. [Roger & Me (1989) : <- 20 Feet from Stardom (2013) ->]\n",
      "4. [Alien (1979) : <- Invasion of the Body Snatchers (1978) ->]\n",
      "5. [Gandhi (1982) : <- Hotel Rwanda (2004) ->]\n",
      "6. [Psycho (1960) : <- Rear Window (1954) ->]\n",
      "7. [Apocalypse Now (1979) : <- The Deer Hunter (1978) ->]\n",
      "8. [Alien (1979) : <- The Thing (1982) ->]\n",
      "9. [Gandhi (1982) : <- Schindler's List (1993) ->]\n",
      "10. [Roger & Me (1989) : <- Bowling for Columbine (2002) ->]\n",
      "\n",
      "Please note that I have selected these movies from the provided Candidate set, ensuring they are available within the given options.\n"
     ]
    }
   ],
   "source": [
    "\n",
    "messages.append({\"role\": \"assistant\", \"content\": answer2})\n",
    "\n",
    "messages.append({\"role\": \"user\", \"content\": f\"Candidate Set(candidate movies): {', '.join(candidate)}\"},)\n",
    "                \n",
    "step3 = \"Can you recommend 10 different movies only from the Candidate Set similar to the selected \\\n",
    "    movies I've watched (Format: [no. a watched movie : <- a candidate movie ->])? Check that your recommendation is in the candidate set\"\n",
    "    \n",
    "messages.append({\"role\": \"user\", \"content\": step3})\n",
    "                \n",
    "completion = client.chat.completions.create(\n",
    "        model=\"gpt-3.5-turbo-1106\",\n",
    "        messages=messages\n",
    "    )\n",
    "\n",
    "answer3 = (completion.choices[0].message.content)\n",
    "print(answer3)"
   ]
  },
  {
   "cell_type": "code",
   "execution_count": 9,
   "metadata": {},
   "outputs": [
    {
     "name": "stdout",
     "output_type": "stream",
     "text": [
      "The Cabinet of Dr. Caligari (1920) not in candidate\n",
      "Lawrence of Arabia (1962) in testing\n",
      "20 Feet from Stardom (2013) not in candidate\n",
      "Invasion of the Body Snatchers (1978) not in candidate\n",
      "Hotel Rwanda (2004) in testing\n",
      "Rear Window (1954) not in candidate\n",
      "The Deer Hunter (1978) not in candidate\n",
      "The Thing (1982) not in candidate\n",
      "Schindler's List (1993) not in candidate\n",
      "Bowling for Columbine (2002) not in candidate\n"
     ]
    },
    {
     "data": {
      "text/plain": [
       "0.2"
      ]
     },
     "execution_count": 9,
     "metadata": {},
     "output_type": "execute_result"
    }
   ],
   "source": [
    "import re\n",
    "\n",
    "def parse_answer3(answer3):\n",
    "    lines = answer3.split('\\n')\n",
    "    pattern = r'<- (.*?) ->'\n",
    "    movie_pred = []\n",
    "    for line in lines:\n",
    "        match = re.search(pattern, line)\n",
    "        if match:\n",
    "            title = match.group(1)\n",
    "            movie_pred.append(title)\n",
    "    return movie_pred\n",
    "\n",
    "def accuracy(movie_pred, test_title):\n",
    "    correct = 0\n",
    "    test_title_list = list(test_title)\n",
    "    for movie in movie_pred:\n",
    "        if movie not in candidate:\n",
    "            print(f\"{movie} not in candidate\")\n",
    "        if movie in test_title_list:\n",
    "            print(f\"{movie} in testing\")\n",
    "            correct += 1\n",
    "    return correct / len(movie_pred)\n",
    "\n",
    "movie_pred = parse_answer3(answer3)\n",
    "accuracy(movie_pred, test_title)"
   ]
  },
  {
   "cell_type": "code",
   "execution_count": 10,
   "metadata": {},
   "outputs": [],
   "source": [
    "# title = \"Cabaret\"\n",
    "# for movie in candidate:\n",
    "#     if title in movie:\n",
    "#         prints(movie + \"in candidate\")\n",
    "# for movie in test_title:\n",
    "#     if title in movie:\n",
    "#         print(movie + \"in test\")\n",
    "# for movie in train_title:\n",
    "#     if title in movie:\n",
    "#         print(movie + \"in train\")"
   ]
  },
  {
   "cell_type": "code",
   "execution_count": 11,
   "metadata": {},
   "outputs": [
    {
     "name": "stdout",
     "output_type": "stream",
     "text": [
      "Forrest Gump (1994) in testing\n",
      "Matrix, The (1999) in testing\n",
      "Fight Club (1999) in testing\n",
      "Star Wars: Episode VI - Return of the Jedi (1983) in testing\n",
      "Saving Private Ryan (1998) in testing\n",
      "Lord of the Rings: The Two Towers, The (2002) in testing\n",
      "Finding Nemo (2003) in testing\n",
      "Titanic (1997) in testing\n",
      "Godfather: Part II, The (1974) in testing\n"
     ]
    },
    {
     "data": {
      "text/plain": [
       "0.9"
      ]
     },
     "execution_count": 11,
     "metadata": {},
     "output_type": "execute_result"
    }
   ],
   "source": [
    "movie_popularity = merged_df.groupby('title').size().sort_values(ascending=False)\n",
    "baseline_pred = []\n",
    "for movie in movie_popularity.index:\n",
    "    if movie in candidate:\n",
    "        baseline_pred.append(movie)\n",
    "    if len(baseline_pred) >= 10:\n",
    "        break\n",
    "accuracy(baseline_pred, test_title)"
   ]
  },
  {
   "cell_type": "markdown",
   "metadata": {},
   "source": [
    "Results:\n",
    "\n",
    "1. The GPT model gives results not in testing even if we specify a testing set. It only support a candidate set of around 100.\n",
    "2. The GPT gives recommendation with accuracy 0.5, while the \"most popular\" recommender only gives recommendation with accuracy 0.2."
   ]
  }
 ],
 "metadata": {
  "kernelspec": {
   "display_name": "base",
   "language": "python",
   "name": "python3"
  },
  "language_info": {
   "codemirror_mode": {
    "name": "ipython",
    "version": 3
   },
   "file_extension": ".py",
   "mimetype": "text/x-python",
   "name": "python",
   "nbconvert_exporter": "python",
   "pygments_lexer": "ipython3",
   "version": "3.9.6"
  },
  "orig_nbformat": 4
 },
 "nbformat": 4,
 "nbformat_minor": 2
}
