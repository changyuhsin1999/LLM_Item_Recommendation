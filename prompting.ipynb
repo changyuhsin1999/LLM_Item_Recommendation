{
 "cells": [
  {
   "cell_type": "code",
   "execution_count": 2,
   "metadata": {},
   "outputs": [
    {
     "name": "stdout",
     "output_type": "stream",
     "text": [
      "Based on the user's previously watched movies and ratings, here are 10 movie recommendations:\n",
      "\n",
      "1. The Dark Knight Rises (2012)\n",
      "2. The Shawshank Redemption (1994)\n",
      "3. The Avengers (2012)\n",
      "4. The Wolf of Wall Street (2013)\n",
      "5. The Social Network (2010)\n",
      "6. The Grand Budapest Hotel (2014)\n",
      "7. Mad Max: Fury Road (2015)\n",
      "8. Django Unchained (2012)\n",
      "9. Guardians of the Galaxy Vol. 2 (2017)\n",
      "10. The Martian (2015)\n",
      "\n",
      "Predicted ratings for these 10 movies based on user preferences:\n",
      "\n",
      "1. The Dark Knight Rises (2012) - Predicted rating: 4.5\n",
      "2. The Shawshank Redemption (1994) - Predicted rating: 5.0\n",
      "3. The Avengers (2012) - Predicted rating: 4.0\n",
      "4. The Wolf of Wall Street (2013) - Predicted rating: 4.5\n",
      "5. The Social Network (2010) - Predicted rating: 4.0\n",
      "6. The Grand Budapest Hotel (2014) - Predicted rating: 4.0\n",
      "7. Mad Max: Fury Road (2015) - Predicted rating: 4.0\n",
      "8. Django Unchained (2012) - Predicted rating: 4.5\n",
      "9. Guardians of the Galaxy Vol. 2 (2017) - Predicted rating: 4.5\n",
      "10. The Martian (2015) - Predicted rating: 4.5\n"
     ]
    }
   ],
   "source": [
    "import os\n",
    "import pandas as pd\n",
    "from openai import OpenAI\n",
    "from func import get_user_watch_history\n",
    "\n",
    "client = OpenAI()\n",
    "\n",
    "merged_df = pd.read_csv(\"data/merged_df.csv\")\n",
    "unique_movie_titles = merged_df['title'].unique().tolist()\n",
    "system_prompt = \"You are a movie recommender system that will compare user previous watch history and ratings.\"\n",
    "\n",
    "# def get_movies_and_predict_ratings():\n",
    "user_response = input(\"Are you planning to watch the movie alone or with a partner? (alone[a]/partner[p]): \").strip().lower()\n",
    "if user_response in ['alone', 'a']:\n",
    "  user_id = int(input(\"Enter Your User ID:\"))\n",
    "  if user_id in merged_df['userId'].values:\n",
    "    titles_list, ratings_list = get_user_watch_history(user_id, merged_df)\n",
    "    completion = client.chat.completions.create(\n",
    "    model=\"gpt-3.5-turbo\",\n",
    "    messages=[\n",
    "      {\"role\": \"system\", \"content\": f\"{system_prompt} Based on the genre and ratings of those movies that this particular user gave, please recommend 10 movie that this user would enjoy watching and predict the rating of these 10 movies given by this user\"},\n",
    "      {\"role\": \"user\", \"content\": f\"User {user_id}'s previously watch movies include {titles_list} and the corresponded ratings are {ratings_list}. Please suggest 10 movie based on the watch history and predict ratings of those 10 movies based on user preferences\"}\n",
    "    ]\n",
    "  )\n",
    "  else:\n",
    "    print(\"This is not a valid user ID, please try again\")\n",
    "elif user_response in ['partner', 'p']:\n",
    "  user_A = int(input(\"Enter Your User ID:\"))\n",
    "  user_B = int(input(\"Enter Your Partner's User ID:\"))\n",
    "  if user_A and user_B in merged_df['userId'].values:\n",
    "    titles_list_A, ratings_list_A = get_user_watch_history(user_A, merged_df)\n",
    "    titles_list_B, ratings_list_B = get_user_watch_history(user_B, merged_df)\n",
    "    completion = client.chat.completions.create(\n",
    "    model=\"gpt-3.5-turbo\",\n",
    "    messages=[\n",
    "      {\"role\": \"system\", \"content\": f\"{system_prompt} Based on the genre and ratings of movies from 2 users, please recommend 10 movie that these 2 users would enjoy watching together and predict the rating of these 10 movies\"},\n",
    "      {\"role\": \"user\", \"content\": f\"User {user_A}'s previously watch movies include {titles_list_A} and the corresponded ratings are {ratings_list_A}. User {user_B}'s previously watch movies include {titles_list_B} and the corresponded ratings are {ratings_list_B} Please suggest 10 movie that both users would enjoy watching based on the watch histories and predict specific ratings of those 10 movies based on user preferences\"}\n",
    "    ]\n",
    "  )\n",
    "else:\n",
    "    print(\"Invalid response. Please answer with 'alone','a' or 'partner','p'.\")\n",
    "    \n",
    "\n",
    "print(completion.choices[0].message.content) "
   ]
  },
  {
   "cell_type": "markdown",
   "metadata": {},
   "source": [
    "# Watch party with 2 userID\n",
    "user_A = 23\n",
    "\n",
    "user_B = 445"
   ]
  },
  {
   "cell_type": "code",
   "execution_count": 17,
   "metadata": {},
   "outputs": [
    {
     "name": "stdout",
     "output_type": "stream",
     "text": [
      "To recommend movies that both User 23 and User 445 would enjoy watching together, we can compare their previously watched movies and find common genres and high-rated movies. Here are 10 movie recommendations:\n",
      "\n",
      "1. \"Fight Club\" - Genre: Drama, Thriller - Predicted Rating: 4.5\n",
      "2. \"Pulp Fiction\" - Genre: Crime, Drama - Predicted Rating: 4.5\n",
      "3. \"Inception\" - Genre: Action, Sci-Fi, Thriller - Predicted Rating: 4.5\n",
      "4. \"Eternal Sunshine of the Spotless Mind\" - Genre: Drama, Romance, Sci-Fi - Predicted Rating: 4.5\n",
      "5. \"The Shawshank Redemption\" - Genre: Drama - Predicted Rating: 4.5\n",
      "6. \"The Dark Knight\" - Genre: Action, Crime, Drama - Predicted Rating: 4.5\n",
      "7. \"The Matrix\" - Genre: Action, Sci-Fi - Predicted Rating: 4.5\n",
      "8. \"The Silence of the Lambs\" - Genre: Crime, Drama, Thriller - Predicted Rating: 4.5\n",
      "9. \"Reservoir Dogs\" - Genre: Crime, Drama, Thriller - Predicted Rating: 4.0\n",
      "10. \"Mad Max: Fury Road\" - Genre: Action, Adventure, Sci-Fi - Predicted Rating: 4.0\n",
      "\n",
      "Please note that the predicted ratings are based on the collective preferences of both users and the similarities in their previously watched movies. The actual ratings may vary based on individual tastes.\n"
     ]
    }
   ],
   "source": [
    "print(completion.choices[0].message.content)"
   ]
  },
  {
   "cell_type": "markdown",
   "metadata": {},
   "source": [
    "# Recommend based on genre"
   ]
  },
  {
   "cell_type": "code",
   "execution_count": 21,
   "metadata": {},
   "outputs": [
    {
     "name": "stdout",
     "output_type": "stream",
     "text": [
      "Based on User 367's favorite genres, here are 10 movie recommendations:\n",
      "\n",
      "1. \"Toy Story\" (Genre: Children, Rating: 4.5/5)\n",
      "2. \"E.T. the Extra-Terrestrial\" (Genre: Sci-Fi, Rating: 4/5)\n",
      "3. \"Inception\" (Genre: Sci-Fi, Crime, Rating: 4.5/5)\n",
      "4. \"The Dark Knight\" (Genre: Crime, Rating: 5/5)\n",
      "5. \"Jurassic Park\" (Genre: Sci-Fi, Rating: 4/5)\n",
      "6. \"Home Alone\" (Genre: Children, Crime, Rating: 4/5)\n",
      "7. \"Harry Potter and the Sorcerer's Stone\" (Genre: Children, Rating: 4/5)\n",
      "8. \"Blade Runner\" (Genre: Sci-Fi, Crime, Rating: 4.5/5)\n",
      "9. \"The Incredibles\" (Genre: Children, Sci-Fi, Rating: 4/5)\n",
      "10. \"The Shawshank Redemption\" (Genre: Crime, Rating: 5/5)\n",
      "\n",
      "Please note that the movie ratings are just estimates and may vary according to personal taste.\n"
     ]
    }
   ],
   "source": [
    "from func import find_top_3_genre\n",
    "\n",
    "# def get_movie_genre():\n",
    "user_id_genre = int(input(\"We will suggest movies based on your favorite genre, please enter your user ID:\"))\n",
    "if user_id_genre in merged_df['userId'].values:\n",
    "    top_3_genre = find_top_3_genre(user_id_genre,merged_df)\n",
    "    genre_response = client.chat.completions.create(\n",
    "    model=\"gpt-3.5-turbo\",\n",
    "    messages=[\n",
    "      {\"role\": \"system\", \"content\": \"You are a movie recommender system that will recommend 10 movie in this user's favorite genres and predict the rating of these 10 movies given by this user\"},\n",
    "      {\"role\": \"user\", \"content\": f\"User {user_id_genre}'s favorite genre include {top_3_genre}. Please suggest 10 movie in these genre for the user\"}\n",
    "    ]\n",
    ")\n",
    "else:\n",
    "    print(\"This is not a valid user ID, please try again\")\n",
    "\n",
    "print(genre_response.choices[0].message.content)"
   ]
  },
  {
   "cell_type": "markdown",
   "metadata": {},
   "source": [
    "# Recommend based on similar user"
   ]
  },
  {
   "cell_type": "code",
   "execution_count": 23,
   "metadata": {},
   "outputs": [
    {
     "name": "stdout",
     "output_type": "stream",
     "text": [
      "Based on the watch histories of the most similar user (user 432), here are 10 movie recommendations for user 351:\n",
      "\n",
      "1. The Dark Knight (2008) - Predicted rating: 4.0\n",
      "2. The Shawshank Redemption (1994) - Predicted rating: 4.5\n",
      "3. Pulp Fiction (1994) - Predicted rating: 4.0\n",
      "4. Inception (2010) - Predicted rating: 4.0\n",
      "5. The Silence of the Lambs (1991) - Predicted rating: 4.0\n",
      "6. Fight Club (1999) - Predicted rating: 4.5\n",
      "7. The Matrix (1999) - Predicted rating: 4.0\n",
      "8. The Prestige (2006) - Predicted rating: 4.0\n",
      "9. The Departed (2006) - Predicted rating: 4.0\n",
      "10. Gladiator (2000) - Predicted rating: 4.0\n",
      "\n",
      "Please note that the predicted ratings are based on the preferences of user 432 and may not necessarily reflect the exact ratings that user 351 would give.\n"
     ]
    }
   ],
   "source": [
    "from func import get_similar_users\n",
    "\n",
    "# def rec_from_similar_user():\n",
    "user_id_sim = int(input(\"We will suggest movies you may also like based on similar user, please enter your user ID:\"))\n",
    "if user_id_sim in merged_df['userId'].values:\n",
    "    most_similar = get_similar_users(user_id_sim, merged_df)\n",
    "    titles_list, ratings_list = get_user_watch_history(most_similar, merged_df)\n",
    "    response_sim = client.chat.completions.create(\n",
    "    model=\"gpt-3.5-turbo\",\n",
    "    messages=[\n",
    "    {\"role\": \"system\", \"content\": \"You are a movie recommender system that will suggest movies that the user may also like based on similar user's watch histories. From the most similar user's watch histories, please recommend 10 movies that this user would enjoy watching and predict the rating of these 10 movies given by this user\"},\n",
    "    {\"role\": \"user\", \"content\": f\"User {user_id_sim}'s most similar user is user {most_similar}, which has previously watched {titles_list} and the corresponded ratings are {ratings_list}. Please suggest 10 movies that user {user_id_sim} may also like and provide rating prediction of those 10 movies based on user preferences\"}\n",
    "    ]\n",
    ")\n",
    "else:\n",
    "    print(\"This is not a valid user ID, please try again\")   \n",
    "\n",
    "print(response_sim.choices[0].message.content)"
   ]
  },
  {
   "cell_type": "markdown",
   "metadata": {},
   "source": [
    "# Rating prediction for evaluation metric"
   ]
  },
  {
   "cell_type": "code",
   "execution_count": 3,
   "metadata": {},
   "outputs": [
    {
     "name": "stdout",
     "output_type": "stream",
     "text": [
      "Heat (1995) - Predicted Rating: 4.2\n",
      "Mission: Impossible (1996) - Predicted Rating: 3.7\n",
      "Raiders of the Lost Ark (Indiana Jones and the Raiders of the Lost Ark) (1981) - Predicted Rating: 4.4\n",
      "Clockwork Orange, A (1971) - Predicted Rating: 4.1\n",
      "Enemy of the State (1998) - Predicted Rating: 3.8\n",
      "Green Mile, The (1999) - Predicted Rating: 4.6\n",
      "Teenage Mutant Ninja Turtles III (1993) - Predicted Rating: 2.8\n",
      "X-Men (2000) - Predicted Rating: 4.0\n",
      "Good Will Hunting (1997) - Predicted Rating: 4.3\n",
      "Departed, The (2006) - Predicted Rating: 4.2\n",
      "Deer Hunter, The (1978) - Predicted Rating: 4.6\n",
      "Amadeus (1984) - Predicted Rating: 4.3\n",
      "O Brother, Where Art Thou? (2000) - Predicted Rating: 4.1\n",
      "Pretty Woman (1990) - Predicted Rating: 3.9\n",
      "Mission: Impossible II (2000) - Predicted Rating: 3.5\n",
      "Shrek (2001) - Predicted Rating: 4.1\n",
      "Spider-Man (2002) - Predicted Rating: 4.3\n",
      "X2: X-Men United (2003) - Predicted Rating: 4.2\n",
      "Lord of the Rings: The Return of the King, The (2003) - Predicted Rating: 4.6\n",
      "Shrek 2 (2004) - Predicted Rating: 4.2\n",
      "Incredibles, The (2004) - Predicted Rating: 4.4\n",
      "Sin City (2005) - Predicted Rating: 4.3\n",
      "Hotel Rwanda (2004) - Predicted Rating: 4.4\n",
      "Godfather, The (1972) - Predicted Rating: 4.6\n",
      "Princess Mononoke (Mononoke-hime) (1997) - Predicted Rating: 4.5\n",
      "Donnie Darko (2001) - Predicted Rating: 4.0\n",
      "Die Hard (1988) - Predicted Rating: 4.1\n",
      "History of Violence, A (2005) - Predicted Rating: 4.2\n",
      "Little Miss Sunshine (2006) - Predicted Rating: 4.4\n",
      "Batman: Mask of the Phantasm (1993) - Predicted Rating: 3.7\n",
      "Teenage Mutant Ninja Turtles (1990) - Predicted Rating: 3.2\n",
      "Blade II (2002) - Predicted Rating: 3.8\n",
      "Invincible (2006) - Predicted Rating: 3.9\n",
      "3:10 to Yuma (2007) - Predicted Rating: 4.1\n",
      "Grave of the Fireflies (Hotaru no haka) (1988) - Predicted Rating: 4.6\n",
      "Hustler, The (1961) - Predicted Rating: 4.3\n",
      "Crow: Salvation, The (2000) - Predicted Rating: 3.9\n",
      "Kiki's Delivery Service (Majo no takkyûbin) (1989) - Predicted Rating: 4.5\n"
     ]
    }
   ],
   "source": [
    "from func import get_user_watch_history_20\n",
    "# def rating_prediction()\n",
    "user_id_rating = int(input(\"We want to predict movie ratings from your watch list, please enter your user ID:\"))\n",
    "if user_id_rating in merged_df['userId'].values:\n",
    "    titles_list, ratings_list = get_user_watch_history(user_id_rating, merged_df)\n",
    "    test_title_list, true_ratings = get_user_watch_history_20(user_id_rating, merged_df, fraction=0.8)\n",
    "    response_rating = client.chat.completions.create(\n",
    "    model=\"gpt-3.5-turbo\",\n",
    "    messages=[\n",
    "    {\"role\": \"system\", \"content\": \"You are a movie rating prediction system that will predict rating with a list of titles given\"},\n",
    "    {\"role\": \"user\", \"content\": f\"User {user_id_rating}'s previously watch movies include {titles_list} and the corresponded ratings are {ratings_list}. Based on these ratings, please provide a list of prediction rating corresponded to {test_title_list} with the format of movie title - Predicted Rating: ratings\"}\n",
    "    ]\n",
    ")\n",
    "else:\n",
    "    print(\"This is not a valid user ID, please try again\")   \n",
    "\n",
    "print(response_rating.choices[0].message.content)"
   ]
  },
  {
   "cell_type": "markdown",
   "metadata": {},
   "source": [
    "# Evaluation metric (RMSE of the prediction)"
   ]
  },
  {
   "cell_type": "code",
   "execution_count": 4,
   "metadata": {},
   "outputs": [],
   "source": [
    "from func import extract_ratings\n",
    "message = f\"{response_rating.choices[0].message.content}\"\n",
    "movies_and_ratings = extract_ratings(message)\n",
    "predicted_ratings = []\n",
    "for movie, rating in movies_and_ratings:\n",
    "    predicted_ratings.append(rating)"
   ]
  },
  {
   "cell_type": "code",
   "execution_count": 5,
   "metadata": {},
   "outputs": [
    {
     "name": "stdout",
     "output_type": "stream",
     "text": [
      "RMSE: 0.522141340009933\n"
     ]
    }
   ],
   "source": [
    "import math\n",
    "from func import calculate_rmse\n",
    "rmse_score = calculate_rmse(predicted_ratings, true_ratings)\n",
    "print(f\"RMSE: {rmse_score}\")"
   ]
  },
  {
   "cell_type": "markdown",
   "metadata": {},
   "source": [
    "# To Do List\n",
    "- Organized prompts into function or class\n",
    "- put into .py file\n",
    "- Think about evaluation metric to compare baseline and message from prompt\n",
    "- requirement.txt file\n",
    "- update readme"
   ]
  }
 ],
 "metadata": {
  "kernelspec": {
   "display_name": "base",
   "language": "python",
   "name": "python3"
  },
  "language_info": {
   "codemirror_mode": {
    "name": "ipython",
    "version": 3
   },
   "file_extension": ".py",
   "mimetype": "text/x-python",
   "name": "python",
   "nbconvert_exporter": "python",
   "pygments_lexer": "ipython3",
   "version": "3.9.7"
  },
  "orig_nbformat": 4
 },
 "nbformat": 4,
 "nbformat_minor": 2
}
