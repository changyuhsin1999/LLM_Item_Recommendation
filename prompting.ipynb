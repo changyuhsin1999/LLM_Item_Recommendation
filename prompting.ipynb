{
 "cells": [
  {
   "cell_type": "markdown",
   "metadata": {},
   "source": [
    "# Load Data"
   ]
  },
  {
   "cell_type": "code",
   "execution_count": 1,
   "metadata": {},
   "outputs": [],
   "source": [
    "import os\n",
    "import pandas as pd\n",
    "from openai import OpenAI\n",
    "from func import get_user_watch_history\n",
    "from sklearn.model_selection import train_test_split\n",
    "from src.func import *\n",
    "import re\n",
    "\n",
    "client = OpenAI()\n",
    "\n",
    "merged_df = pd.read_csv(\"data/merged_df.csv\")\n",
    "unique_movie_titles = merged_df['title'].unique().tolist()\n",
    "data = merged_df\n",
    "train_data, test_data = train_test_split(data, test_size=0.2, random_state=42)\n",
    "system_prompt = \"You are a movie recommender system that will compare user previous watch history and ratings.\"\n",
    "\n",
    "USER_ID = 23\n",
    "USER_ID2 = 445"
   ]
  },
  {
   "cell_type": "markdown",
   "metadata": {},
   "source": [
    "# Method1: Prompt with User History"
   ]
  },
  {
   "cell_type": "code",
   "execution_count": 2,
   "metadata": {},
   "outputs": [
    {
     "name": "stdout",
     "output_type": "stream",
     "text": [
      "Based on User 23's watch history and ratings, I recommend the following 10 movies that they may enjoy:\n",
      "\n",
      "1. The Insider (1999) - Predicted Rating: 4.2\n",
      "2. Amadeus (1984) - Predicted Rating: 4.0\n",
      "3. Cinema Paradiso (Nuovo Cinema Paradiso) (1989) - Predicted Rating: 4.5\n",
      "4. The Lives of Others (Das Leben der Anderen) (2006) - Predicted Rating: 4.3\n",
      "5. Umberto D. (1952) - Predicted Rating: 4.1\n",
      "6. Rififi (Du rififi chez les hommes) (1955) - Predicted Rating: 4.4\n",
      "7. My Neighbor Totoro (Tonari no Totoro) (1988) - Predicted Rating: 4.2\n",
      "8. Central Station (Central do Brasil) (1998) - Predicted Rating: 4.0\n",
      "9. The Secret in Their Eyes (El secreto de sus ojos) (2009) - Predicted Rating: 4.3\n",
      "10. Leon: The Professional (Léon) (1994) - Predicted Rating: 4.5\n"
     ]
    }
   ],
   "source": [
    "user_id = USER_ID\n",
    "if user_id in data['userId'].values:\n",
    "    train_data_user = train_data[train_data[\"userId\"] == user_id]\n",
    "    titles_list, ratings_list = train_data_user[\"title\"], train_data_user[\"rating\"]\n",
    "    messages=[\n",
    "        {\"role\": \"system\", \"content\": f\"{system_prompt} Based on the genre and ratings of \\\n",
    "            those movies that this particular user gave, please recommend 10 movie that this \\\n",
    "            user would enjoy watching and predict the rating of these 10 movies given by this user\"},\n",
    "        {\"role\": \"user\", \"content\": f\"User {user_id}'s previously watch movies include {titles_list}\\\n",
    "            and the corresponded ratings are {ratings_list}. Please suggest 10 movie based on the \\\n",
    "            watch history and predict ratings of those 10 movies based on user preferences. \\\n",
    "            Format: [n. <Movie Name> (<Year>) - Predicted Rating: <Rating>]\"}\n",
    "    ]\n",
    "    completion = client.chat.completions.create(\n",
    "        model=\"gpt-3.5-turbo-1106\",\n",
    "        messages=messages\n",
    "    )\n",
    "    response = completion.choices[0].message.content\n",
    "    recommendations1 = extract_string1(response)\n",
    "    print(response)\n",
    "else:\n",
    "    print(f\"{user_id} is not a valid user ID, please try again\")\n"
   ]
  },
  {
   "cell_type": "markdown",
   "metadata": {},
   "source": [
    "# Watch party with 2 userID\n",
    "user_A = 23\n",
    "\n",
    "user_B = 445"
   ]
  },
  {
   "cell_type": "code",
   "execution_count": 3,
   "metadata": {},
   "outputs": [
    {
     "name": "stdout",
     "output_type": "stream",
     "text": [
      "Based on the watch history and ratings of User 23 and User 445, here are 10 movie recommendations that both users would enjoy watching together, along with the predicted ratings based on their preferences:\n",
      "\n",
      "1. Dr. Strangelove or: How I Learned to Stop Worr... (1964) - Predicted Rating: 4.0\n",
      "2. Grand Budapest Hotel, The (2014) - Predicted Rating: 4.5\n",
      "3. Sixth Sense, The (1999) - Predicted Rating: 4.0\n",
      "4. Shutter Island (2010) - Predicted Rating: 4.5\n",
      "5. Fargo (1996) - Predicted Rating: 4.0\n",
      "6. How to Train Your Dragon (2010) - Predicted Rating: 4.0\n",
      "7. Casablanca (1942) - Predicted Rating: 4.0\n",
      "8. Star Wars: Episode IV - A New Hope (1977) - Predicted Rating: 4.5\n",
      "9. Matrix, The (1999) - Predicted Rating: 4.0\n",
      "10. Inception (2010) - Predicted Rating: 4.5\n"
     ]
    }
   ],
   "source": [
    "userA, userB = USER_ID, USER_ID2\n",
    "if userA and userB in data['userId'].values:\n",
    "    train_data_userA = train_data[train_data[\"userId\"] == userA]\n",
    "    titles_list_A, ratings_list_A = train_data_userA[\"title\"], train_data_userA[\"rating\"]\n",
    "    train_data_userB = train_data[train_data[\"userId\"] == userB]\n",
    "    titles_list_B, ratings_list_B = train_data_userB[\"title\"], train_data_userB[\"rating\"]\n",
    "    messages=[\n",
    "        {\"role\": \"system\", \"content\": f\"{system_prompt} Based on the genre and ratings of movies from \\\n",
    "            2 users, please recommend 10 movie that these 2 users would enjoy watching together and \\\n",
    "            predict the rating of these 10 movies\"},\n",
    "        {\"role\": \"user\", \"content\": f\"User {userA}'s previously watch movies include {titles_list_A} \\\n",
    "            and the corresponded ratings are {ratings_list_A}. User {userB}'s previously watch movies \\\n",
    "            include {titles_list_B} and the corresponded ratings are {ratings_list_B} Please suggest \\\n",
    "            10 movie that both users would enjoy watching based on the watch histories and predict \\\n",
    "            specific ratings of those 10 movies based on user preferences. Format: \\\n",
    "            [n. <Movie Name> (<Year>) - Predicted Rating: <Rating>]\"}\n",
    "    ]\n",
    "    completion = client.chat.completions.create(\n",
    "        model=\"gpt-3.5-turbo-1106\",\n",
    "        messages=messages\n",
    "    )\n",
    "    response = completion.choices[0].message.content\n",
    "    print(response)\n",
    "    recommendations2 = extract_string1(response)\n",
    "else:\n",
    "    print(f\"{userA} or {userB} is not a valid user ID, please try again\")"
   ]
  },
  {
   "cell_type": "markdown",
   "metadata": {},
   "source": [
    "# Recommend based on genre"
   ]
  },
  {
   "cell_type": "code",
   "execution_count": 4,
   "metadata": {},
   "outputs": [
    {
     "name": "stderr",
     "output_type": "stream",
     "text": [
      "/var/folders/v0/_fszh3l96cz8c79p9psn63y80000gn/T/ipykernel_69464/1636356446.py:3: SettingWithCopyWarning: \n",
      "A value is trying to be set on a copy of a slice from a DataFrame.\n",
      "Try using .loc[row_indexer,col_indexer] = value instead\n",
      "\n",
      "See the caveats in the documentation: https://pandas.pydata.org/pandas-docs/stable/user_guide/indexing.html#returning-a-view-versus-a-copy\n",
      "  user_data['genres'] = user_data['genres'].str.split('|')\n"
     ]
    },
    {
     "name": "stdout",
     "output_type": "stream",
     "text": [
      "Sure, based on User 23's favorite genres, here are 10 movie recommendations:\n",
      "\n",
      "1. The Shining (1980) - Predicted Rating: 4.5\n",
      "2. Get Out (2017) - Predicted Rating: 4.4\n",
      "3. The Matrix (1999) - Predicted Rating: 4.3\n",
      "4. A Quiet Place (2018) - Predicted Rating: 4.2\n",
      "5. The Sixth Sense (1999) - Predicted Rating: 4.4\n",
      "6. Aliens (1986) - Predicted Rating: 4.3\n",
      "7. The Babadook (2014) - Predicted Rating: 4.1\n",
      "8. Inception (2010) - Predicted Rating: 4.5\n",
      "9. The Others (2001) - Predicted Rating: 4.3\n",
      "10. The Cabin in the Woods (2011) - Predicted Rating: 4.2\n",
      "\n",
      "I hope User 23 enjoys these suggestions!\n"
     ]
    }
   ],
   "source": [
    "if user_id in data['userId'].values:\n",
    "    user_data = train_data[train_data[\"userId\"] == user_id]\n",
    "    user_data['genres'] = user_data['genres'].str.split('|')\n",
    "    genres_expanded = user_data.explode('genres')\n",
    "    genre_ratings = genres_expanded.groupby('genres')['rating'].mean()\n",
    "    top_3_genres = genre_ratings.sort_values(ascending=False).head(3).index.tolist()\n",
    "    messages=[\n",
    "        {\"role\": \"system\", \"content\": \"You are a movie recommender system that will recommend \\\n",
    "            10 movie in this user's favorite genres and predict the rating of these 10 movies \\\n",
    "            given by this user\"},\n",
    "        {\"role\": \"user\", \"content\": f\"User {user_id}'s favorite genre include {top_3_genres}. \\\n",
    "            Please suggest 10 movie in these genre for the user. \\\n",
    "            Format: [n. <Movie Name> (<Year>) - Predicted Rating: <Rating>]\"}\n",
    "    ]\n",
    "    completion = client.chat.completions.create(\n",
    "        model=\"gpt-3.5-turbo-1106\",\n",
    "        messages=messages\n",
    "    )\n",
    "    response = completion.choices[0].message.content\n",
    "    recommendations3 = extract_string1(response)\n",
    "    print(response)\n",
    "else:\n",
    "    print(f\"{userId} is not a valid user ID, please try again\")"
   ]
  },
  {
   "cell_type": "markdown",
   "metadata": {},
   "source": [
    "# Recommend based on similar user"
   ]
  },
  {
   "cell_type": "code",
   "execution_count": 5,
   "metadata": {},
   "outputs": [
    {
     "name": "stdout",
     "output_type": "stream",
     "text": [
      "1. Goodfellas (1990) - Predicted Rating: 4.2\n",
      "2. Fight Club (1999) - Predicted Rating: 4.3\n",
      "3. The Departed (2006) - Predicted Rating: 4.5\n",
      "4. Inglourious Basterds (2009) - Predicted Rating: 4.1\n",
      "5. Seven (Se7en) (1995) - Predicted Rating: 4.4\n",
      "6. The Prestige (2006) - Predicted Rating: 4.3\n",
      "7. The Grand Budapest Hotel (2014) - Predicted Rating: 4.0\n",
      "8. Amadeus (1984) - Predicted Rating: 4.6\n",
      "9. Snatch (2000) - Predicted Rating: 4.2\n",
      "10. Oldboy (2003) - Predicted Rating: 4.0\n"
     ]
    }
   ],
   "source": [
    "if user_id in data['userId'].values:\n",
    "    most_similar = get_similar_users(user_id, train_data)\n",
    "    train_data_user = train_data[train_data[\"userId\"] == most_similar]\n",
    "    titles_list, ratings_list = train_data_user[\"title\"], train_data_user[\"rating\"]\n",
    "    messages=[\n",
    "        {\"role\": \"system\", \"content\": \"You are a movie recommender system that will suggest movies \\\n",
    "            that the user may also like based on similar user's watch histories. From the most similar \\\n",
    "            user's watch histories, please recommend 10 movies that this user would enjoy watching and \\\n",
    "            predict the rating of these 10 movies given by this user\"},\n",
    "        {\"role\": \"user\", \"content\": f\"User {user_id}'s most similar user is user {most_similar}, \\\n",
    "            which has previously watched {titles_list} and the corresponded ratings are {ratings_list}. \\\n",
    "            Please suggest 10 movies that user {user_id} may also like and provide rating prediction of \\\n",
    "            those 10 movies based on user preferences. \\\n",
    "            Format: [n. <Movie Name> (<Year>) - Predicted Rating: <Rating>]\"}\n",
    "    ]\n",
    "    completion = client.chat.completions.create(\n",
    "        model=\"gpt-3.5-turbo-1106\",\n",
    "        messages=messages\n",
    "    )\n",
    "    response = completion.choices[0].message.content\n",
    "    print(response)\n",
    "    recommendations4 = extract_string1(response)\n",
    "else:\n",
    "    print(f\"{userId} is not a valid user ID, please try again\")"
   ]
  },
  {
   "cell_type": "markdown",
   "metadata": {},
   "source": [
    "# Rating prediction for evaluation metric"
   ]
  },
  {
   "cell_type": "code",
   "execution_count": 6,
   "metadata": {},
   "outputs": [
    {
     "name": "stdout",
     "output_type": "stream",
     "text": [
      "Sure! Here are the predicted ratings for the list of movies:\n",
      "\n",
      "1. Iron Giant, The (1999) - Predicted Rating: 3.8\n",
      "2. Carlito's Way (1993) - Predicted Rating: 3.9\n",
      "3. Fistful of Dollars, A (Per un pugno di dollari) (1964) - Predicted Rating: 3.7\n",
      "4. 2001: A Space Odyssey (1968) - Predicted Rating: 4.1\n",
      "5. Killer, The (Die xue shuang xiong) (1989) - Predicted Rating: 3.4\n",
      "6. Lock, Stock & Two Smoking Barrels (1998) - Predicted Rating: 3.9\n",
      "7. Postman, The (Postino, Il) (1994) - Predicted Rating: 3.8\n",
      "8. Third Man, The (1949) - Predicted Rating: 3.9\n",
      "9. Looking for Richard (1996) - Predicted Rating: 3.7\n",
      "10. Fear and Loathing in Las Vegas (1998) - Predicted Rating: 3.8\n",
      "11. Gosford Park (2001) - Predicted Rating: 3.8\n",
      "12. Clockwork Orange, A (1971) - Predicted Rating: 4.0\n",
      "13. Die Hard (1988) - Predicted Rating: 3.9\n",
      "14. Dark City (1998) - Predicted Rating: 3.9\n",
      "15. Chinatown (1974) - Predicted Rating: 4.0\n",
      "16. Seventh Seal, The (Sjunde inseglet, Det) (1957) - Predicted Rating: 3.7\n",
      "17. Titus (1999) - Predicted Rating: 3.8\n",
      "18. Amores Perros (Love's a Bitch) (2000) - Predicted Rating: 3.7\n",
      "19. Monty Python's The Meaning of Life (1983) - Predicted Rating: 3.7\n",
      "20. Fisher King, The (1991) - Predicted Rating: 3.9\n",
      "21. Fireworks (Hana-bi) (1997) - Predicted Rating: 3.8\n",
      "22. Taste of Cherry (Ta'm e guilass) (1997) - Predicted Rating: 3.7\n",
      "23. Aliens (1986) - Predicted Rating: 3.9\n",
      "24. Ninja Scroll (Jûbei ninpûchô) (1995) - Predicted Rating: 3.8\n",
      "\n",
      "I hope this helps!\n"
     ]
    }
   ],
   "source": [
    "if user_id in data['userId'].values:\n",
    "    train_data_user = train_data[train_data[\"userId\"] == user_id]\n",
    "    train_titles_list, train_ratings_list = train_data_user[\"title\"], train_data_user[\"rating\"]\n",
    "    test_data_user = test_data[test_data[\"userId\"] == user_id]\n",
    "    test_title_list, true_ratings = test_data_user[\"title\"], test_data_user[\"rating\"]\n",
    "    messages=[\n",
    "        {\"role\": \"system\", \"content\": \"You are a movie rating prediction system that will predict \\\n",
    "            rating with a list of titles given\"},\n",
    "        {\"role\": \"user\", \"content\": f\"User {user_id}'s previously watch movies include {train_titles_list} \\\n",
    "            and the corresponded ratings are {train_ratings_list}. Based on these ratings, \\\n",
    "            please provide a list of prediction rating corresponded to {test_title_list}. \\\n",
    "            Format: [n. <Movie Name> (<Year>) - Predicted Rating: <Rating>]\"}\n",
    "    ]\n",
    "    completion = client.chat.completions.create(\n",
    "        model=\"gpt-3.5-turbo-1106\",\n",
    "        messages=messages\n",
    "    )\n",
    "    response = completion.choices[0].message.content\n",
    "    print(response)\n",
    "    recommendations5 = extract_string1(response)\n",
    "    # rms = evaluation(recommendations, user_id)\n",
    "    # print(f\"Recommendation Rating RMSE: {rms}\")\n",
    "    # return messages, response, recommendations\n",
    "else:\n",
    "    print(f\"{userId} is not a valid user ID, please try again\")\n",
    "    # return None, None, None"
   ]
  },
  {
   "cell_type": "markdown",
   "metadata": {},
   "source": [
    "# Evaluation metric (RMSE of the prediction)"
   ]
  },
  {
   "cell_type": "code",
   "execution_count": 7,
   "metadata": {},
   "outputs": [],
   "source": [
    "from func import extract_ratings\n",
    "predicted_ratings = []\n",
    "for movie, rating in recommendations5:\n",
    "    predicted_ratings.append(float(rating))"
   ]
  },
  {
   "cell_type": "code",
   "execution_count": 8,
   "metadata": {},
   "outputs": [
    {
     "name": "stdout",
     "output_type": "stream",
     "text": [
      "RMSE: 0.5813060008865095\n"
     ]
    }
   ],
   "source": [
    "import math\n",
    "from func import calculate_rmse\n",
    "rmse_score = calculate_rmse(predicted_ratings, true_ratings)\n",
    "print(f\"RMSE: {rmse_score}\")"
   ]
  }
 ],
 "metadata": {
  "kernelspec": {
   "display_name": "base",
   "language": "python",
   "name": "python3"
  },
  "language_info": {
   "codemirror_mode": {
    "name": "ipython",
    "version": 3
   },
   "file_extension": ".py",
   "mimetype": "text/x-python",
   "name": "python",
   "nbconvert_exporter": "python",
   "pygments_lexer": "ipython3",
   "version": "3.9.6"
  },
  "orig_nbformat": 4
 },
 "nbformat": 4,
 "nbformat_minor": 2
}
