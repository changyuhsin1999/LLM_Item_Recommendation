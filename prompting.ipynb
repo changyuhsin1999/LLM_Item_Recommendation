{
 "cells": [
  {
   "cell_type": "code",
   "execution_count": 8,
   "metadata": {},
   "outputs": [
    {
     "name": "stdout",
     "output_type": "stream",
     "text": [
      "ChatCompletionMessage(content=\"Based on User 165's previously watched movies and ratings, we can identify the genres and movies that this user enjoys. Here are 10 movie recommendations for User 165:\\n\\n1. The Shawshank Redemption (1994) - Drama\\n2. Inception (2010) - Sci-Fi/Thriller\\n3. The Departed (2006) - Crime/Drama\\n4. The Dark Knight (2008) - Action/Crime/Drama\\n5. Fight Club (1999) - Drama/Thriller\\n6. Pulp Fiction (1994) - Crime/Drama\\n7. The Social Network (2010) - Biography/Drama\\n8. The Prestige (2006) - Drama/Mystery/Thriller\\n9. Eternal Sunshine of the Spotless Mind (2004) - Drama/Romance/Sci-Fi\\n10. The Matrix (1999) - Action/Sci-Fi\\n\\nNow, let's predict the ratings for these 10 movie recommendations based on User 165's preferences. Please note that the predicted ratings are based on the assumption that User 165 will continue to rate movies similarly to their previous ratings:\\n\\n1. The Shawshank Redemption (1994) - Predicted Rating: 4.0\\n2. Inception (2010) - Predicted Rating: 4.0\\n3. The Departed (2006) - Predicted Rating: 4.0\\n4. The Dark Knight (2008) - Predicted Rating: 4.0\\n5. Fight Club (1999) - Predicted Rating: 4.0\\n6. Pulp Fiction (1994) - Predicted Rating: 4.0\\n7. The Social Network (2010) - Predicted Rating: 4.0\\n8. The Prestige (2006) - Predicted Rating: 4.0\\n9. Eternal Sunshine of the Spotless Mind (2004) - Predicted Rating: 4.0\\n10. The Matrix (1999) - Predicted Rating: 4.0\\n\\nThese predicted ratings are based on similar genres and user preferences. Enjoy watching these movies!\", role='assistant', function_call=None, tool_calls=None)\n"
     ]
    }
   ],
   "source": [
    "import os\n",
    "import pandas as pd\n",
    "from openai import OpenAI\n",
    "from func import get_user_watch_history\n",
    "\n",
    "client = OpenAI()\n",
    "\n",
    "merged_df = pd.read_csv(\"data/merged_df.csv\")\n",
    "unique_movie_titles = merged_df['title'].unique().tolist()\n",
    "\n",
    "# def get_movie_suggestions():\n",
    "user_response = input(\"Are you planning to watch the movie alone or with a partner? (alone[a]/partner[p]): \").strip().lower()\n",
    "if user_response in ['alone', 'a']:\n",
    "  user_id = int(input(\"Enter Your User ID:\"))\n",
    "  if user_id in data['userId'].values:\n",
    "    titles_list, ratings_list = get_user_watch_history(user_id, merged_df)\n",
    "    completion = client.chat.completions.create(\n",
    "    model=\"gpt-3.5-turbo\",\n",
    "    messages=[\n",
    "      {\"role\": \"system\", \"content\": \"You are a movie recommender system that will compare user previous watch history and ratings.Based on the genre and ratings of those movies that this particular user gave, please recommend 10 movie that this user would enjoy watching and predict the rating of these 10 movies given by this user\"},\n",
    "      {\"role\": \"user\", \"content\": f\"User {user_id}'s previously watch movies include {titles_list} and the corresponded ratings are {ratings_list}. Please suggest 10 movie based on the watch history and predict ratings of those 10 movies based on user preferences\"}\n",
    "    ]\n",
    "  )\n",
    "  else:\n",
    "    print(\"This is not a valid user ID, please try again\")\n",
    "elif user_response in ['partner', 'p']:\n",
    "  user_A = int(input(\"Enter Your User ID:\"))\n",
    "  user_B = int(input(\"Enter Your Partner's User ID:\"))\n",
    "  if user_A and user_B in data['userId'].values:\n",
    "    titles_list_A, ratings_list_A = get_user_watch_history(user_A, merged_df)\n",
    "    titles_list_B, ratings_list_B = get_user_watch_history(user_B, merged_df)\n",
    "    completion = client.chat.completions.create(\n",
    "    model=\"gpt-3.5-turbo\",\n",
    "    messages=[\n",
    "      {\"role\": \"system\", \"content\": \"You are a movie recommender system that will compare user's previous watch history and ratings. Based on the genre and ratings of movies from 2 users, please recommend 10 movie that these 2 users would enjoy watching together and predict the rating of these 10 movies\"},\n",
    "      {\"role\": \"user\", \"content\": f\"User {user_A}'s previously watch movies include {titles_list_A} and the corresponded ratings are {ratings_list_A}. User {user_B}'s previously watch movies include {titles_list_B} and the corresponded ratings are {ratings_list_B} Please suggest 10 movie that both users would enjoy watching based on the watch histories and predict specific ratings of those 10 movies based on user preferences\"}\n",
    "    ]\n",
    "  )\n",
    "else:\n",
    "    print(\"Invalid response. Please answer with 'alone','a' or 'partner','p'.\")\n",
    "    \n",
    "\n",
    "print(completion.choices[0].message) "
   ]
  },
  {
   "cell_type": "markdown",
   "metadata": {},
   "source": [
    "If enter watch with \"partner\"\n",
    "\n",
    "and enter user_A = 55\n",
    "\n",
    "user_B = 3"
   ]
  },
  {
   "cell_type": "code",
   "execution_count": 5,
   "metadata": {},
   "outputs": [
    {
     "name": "stdout",
     "output_type": "stream",
     "text": [
      "ChatCompletionMessage(content=\"To recommend movies that both User 55 and User 3 would enjoy watching together, I will analyze their watch histories and ratings. Based on their common movie interests, I will suggest 10 movies that are likely to appeal to both users. To predict the ratings, I will look at their previous ratings for similar movies and make an estimate. \\n\\nHere are 10 movie recommendations for User 55 and User 3:\\n\\n1. Highlander (1986)\\n2. Escape from L.A. (1996)\\n3. Three Kings (1999)\\n4. Field of Dreams (1989)\\n5. Lock, Stock & Two Smoking Barrels (1998)\\n6. Conan the Barbarian (1982)\\n7. Thomas Crown Affair, The (1999)\\n8. Road Warrior, The (Mad Max 2) (1981)\\n9. Snow Dogs (2002)\\n10. Snatch (2000)\\n\\nNow, let's predict the ratings for these movies based on their previous preferences:\\n\\n1. Highlander (1986) - User 55: 4.0, User 3: 3.5\\n2. Escape from L.A. (1996) - User 55: 3.5, User 3: 4.5\\n3. Three Kings (1999) - User 55: 4.0, User 3: 0.5\\n4. Field of Dreams (1989) - User 55: 3.0, User 3: 0.5\\n5. Lock, Stock & Two Smoking Barrels (1998) - User 55: 5.0, User 3: 4.0\\n6. Conan the Barbarian (1982) - User 55: 4.0, User 3: 4.5\\n7. Thomas Crown Affair, The (1999) - User 55: 2.5, User 3: 0.5\\n8. Road Warrior, The (Mad Max 2) (1981) - User 55: 4.0, User 3: 5.0\\n9. Snow Dogs (2002) - User 55: 2.0, User 3: 0.5\\n10. Snatch (2000) - User 55: 5.0, User 3: 5.0\\n\\nPlease note that these predicted ratings are estimates based on the users' previous movie preferences and may not be completely accurate. It is always recommended to watch the trailers and read reviews before deciding to watch a movie. Enjoy your movie night!\", role='assistant', function_call=None, tool_calls=None)\n"
     ]
    }
   ],
   "source": [
    "print(completion.choices[0].message)"
   ]
  }
 ],
 "metadata": {
  "kernelspec": {
   "display_name": "base",
   "language": "python",
   "name": "python3"
  },
  "language_info": {
   "codemirror_mode": {
    "name": "ipython",
    "version": 3
   },
   "file_extension": ".py",
   "mimetype": "text/x-python",
   "name": "python",
   "nbconvert_exporter": "python",
   "pygments_lexer": "ipython3",
   "version": "3.9.7"
  },
  "orig_nbformat": 4
 },
 "nbformat": 4,
 "nbformat_minor": 2
}
