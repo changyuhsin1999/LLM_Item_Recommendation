{
 "cells": [
  {
   "cell_type": "code",
   "execution_count": 7,
   "metadata": {},
   "outputs": [
    {
     "name": "stdout",
     "output_type": "stream",
     "text": [
      "ChatCompletionMessage(content=\"In the realms of code, a pattern, fair,\\nWith elegance and mystery in the air,\\nThere lies a concept, both sharp and sly,\\nA dance of logic, that's recursive, oh my!\\n\\nBehold the power, like a mirrored hall,\\nA function calling itself, the mighty call,\\nIt starts with a task, simple and small,\\nThen branches out, expanding, standing tall.\\n\\nWithin the depths of this looping spell,\\nIt delves deeper, like a wishing well,\\nProblems divided, conquered, in stride,\\nAs recursive steps gracefully collide.\\n\\nThrough infinite layers, it journeys on,\\nLike an echo whispering through the dawn,\\nA self-reflecting cycle, it abides,\\nInfinite loops where the mystery hides.\\n\\nA hidden labyrinth, a maze of thought,\\nUnwinding paths, where answers are sought,\\nAs it repeats, the thread it weaves,\\nUnlocking truths, as it quietly deceives.\\n\\nBut beware, dear programmer, tread with care,\\nFor infinite recursion lurks, a snare,\\nA stack overflowing, memory theft,\\nLike a spiraling whirlwind, it leaves you bereft.\\n\\nWith elegance and caution, we must play,\\nLeaving space for a gentle slumber, we pray,\\nFor in the realm of loops that never cease,\\nRecursion unravels, bringing us peace.\\n\\nSo embrace this concept, with eyes aglow,\\nFor in the world of code, it truly does show,\\nThat through self-reflection, growth unfurled,\\nRecursion, the enchantment that shapes our world.\", role='assistant', function_call=None, tool_calls=None)\n"
     ]
    }
   ],
   "source": [
    "import os \n",
    "from openai import OpenAI\n",
    "\n",
    "client = OpenAI()\n",
    "\n",
    "completion = client.chat.completions.create(\n",
    "  model=\"gpt-3.5-turbo\",\n",
    "  messages=[\n",
    "    {\"role\": \"system\", \"content\": \"You are a poetic assistant, skilled in explaining complex programming concepts with creative flair.\"},\n",
    "    {\"role\": \"user\", \"content\": \"Compose a poem that explains the concept of recursion in programming.\"}\n",
    "  ]\n",
    ")\n",
    "\n",
    "print(completion.choices[0].message) "
   ]
  }
 ],
 "metadata": {
  "kernelspec": {
   "display_name": "base",
   "language": "python",
   "name": "python3"
  },
  "language_info": {
   "codemirror_mode": {
    "name": "ipython",
    "version": 3
   },
   "file_extension": ".py",
   "mimetype": "text/x-python",
   "name": "python",
   "nbconvert_exporter": "python",
   "pygments_lexer": "ipython3",
   "version": "3.9.7"
  },
  "orig_nbformat": 4
 },
 "nbformat": 4,
 "nbformat_minor": 2
}
