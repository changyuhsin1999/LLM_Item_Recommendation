{
 "cells": [
  {
   "cell_type": "code",
   "execution_count": 1,
   "metadata": {},
   "outputs": [],
   "source": [
    "import os\n",
    "import pandas as pd\n",
    "from openai import OpenAI\n",
    "from src.prompt import *\n",
    "\n",
    "data = pd.read_csv(\"data/merged_df.csv\")\n",
    "recommend_prompt = RecommendPrompt(data)\n",
    "\n",
    "USER_ID = 123\n",
    "USER_ID2 = 456\n"
   ]
  },
  {
   "cell_type": "code",
   "execution_count": 2,
   "metadata": {},
   "outputs": [
    {
     "name": "stdout",
     "output_type": "stream",
     "text": [
      "[{'role': 'system', 'content': 'You are a movie recommender system that will compare user previous watch history and ratings. Based on the genre and ratings of those movies that this particular user gave, please recommend 10 movie that this user would enjoy watching and predict the rating of these 10 movies given by this user'}, {'role': 'user', 'content': \"User 123's previously watch movies include 1621             Star Wars: Episode IV - A New Hope (1977)\\n47705                              The Hunger Games (2012)\\n89872                                Equalizer, The (2014)\\n56722            Sherlock Holmes: A Game of Shadows (2011)\\n51032                  City of God (Cidade de Deus) (2002)\\n6819     Star Wars: Episode V - The Empire Strikes Back...\\n67780                      How to Train Your Dragon (2010)\\n47635                                 Avengers, The (2012)\\n65652                                  Training Day (2001)\\n75981                            Hunt, The (Jagten) (2012)\\n55550                             American Gangster (2007)\\n89865                                   Unstoppable (2010)\\n35705                                Monsters, Inc. (2001)\\n47125                                      Iron Man (2008)\\n51304                           Social Network, The (2010)\\n57127                            The Imitation Game (2014)\\n76076                                  Nightcrawler (2014)\\n68444                                           Her (2013)\\n42284                                       Yes Man (2008)\\n78871                                          Rush (2013)\\n24535                                       Memento (2000)\\n37977    Lord of the Rings: The Return of the King, The...\\n47982                                     Gone Girl (2014)\\n48025                       Guardians of the Galaxy (2014)\\n35966    Lord of the Rings: The Fellowship of the Ring,...\\n17795                              Django Unchained (2012)\\n30513    Léon: The Professional (a.k.a. The Professiona...\\n11884                            American History X (1998)\\n56600                            X-Men: First Class (2011)\\n17259                          Inglourious Basterds (2009)\\n56994                                     Prisoners (2013)\\n12698                                   Matrix, The (1999)\\n14358                                    Fight Club (1999)\\n54888                                    Inside Man (2006)\\n73765                                            21 (2008)\\n47547                                     Limitless (2011)\\n68659                                    Big Hero 6 (2014)\\n47941                              Edge of Tomorrow (2014)\\n55200                                        Zodiac (2007)\\n16363                     Shawshank Redemption, The (1994)\\n13882                               American Beauty (1999)\\n78210                                        Flight (2012)\\n37067        Lord of the Rings: The Two Towers, The (2002)\\n47598                                   Source Code (2011)\\n46900                                 Prestige, The (2006)\\n1881                                   Pulp Fiction (1994)\\n55863                                      Watchmen (2009)\\n89859                   Taking of Pelham 1 2 3, The (2009)\\n89881                           The Great Hypnotist (2014)\\n412                            Seven (a.k.a. Se7en) (1995)\\nName: title, dtype: object and the corresponded ratings are 1621     4.5\\n47705    3.5\\n89872    3.5\\n56722    4.0\\n51032    3.5\\n6819     4.0\\n67780    4.5\\n47635    4.0\\n65652    4.0\\n75981    4.5\\n55550    4.0\\n89865    4.0\\n35705    4.0\\n47125    4.0\\n51304    4.5\\n57127    4.5\\n76076    4.5\\n68444    3.5\\n42284    4.0\\n78871    3.5\\n24535    4.5\\n37977    3.5\\n47982    4.5\\n48025    4.0\\n35966    3.5\\n17795    4.5\\n30513    3.5\\n11884    4.5\\n56600    4.0\\n17259    4.0\\n56994    4.0\\n12698    4.0\\n14358    4.5\\n54888    4.0\\n73765    4.5\\n47547    4.0\\n68659    3.5\\n47941    4.5\\n55200    4.0\\n16363    4.0\\n13882    3.5\\n78210    4.0\\n37067    3.5\\n47598    4.5\\n46900    4.0\\n1881     4.0\\n55863    4.0\\n89859    4.0\\n89881    4.0\\n412      4.5\\nName: rating, dtype: float64. Please suggest 10 movie based on the watch history and predict ratings of those 10 movies based on user preferences. Format: [n. <Movie Name> (<Year>) - Predicted Rating: <Rating>]\"}]\n",
      "Based on User 123's previous watch history and ratings, here are 10 movie recommendations with predicted ratings:\n",
      "\n",
      "1. The Dark Knight (2008) - Predicted Rating: 4.5\n",
      "2. Mad Max: Fury Road (2015) - Predicted Rating: 4.0\n",
      "3. The Departed (2006) - Predicted Rating: 4.5\n",
      "4. The Grand Budapest Hotel (2014) - Predicted Rating: 4.0\n",
      "5. Shutter Island (2010) - Predicted Rating: 4.0\n",
      "6. The Revenant (2015) - Predicted Rating: 4.5\n",
      "7. The Martian (2015) - Predicted Rating: 4.0\n",
      "8. Black Swan (2010) - Predicted Rating: 4.5\n",
      "9. Drive (2011) - Predicted Rating: 4.0\n",
      "10. Whiplash (2014) - Predicted Rating: 4.5\n",
      "[('The Dark Knight', '4.5'), ('Mad Max: Fury Road', '4.0'), ('The Departed', '4.5'), ('The Grand Budapest Hotel', '4.0'), ('Shutter Island', '4.0'), ('The Revenant', '4.5'), ('The Martian', '4.0'), ('Black Swan', '4.5'), ('Drive', '4.0'), ('Whiplash', '4.5')]\n",
      "Whiplash in test\n",
      "0.1\n"
     ]
    }
   ],
   "source": [
    "prompt, answer, recommendations = recommend_prompt.prompt_recommend_with_user_history(USER_ID)\n",
    "print(prompt)\n",
    "print(answer)\n",
    "print(recommendations)\n",
    "print(f\"Accuracy: {recommend_prompt.accuracy(recommendations, USER_ID)}\")"
   ]
  },
  {
   "cell_type": "code",
   "execution_count": 3,
   "metadata": {},
   "outputs": [
    {
     "name": "stdout",
     "output_type": "stream",
     "text": [
      "[{'role': 'system', 'content': 'You are a movie recommender system that will compare user previous watch history and ratings. Based on the genre and ratings of movies from 2 users, please recommend 10 movie that these 2 users would enjoy watching together and predict the rating of these 10 movies'}, {'role': 'user', 'content': \"User 123's previously watch movies include 1621             Star Wars: Episode IV - A New Hope (1977)\\n47705                              The Hunger Games (2012)\\n89872                                Equalizer, The (2014)\\n56722            Sherlock Holmes: A Game of Shadows (2011)\\n51032                  City of God (Cidade de Deus) (2002)\\n6819     Star Wars: Episode V - The Empire Strikes Back...\\n67780                      How to Train Your Dragon (2010)\\n47635                                 Avengers, The (2012)\\n65652                                  Training Day (2001)\\n75981                            Hunt, The (Jagten) (2012)\\n55550                             American Gangster (2007)\\n89865                                   Unstoppable (2010)\\n35705                                Monsters, Inc. (2001)\\n47125                                      Iron Man (2008)\\n51304                           Social Network, The (2010)\\n57127                            The Imitation Game (2014)\\n76076                                  Nightcrawler (2014)\\n68444                                           Her (2013)\\n42284                                       Yes Man (2008)\\n78871                                          Rush (2013)\\n24535                                       Memento (2000)\\n37977    Lord of the Rings: The Return of the King, The...\\n47982                                     Gone Girl (2014)\\n48025                       Guardians of the Galaxy (2014)\\n35966    Lord of the Rings: The Fellowship of the Ring,...\\n17795                              Django Unchained (2012)\\n30513    Léon: The Professional (a.k.a. The Professiona...\\n11884                            American History X (1998)\\n56600                            X-Men: First Class (2011)\\n17259                          Inglourious Basterds (2009)\\n56994                                     Prisoners (2013)\\n12698                                   Matrix, The (1999)\\n14358                                    Fight Club (1999)\\n54888                                    Inside Man (2006)\\n73765                                            21 (2008)\\n47547                                     Limitless (2011)\\n68659                                    Big Hero 6 (2014)\\n47941                              Edge of Tomorrow (2014)\\n55200                                        Zodiac (2007)\\n16363                     Shawshank Redemption, The (1994)\\n13882                               American Beauty (1999)\\n78210                                        Flight (2012)\\n37067        Lord of the Rings: The Two Towers, The (2002)\\n47598                                   Source Code (2011)\\n46900                                 Prestige, The (2006)\\n1881                                   Pulp Fiction (1994)\\n55863                                      Watchmen (2009)\\n89859                   Taking of Pelham 1 2 3, The (2009)\\n89881                           The Great Hypnotist (2014)\\n412                            Seven (a.k.a. Se7en) (1995)\\nName: title, dtype: object and the corresponded ratings are 1621     4.5\\n47705    3.5\\n89872    3.5\\n56722    4.0\\n51032    3.5\\n6819     4.0\\n67780    4.5\\n47635    4.0\\n65652    4.0\\n75981    4.5\\n55550    4.0\\n89865    4.0\\n35705    4.0\\n47125    4.0\\n51304    4.5\\n57127    4.5\\n76076    4.5\\n68444    3.5\\n42284    4.0\\n78871    3.5\\n24535    4.5\\n37977    3.5\\n47982    4.5\\n48025    4.0\\n35966    3.5\\n17795    4.5\\n30513    3.5\\n11884    4.5\\n56600    4.0\\n17259    4.0\\n56994    4.0\\n12698    4.0\\n14358    4.5\\n54888    4.0\\n73765    4.5\\n47547    4.0\\n68659    3.5\\n47941    4.5\\n55200    4.0\\n16363    4.0\\n13882    3.5\\n78210    4.0\\n37067    3.5\\n47598    4.5\\n46900    4.0\\n1881     4.0\\n55863    4.0\\n89859    4.0\\n89881    4.0\\n412      4.5\\nName: rating, dtype: float64. User 456's previously watch movies include 74488                                Bed of Roses (1996)\\n20314                Truth About Cats & Dogs, The (1996)\\n28592                              Down Periscope (1996)\\n77427                                   Barb Wire (1996)\\n6093          Willy Wonka & the Chocolate Factory (1971)\\n19079          Twelve Monkeys (a.k.a. 12 Monkeys) (1995)\\n32995    Homeward Bound II: Lost in San Francisco (1996)\\n91124                                Theodore Rex (1995)\\n33341                Hunchback of Notre Dame, The (1996)\\n57668                               Two if by Sea (1996)\\n98928                                 Sunset Park (1996)\\n91114                                Sudden Death (1995)\\n74649                                      Eraser (1996)\\n5181                                    Rock, The (1996)\\n5999                                     Swingers (1996)\\n5489                Independence Day (a.k.a. ID4) (1996)\\n157                                     Toy Story (1995)\\n59085                              101 Dalmatians (1996)\\n4952                          Mission: Impossible (1996)\\n1755           Star Wars: Episode IV - A New Hope (1977)\\n28185                                    Bio-Dome (1996)\\n33135                                        Fear (1996)\\n59424                                      Scream (1996)\\n58398                                      Ransom (1996)\\n44221             Beavis and Butt-Head Do America (1996)\\n33069                                 Primal Fear (1996)\\n27301                 Father of the Bride Part II (1995)\\n58144                                  Craft, The (1996)\\n28229                                  Juror, The (1996)\\n51631                                 Dragonheart (1996)\\n33130                                  Diabolique (1996)\\n74460                               Jerry Maguire (1996)\\nName: title, dtype: object and the corresponded ratings are 74488    4.0\\n20314    3.0\\n28592    3.0\\n77427    3.0\\n6093     3.0\\n19079    3.0\\n32995    4.0\\n91124    3.0\\n33341    4.0\\n57668    3.0\\n98928    3.0\\n91114    4.0\\n74649    4.0\\n5181     5.0\\n5999     4.0\\n5489     5.0\\n157      5.0\\n59085    5.0\\n4952     4.0\\n1755     5.0\\n28185    2.0\\n33135    5.0\\n59424    5.0\\n58398    5.0\\n44221    4.0\\n33069    4.0\\n27301    3.0\\n58144    4.0\\n28229    2.0\\n51631    4.0\\n33130    5.0\\n74460    5.0\\nName: rating, dtype: float64 Please suggest 10 movie that both users would enjoy watching based on the watch histories and predict specific ratings of those 10 movies based on user preferences. Format: [n. <Movie Name> (<Year>) - Predicted Rating: <Rating>]\"}]\n",
      "Based on the watch histories and ratings provided by User 123 and User 456, here are the 10 movies that both users would likely enjoy watching together along with the predicted ratings:\n",
      "\n",
      "1. Star Wars: Episode IV - A New Hope (1977) - Predicted Rating: 4.5\n",
      "2. Willy Wonka & the Chocolate Factory (1971) - Predicted Rating: 3.5\n",
      "3. Toy Story (1995) - Predicted Rating: 4.0\n",
      "4. Scream (1996) - Predicted Rating: 4.5\n",
      "5. Ransom (1996) - Predicted Rating: 4.0\n",
      "6. Mission: Impossible (1996) - Predicted Rating: 4.0\n",
      "7. Independence Day (a.k.a. ID4) (1996) - Predicted Rating: 4.5\n",
      "8. The Hunger Games (2012) - Predicted Rating: 3.5\n",
      "9. Sherlock Holmes: A Game of Shadows (2011) - Predicted Rating: 4.0\n",
      "10. Avengers, The (2012) - Predicted Rating: 4.0\n",
      "[('Star Wars: Episode IV - A New Hope', '4.5'), ('Willy Wonka & the Chocolate Factory', '3.5'), ('Toy Story', '4.0'), ('Scream', '4.5'), ('Ransom', '4.0'), ('Mission: Impossible', '4.0'), ('Independence Day (a.k.a. ID4)', '4.5'), ('The Hunger Games', '3.5'), ('Sherlock Holmes: A Game of Shadows', '4.0'), ('Avengers, The', '4.0')]\n",
      "0.0\n"
     ]
    }
   ],
   "source": [
    "prompt, answer, recommendations = recommend_prompt.prompt_recommend_with_partner_history(USER_ID, USER_ID2)\n",
    "print(prompt)\n",
    "print(answer)\n",
    "print(recommendations)\n",
    "print(f\"Accuracy: {recommend_prompt.accuracy(recommendations, USER_ID)}\")"
   ]
  },
  {
   "cell_type": "code",
   "execution_count": 4,
   "metadata": {},
   "outputs": [
    {
     "name": "stderr",
     "output_type": "stream",
     "text": [
      "/Users/yiyang/Desktop/RL Apps/LLM_Item_Recommendation/src/prompt.py:58: SettingWithCopyWarning: \n",
      "A value is trying to be set on a copy of a slice from a DataFrame.\n",
      "Try using .loc[row_indexer,col_indexer] = value instead\n",
      "\n",
      "See the caveats in the documentation: https://pandas.pydata.org/pandas-docs/stable/user_guide/indexing.html#returning-a-view-versus-a-copy\n",
      "  user_data['genres'] = user_data['genres'].str.split('|')\n"
     ]
    },
    {
     "name": "stdout",
     "output_type": "stream",
     "text": [
      "[{'role': 'system', 'content': \"You are a movie recommender system that will recommend 10 movie in this user's favorite genres and predict the rating of these 10 movies given by this user\"}, {'role': 'user', 'content': \"User 123's favorite genre include ['Western', 'Children', 'IMAX']. Please suggest 10 movie in these genre for the user. Format: [n. <Movie Name> (<Year>) - Predicted Rating: <Rating>]\"}]\n",
      "Sure, here are 10 movie suggestions for User 123 based on their favorite genres:\n",
      "\n",
      "1. The Good, the Bad and the Ugly (1966) - Predicted Rating: 4.5\n",
      "2. True Grit (2010) - Predicted Rating: 4.2\n",
      "3. Once Upon a Time in the West (1968) - Predicted Rating: 4.3\n",
      "4. Rango (2011) - Predicted Rating: 4.0\n",
      "5. How the West Was Won (1962) - Predicted Rating: 3.9\n",
      "6. The Searchers (1956) - Predicted Rating: 4.4\n",
      "7. Toy Story (1995) - Predicted Rating: 4.7\n",
      "8. The Incredibles (2004) - Predicted Rating: 4.6\n",
      "9. Finding Nemo (2003) - Predicted Rating: 4.8\n",
      "10. Jurassic Park (1993) - Predicted Rating: 4.4\n",
      "[('The Good, the Bad and the Ugly', '4.5'), ('True Grit', '4.2'), ('Once Upon a Time in the West', '4.3'), ('Rango', '4.0'), ('How the West Was Won', '3.9'), ('The Searchers', '4.4'), ('Toy Story', '4.7'), ('The Incredibles', '4.6'), ('Finding Nemo', '4.8'), ('Jurassic Park', '4.4')]\n",
      "0.0\n"
     ]
    }
   ],
   "source": [
    "prompt, answer, recommendations = recommend_prompt.prompt_with_genre(USER_ID)\n",
    "print(prompt)\n",
    "print(answer)\n",
    "print(recommendations)\n",
    "print(f\"Accuracy: {recommend_prompt.accuracy(recommendations, USER_ID)}\")"
   ]
  },
  {
   "cell_type": "code",
   "execution_count": 5,
   "metadata": {},
   "outputs": [
    {
     "name": "stdout",
     "output_type": "stream",
     "text": [
      "[{'role': 'system', 'content': \"You are a movie recommender system that will suggest movies that the user may also like based on similar user's watch histories. From the most similar user's watch histories, please recommend 10 movies that this user would enjoy watching and predict the rating of these 10 movies given by this user\"}, {'role': 'user', 'content': \"User 123's most similar user is user 582, which has previously watched 4569                      Silence of the Lambs, The (1991)\\n46967                                 Prestige, The (2006)\\n17598                                     Inception (2010)\\n67978    Harry Potter and the Deathly Hallows: Part 1 (...\\n24651                                       Memento (2000)\\n47621                                   Source Code (2011)\\n67116           Harry Potter and the Goblet of Fire (2005)\\n56629                            X-Men: First Class (2011)\\n47298                                        WALL·E (2008)\\n14528                                    Fight Club (1999)\\n6975     Star Wars: Episode V - The Empire Strikes Back...\\n36920    Spirited Away (Sen to Chihiro no kamikakushi) ...\\n47804                                        Looper (2012)\\n54874                                V for Vendetta (2006)\\n56311                                      Kick-Ass (2010)\\n68051    Harry Potter and the Deathly Hallows: Part 2 (...\\n17844                              Django Unchained (2012)\\n43171                                       Skyfall (2012)\\n51288                                     Star Trek (2009)\\n57165                            The Imitation Game (2014)\\n68686                                    Big Hero 6 (2014)\\n42790                                 Despicable Me (2010)\\n67817                      How to Train Your Dragon (2010)\\n17321                          Inglourious Basterds (2009)\\n68257                                Wreck-It Ralph (2012)\\n48145    Star Wars: Episode VII - The Force Awakens (2015)\\n47589                        Adjustment Bureau, The (2011)\\n47688                                 Avengers, The (2012)\\n1803             Star Wars: Episode IV - A New Hope (1977)\\n17057                                 Departed, The (2006)\\n12904                                   Matrix, The (1999)\\n43050                                  Intouchables (2011)\\n17970                                  Interstellar (2014)\\n75842     Harry Potter and the Order of the Phoenix (2007)\\n17443                                Shutter Island (2010)\\n56893                                    Iron Man 3 (2013)\\n42495        Harry Potter and the Half-Blood Prince (2009)\\n56799                                   Cloud Atlas (2012)\\n17205                              Dark Knight, The (2008)\\n68143          Mission: Impossible - Ghost Protocol (2011)\\n47195                                      Iron Man (2008)\\nName: title, dtype: object and the corresponded ratings are 4569     4.0\\n46967    3.5\\n17598    5.0\\n67978    5.0\\n24651    4.0\\n47621    2.5\\n67116    4.5\\n56629    4.0\\n47298    4.0\\n14528    4.0\\n6975     4.0\\n36920    3.5\\n47804    2.5\\n54874    3.5\\n56311    2.5\\n68051    5.0\\n17844    4.5\\n43171    4.5\\n51288    4.5\\n57165    3.5\\n68686    3.5\\n42790    5.0\\n67817    4.5\\n17321    4.0\\n68257    3.0\\n48145    4.5\\n47589    3.0\\n47688    5.0\\n1803     4.0\\n17057    4.0\\n12904    5.0\\n43050    5.0\\n17970    4.5\\n75842    4.0\\n17443    4.0\\n56893    4.5\\n42495    4.5\\n56799    3.0\\n17205    4.5\\n68143    4.0\\n47195    4.5\\nName: rating, dtype: float64. Please suggest 10 movies that user 123 may also like and provide rating prediction of those 10 movies based on user preferences. Format: [n. <Movie Name> (<Year>) - Predicted Rating: <Rating>]\"}]\n",
      "Based on the watch history and ratings of user 582, here are 10 movie recommendations for user 123 along with the predicted ratings:\n",
      "\n",
      "1. The Dark Knight (2008) - Predicted Rating: 4.5\n",
      "2. Interstellar (2014) - Predicted Rating: 4.5\n",
      "3. Inglourious Basterds (2009) - Predicted Rating: 4.0\n",
      "4. Harry Potter and the Deathly Hallows: Part 2 (2011) - Predicted Rating: 4.5\n",
      "5. Star Wars: Episode V - The Empire Strikes Back (1980) - Predicted Rating: 5.0\n",
      "6. The Departed (2006) - Predicted Rating: 4.0\n",
      "7. The Matrix (1999) - Predicted Rating: 5.0\n",
      "8. Intouchables (2011) - Predicted Rating: 5.0\n",
      "9. The Prestige (2006) - Predicted Rating: 3.5\n",
      "10. Django Unchained (2012) - Predicted Rating: 4.5\n",
      "[('The Dark Knight', '4.5'), ('Interstellar', '4.5'), ('Inglourious Basterds', '4.0'), ('Harry Potter and the Deathly Hallows: Part 2', '4.5'), ('Star Wars: Episode V - The Empire Strikes Back', '5.0'), ('The Departed', '4.0'), ('The Matrix', '5.0'), ('Intouchables', '5.0'), ('The Prestige', '3.5'), ('Django Unchained', '4.5')]\n",
      "Interstellar in test\n",
      "0.1\n"
     ]
    }
   ],
   "source": [
    "prompt, answer, recommendations = recommend_prompt.prompt_with_similar_user(USER_ID)\n",
    "print(prompt)\n",
    "print(answer)\n",
    "print(recommendations)\n",
    "print(f\"Accuracy: {recommend_prompt.accuracy(recommendations, USER_ID)}\")"
   ]
  },
  {
   "cell_type": "code",
   "execution_count": 6,
   "metadata": {},
   "outputs": [
    {
     "name": "stdout",
     "output_type": "stream",
     "text": [
      "Recommendation Rating RMSE: 0.25\n",
      "[{'role': 'system', 'content': 'You are a movie rating prediction system that will predict rating with a list of titles given'}, {'role': 'user', 'content': \"User 123's previously watch movies include 1621             Star Wars: Episode IV - A New Hope (1977)\\n47705                              The Hunger Games (2012)\\n89872                                Equalizer, The (2014)\\n56722            Sherlock Holmes: A Game of Shadows (2011)\\n51032                  City of God (Cidade de Deus) (2002)\\n6819     Star Wars: Episode V - The Empire Strikes Back...\\n67780                      How to Train Your Dragon (2010)\\n47635                                 Avengers, The (2012)\\n65652                                  Training Day (2001)\\n75981                            Hunt, The (Jagten) (2012)\\n55550                             American Gangster (2007)\\n89865                                   Unstoppable (2010)\\n35705                                Monsters, Inc. (2001)\\n47125                                      Iron Man (2008)\\n51304                           Social Network, The (2010)\\n57127                            The Imitation Game (2014)\\n76076                                  Nightcrawler (2014)\\n68444                                           Her (2013)\\n42284                                       Yes Man (2008)\\n78871                                          Rush (2013)\\n24535                                       Memento (2000)\\n37977    Lord of the Rings: The Return of the King, The...\\n47982                                     Gone Girl (2014)\\n48025                       Guardians of the Galaxy (2014)\\n35966    Lord of the Rings: The Fellowship of the Ring,...\\n17795                              Django Unchained (2012)\\n30513    Léon: The Professional (a.k.a. The Professiona...\\n11884                            American History X (1998)\\n56600                            X-Men: First Class (2011)\\n17259                          Inglourious Basterds (2009)\\n56994                                     Prisoners (2013)\\n12698                                   Matrix, The (1999)\\n14358                                    Fight Club (1999)\\n54888                                    Inside Man (2006)\\n73765                                            21 (2008)\\n47547                                     Limitless (2011)\\n68659                                    Big Hero 6 (2014)\\n47941                              Edge of Tomorrow (2014)\\n55200                                        Zodiac (2007)\\n16363                     Shawshank Redemption, The (1994)\\n13882                               American Beauty (1999)\\n78210                                        Flight (2012)\\n37067        Lord of the Rings: The Two Towers, The (2002)\\n47598                                   Source Code (2011)\\n46900                                 Prestige, The (2006)\\n1881                                   Pulp Fiction (1994)\\n55863                                      Watchmen (2009)\\n89859                   Taking of Pelham 1 2 3, The (2009)\\n89881                           The Great Hypnotist (2014)\\n412                            Seven (a.k.a. Se7en) (1995)\\nName: title, dtype: object and the corresponded ratings are 1621     4.5\\n47705    3.5\\n89872    3.5\\n56722    4.0\\n51032    3.5\\n6819     4.0\\n67780    4.5\\n47635    4.0\\n65652    4.0\\n75981    4.5\\n55550    4.0\\n89865    4.0\\n35705    4.0\\n47125    4.0\\n51304    4.5\\n57127    4.5\\n76076    4.5\\n68444    3.5\\n42284    4.0\\n78871    3.5\\n24535    4.5\\n37977    3.5\\n47982    4.5\\n48025    4.0\\n35966    3.5\\n17795    4.5\\n30513    3.5\\n11884    4.5\\n56600    4.0\\n17259    4.0\\n56994    4.0\\n12698    4.0\\n14358    4.5\\n54888    4.0\\n73765    4.5\\n47547    4.0\\n68659    3.5\\n47941    4.5\\n55200    4.0\\n16363    4.0\\n13882    3.5\\n78210    4.0\\n37067    3.5\\n47598    4.5\\n46900    4.0\\n1881     4.0\\n55863    4.0\\n89859    4.0\\n89881    4.0\\n412      4.5\\nName: rating, dtype: float64. Based on these ratings, please provide a list of prediction rating corresponded to 4367     Silence of the Lambs, The (1991)\\n81075              Angels & Demons (2009)\\n17983                     Whiplash (2014)\\n17919                 Interstellar (2014)\\n42006        Bourne Ultimatum, The (2007)\\n17494                    Inception (2010)\\nName: title, dtype: object. Format: [n. <Movie Name> (<Year>) - Predicted Rating: <Rating>]\"}]\n",
      "1. Silence of the Lambs, The (1991) - Predicted Rating: 4.0\n",
      "2. Angels & Demons (2009) - Predicted Rating: 3.5\n",
      "3. Whiplash (2014) - Predicted Rating: 4.0\n",
      "4. Interstellar (2014) - Predicted Rating: 4.5\n",
      "5. Bourne Ultimatum, The (2007) - Predicted Rating: 3.5\n",
      "6. Inception (2010) - Predicted Rating: 4.5\n",
      "[('Silence of the Lambs, The', '4.0'), ('Angels & Demons', '3.5'), ('Whiplash', '4.0'), ('Interstellar', '4.5'), ('Bourne Ultimatum, The', '3.5'), ('Inception', '4.5')]\n",
      "0.25\n"
     ]
    }
   ],
   "source": [
    "prompt, answer, recommendations = recommend_prompt.prompt_for_rating(USER_ID)\n",
    "print(prompt)\n",
    "print(answer)\n",
    "print(recommendations)\n",
    "print(f\"RMSE: {recommend_prompt.evaluation(recommendations, USER_ID)}\")"
   ]
  },
  {
   "cell_type": "code",
   "execution_count": 7,
   "metadata": {},
   "outputs": [
    {
     "data": {
      "text/plain": [
       "0.25"
      ]
     },
     "execution_count": 7,
     "metadata": {},
     "output_type": "execute_result"
    }
   ],
   "source": [
    "recommend_prompt.evaluation(recommendations, USER_ID)"
   ]
  }
 ],
 "metadata": {
  "kernelspec": {
   "display_name": "base",
   "language": "python",
   "name": "python3"
  },
  "language_info": {
   "codemirror_mode": {
    "name": "ipython",
    "version": 3
   },
   "file_extension": ".py",
   "mimetype": "text/x-python",
   "name": "python",
   "nbconvert_exporter": "python",
   "pygments_lexer": "ipython3",
   "version": "3.9.6"
  },
  "orig_nbformat": 4
 },
 "nbformat": 4,
 "nbformat_minor": 2
}
