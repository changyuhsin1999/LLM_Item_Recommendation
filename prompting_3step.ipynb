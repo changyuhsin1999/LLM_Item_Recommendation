{
 "cells": [
  {
   "cell_type": "code",
   "execution_count": 2,
   "metadata": {},
   "outputs": [
    {
     "ename": "NameError",
     "evalue": "name 'train_test_split' is not defined",
     "output_type": "error",
     "traceback": [
      "\u001b[0;31m---------------------------------------------------------------------------\u001b[0m",
      "\u001b[0;31mNameError\u001b[0m                                 Traceback (most recent call last)",
      "\u001b[1;32m/Users/yiyang/Desktop/RL Apps/LLM_Item_Recommendation/prompting_3step.ipynb Cell 1\u001b[0m line \u001b[0;36m1\n\u001b[1;32m      <a href='vscode-notebook-cell:/Users/yiyang/Desktop/RL%20Apps/LLM_Item_Recommendation/prompting_3step.ipynb#W0sZmlsZQ%3D%3D?line=5'>6</a>\u001b[0m client \u001b[39m=\u001b[39m OpenAI()\n\u001b[1;32m      <a href='vscode-notebook-cell:/Users/yiyang/Desktop/RL%20Apps/LLM_Item_Recommendation/prompting_3step.ipynb#W0sZmlsZQ%3D%3D?line=7'>8</a>\u001b[0m data \u001b[39m=\u001b[39m pd\u001b[39m.\u001b[39mread_csv(\u001b[39m\"\u001b[39m\u001b[39mdata/merged_df.csv\u001b[39m\u001b[39m\"\u001b[39m)\n\u001b[0;32m---> <a href='vscode-notebook-cell:/Users/yiyang/Desktop/RL%20Apps/LLM_Item_Recommendation/prompting_3step.ipynb#W0sZmlsZQ%3D%3D?line=9'>10</a>\u001b[0m train_data, test_data \u001b[39m=\u001b[39m train_test_split(data, test_size\u001b[39m=\u001b[39m\u001b[39m0.2\u001b[39m, random_state\u001b[39m=\u001b[39m\u001b[39m42\u001b[39m)\n\u001b[1;32m     <a href='vscode-notebook-cell:/Users/yiyang/Desktop/RL%20Apps/LLM_Item_Recommendation/prompting_3step.ipynb#W0sZmlsZQ%3D%3D?line=10'>11</a>\u001b[0m system_prompt \u001b[39m=\u001b[39m \u001b[39m\"\u001b[39m\u001b[39mYou are a movie recommender system that will compare user previous watch history and ratings.\u001b[39m\u001b[39m\"\u001b[39m\n\u001b[1;32m     <a href='vscode-notebook-cell:/Users/yiyang/Desktop/RL%20Apps/LLM_Item_Recommendation/prompting_3step.ipynb#W0sZmlsZQ%3D%3D?line=11'>12</a>\u001b[0m unique_movie_titles \u001b[39m=\u001b[39m merged_df[\u001b[39m'\u001b[39m\u001b[39mtitle\u001b[39m\u001b[39m'\u001b[39m]\u001b[39m.\u001b[39munique()\u001b[39m.\u001b[39mtolist()\n",
      "\u001b[0;31mNameError\u001b[0m: name 'train_test_split' is not defined"
     ]
    }
   ],
   "source": [
    "import os\n",
    "import pandas as pd\n",
    "from openai import OpenAI\n",
    "from func import get_user_watch_history\n",
    "from sklearn.model_selection import train_test_split\n",
    "\n",
    "client = OpenAI()\n",
    "\n",
    "data = pd.read_csv(\"data/merged_df.csv\")\n",
    "\n",
    "train_data, test_data = train_test_split(data, test_size=0.2, random_state=42)\n",
    "system_prompt = \"You are a movie recommender system that will compare user previous watch history and ratings.\"\n",
    "unique_movie_titles = merged_df['title'].unique().tolist()\n",
    "\n",
    "user_id = 133\n",
    "candidate_size = 100"
   ]
  },
  {
   "cell_type": "markdown",
   "metadata": {},
   "source": [
    "# Step 0: User Filtering"
   ]
  },
  {
   "cell_type": "code",
   "execution_count": 3,
   "metadata": {},
   "outputs": [
    {
     "ename": "NameError",
     "evalue": "name 'user_id' is not defined",
     "output_type": "error",
     "traceback": [
      "\u001b[0;31m---------------------------------------------------------------------------\u001b[0m",
      "\u001b[0;31mNameError\u001b[0m                                 Traceback (most recent call last)",
      "\u001b[1;32m/Users/yiyang/Desktop/RL Apps/LLM_Item_Recommendation/prompting_3step.ipynb Cell 3\u001b[0m line \u001b[0;36m1\n\u001b[1;32m     <a href='vscode-notebook-cell:/Users/yiyang/Desktop/RL%20Apps/LLM_Item_Recommendation/prompting_3step.ipynb#W2sZmlsZQ%3D%3D?line=9'>10</a>\u001b[0m     most_similar \u001b[39m=\u001b[39m similar_users\u001b[39m.\u001b[39mindex[\u001b[39m1\u001b[39m]\n\u001b[1;32m     <a href='vscode-notebook-cell:/Users/yiyang/Desktop/RL%20Apps/LLM_Item_Recommendation/prompting_3step.ipynb#W2sZmlsZQ%3D%3D?line=10'>11</a>\u001b[0m     \u001b[39mreturn\u001b[39;00m most_similar\n\u001b[0;32m---> <a href='vscode-notebook-cell:/Users/yiyang/Desktop/RL%20Apps/LLM_Item_Recommendation/prompting_3step.ipynb#W2sZmlsZQ%3D%3D?line=12'>13</a>\u001b[0m get_similar_users(user_id, train_data)\n",
      "\u001b[0;31mNameError\u001b[0m: name 'user_id' is not defined"
     ]
    }
   ],
   "source": [
    "from sklearn.metrics.pairwise import cosine_similarity\n",
    "import pandas as pd\n",
    "\n",
    "def get_similar_users(user_id, data):\n",
    "    user_movie_matrix = data.pivot_table(index='userId', columns='title', values='rating')\n",
    "    user_movie_matrix = user_movie_matrix.fillna(0)\n",
    "    similarity_matrix = cosine_similarity(user_movie_matrix)\n",
    "    similarity_df = pd.DataFrame(similarity_matrix, index=user_movie_matrix.index, columns=user_movie_matrix.index)\n",
    "    similar_users = similarity_df[user_id].sort_values(ascending=False)\n",
    "    most_similar = similar_users.index[1]\n",
    "    return most_similar\n",
    "\n",
    "get_similar_users(user_id, train_data)"
   ]
  },
  {
   "cell_type": "code",
   "execution_count": 21,
   "metadata": {},
   "outputs": [
    {
     "data": {
      "text/plain": [
       "(100836, 5)"
      ]
     },
     "execution_count": 21,
     "metadata": {},
     "output_type": "execute_result"
    }
   ],
   "source": [
    "merged_df.shape"
   ]
  },
  {
   "cell_type": "code",
   "execution_count": 11,
   "metadata": {},
   "outputs": [],
   "source": [
    "from sklearn.model_selection import train_test_split\n",
    "data = merged_df\n",
    "user_df = data[data[\"userId\"] == user_id]\n",
    "\n",
    "train_df, test_df = train_test_split(user_df, test_size=0.2, random_state=42)\n",
    "train_title, train_rating = train_df[\"title\"], train_df[\"rating\"]\n",
    "test_title, test_rating = test_df[\"title\"], test_df[\"rating\"]"
   ]
  },
  {
   "cell_type": "code",
   "execution_count": 12,
   "metadata": {},
   "outputs": [],
   "source": [
    "import numpy as np\n",
    "import random\n",
    "movie_df = list(pd.unique(data[\"title\"]))\n",
    "candidate = random.sample(movie_df, k=candidate_size)"
   ]
  },
  {
   "cell_type": "code",
   "execution_count": 13,
   "metadata": {},
   "outputs": [
    {
     "name": "stdout",
     "output_type": "stream",
     "text": [
      "The length of the training set: 28\n",
      "The length of the testing set: 7\n",
      "The length of the candidate set: 100\n"
     ]
    }
   ],
   "source": [
    "print(f\"The length of the training set: {len(train_title)}\")\n",
    "print(f\"The length of the testing set: {len(test_title)}\")\n",
    "print(f\"The length of the candidate set: {len(candidate)}\")"
   ]
  },
  {
   "cell_type": "code",
   "execution_count": 14,
   "metadata": {},
   "outputs": [],
   "source": [
    "def clean_candidate(candidate, train_title, test_title):\n",
    "    to_remove = []\n",
    "    for movie in candidate:\n",
    "        if movie in train_title:\n",
    "            ro_remove.append(movie)\n",
    "    for movie in to_remove:\n",
    "        candidate.append(movie)\n",
    "    for movie in test_title:\n",
    "        if movie not in candidate:\n",
    "            candidate.append(movie) \n",
    "    return candidate\n",
    "            \n",
    "candidate = clean_candidate(candidate, train_title, test_title)"
   ]
  },
  {
   "cell_type": "code",
   "execution_count": 15,
   "metadata": {},
   "outputs": [],
   "source": [
    "movie_rating = \"\"\n",
    "for i in range(len(train_title)):\n",
    "    movie_rating += f\"{train_title.iloc[i]}: {train_rating.iloc[i]} \\n\"\n",
    "\n",
    "if user_id in merged_df['userId'].values:\n",
    "    titles_list, ratings_list = get_user_watch_history(user_id, merged_df)\n",
    "    messages=[\n",
    "        # {\"role\": \"user\", \"content\": f\"Candidate Set(candidate movies): \"},\n",
    "        {\"role\": \"user\", \"content\": f\"The movies I have watched(watched movies): {movie_rating}\"},\n",
    "        {\"role\": \"user\", \"content\": f\"Step 1: What features are most important to me when selecting movies? \"},\n",
    "    ]\n",
    "    completion = client.chat.completions.create(\n",
    "        model=\"gpt-3.5-turbo-1106\",\n",
    "        messages=messages\n",
    "    )\n",
    "\n",
    "answer1 = (completion.choices[0].message.content)\n"
   ]
  },
  {
   "cell_type": "code",
   "execution_count": 16,
   "metadata": {},
   "outputs": [
    {
     "name": "stdout",
     "output_type": "stream",
     "text": [
      "Based on your ratings, the selected movies in descending order of preference would be:\n",
      "\n",
      "1. The Fugitive, The (1993): 4.0\n",
      "2. Twelve Monkeys (a.k.a. 12 Monkeys) (1995): 4.0\n",
      "3. Schindler's List (1993): 4.0\n",
      "4. Forrest Gump (1994): 4.0\n",
      "5. Seven (a.k.a. Se7en) (1995): 4.0\n"
     ]
    }
   ],
   "source": [
    "# movie_rating = \"\"\n",
    "# for i in range(len(train_title)):\n",
    "#     movie_rating += f\"{train_title.iloc[i]}: {train_rating.iloc[i]} \\n\"\n",
    "\n",
    "messages=[\n",
    "    {\"role\": \"user\", \"content\": f\"The movies I have watched(watched movies) and their ratings: {movie_rating}\"},\n",
    "    {\"role\": \"user\", \"content\": f\"Step 1: What features are most important to me when selecting movies? \"},\n",
    "]\n",
    "\n",
    "messages.append({\"role\": \"assistant\", \"content\": answer1})\n",
    "                \n",
    "step2 = \"You will select the movies (at most 5 movies) that appeal to me the most from the list of movies \\\n",
    "    I have watched, based on my personal preferences. The selected movies will be presented in descending \\\n",
    "    order of preference. (Format: no. a watched movie).\"\n",
    "    \n",
    "messages.append({\"role\": \"user\", \"content\": step2})\n",
    "                \n",
    "completion = client.chat.completions.create(\n",
    "        model=\"gpt-3.5-turbo-1106\",\n",
    "        messages=messages\n",
    "    )\n",
    "\n",
    "answer2 = (completion.choices[0].message.content)\n",
    "print(answer2)"
   ]
  },
  {
   "cell_type": "code",
   "execution_count": 17,
   "metadata": {},
   "outputs": [
    {
     "name": "stdout",
     "output_type": "stream",
     "text": [
      "Based on your selection, here are 10 recommendations from the candidate set that are similar to the selected movies you've watched:\n",
      "\n",
      "1. The Fugitive, The (1993): <- In the Line of Fire (1993) ->\n",
      "2. Twelve Monkeys (a.k.a. 12 Monkeys) (1995): <-  Apollo 13 (1995) ->\n",
      "3. Schindler's List (1993): <- Silence of the Lambs, The (1991) ->\n",
      "4. Forrest Gump (1994): <- Interview with the Vampire: The Vampire Chronicles (1994) ->\n",
      "5. Seven (a.k.a. Se7en) (1995): <- Shawshank Redemption, The (1994) ->\n",
      "6. Jurassic Park (1993): <- Sliver (1993) ->\n",
      "7. True Romance (1993): <- Firm, The (1993) ->\n",
      "8. Pulp Fiction (1994): <- Billy Liar (1963) ->\n",
      "9. Sleepless in Seattle (1993): <- Where the Money Is (2000) ->\n",
      "10. Dances with Wolves (1990): <- Warriors of Heaven and Earth (Tian di ying xiong) (2003) ->\n",
      "\n",
      "Please note to verify that your preferences fully align, it's recommended to check the synopses and reviews for each movie before watching.\n"
     ]
    }
   ],
   "source": [
    "\n",
    "messages.append({\"role\": \"assistant\", \"content\": answer2})\n",
    "\n",
    "messages.append({\"role\": \"user\", \"content\": f\"Candidate Set(candidate movies): {', '.join(candidate)}\"},)\n",
    "                \n",
    "step3 = \"Can you recommend 10 different movies only from the Candidate Set similar to the selected \\\n",
    "    movies I've watched (Format: [no. a watched movie : <- a candidate movie ->])? Check that your recommendation is in the candidate set\"\n",
    "    \n",
    "messages.append({\"role\": \"user\", \"content\": step3})\n",
    "                \n",
    "completion = client.chat.completions.create(\n",
    "        model=\"gpt-3.5-turbo-1106\",\n",
    "        messages=messages\n",
    "    )\n",
    "\n",
    "answer3 = (completion.choices[0].message.content)\n",
    "print(answer3)"
   ]
  },
  {
   "cell_type": "code",
   "execution_count": 18,
   "metadata": {},
   "outputs": [
    {
     "name": "stdout",
     "output_type": "stream",
     "text": [
      "In the Line of Fire (1993) in testing\n",
      " Apollo 13 (1995) not in candidate\n",
      "Silence of the Lambs, The (1991) in testing\n",
      "Interview with the Vampire: The Vampire Chronicles (1994) in testing\n",
      "Shawshank Redemption, The (1994) in testing\n",
      "Firm, The (1993) in testing\n"
     ]
    },
    {
     "data": {
      "text/plain": [
       "0.5"
      ]
     },
     "execution_count": 18,
     "metadata": {},
     "output_type": "execute_result"
    }
   ],
   "source": [
    "import re\n",
    "\n",
    "def parse_answer3(answer3):\n",
    "    lines = answer3.split('\\n')\n",
    "    pattern = r'<- (.*?) ->'\n",
    "    movie_pred = []\n",
    "    for line in lines:\n",
    "        match = re.search(pattern, line)\n",
    "        if match:\n",
    "            title = match.group(1)\n",
    "            movie_pred.append(title)\n",
    "    return movie_pred\n",
    "\n",
    "def accuracy(movie_pred, test_title):\n",
    "    correct = 0\n",
    "    test_title_list = list(test_title)\n",
    "    for movie in movie_pred:\n",
    "        if movie not in candidate:\n",
    "            print(f\"{movie} not in candidate\")\n",
    "        if movie in test_title_list:\n",
    "            print(f\"{movie} in testing\")\n",
    "            correct += 1\n",
    "    return correct / len(movie_pred)\n",
    "\n",
    "movie_pred = parse_answer3(answer3)\n",
    "accuracy(movie_pred, test_title)"
   ]
  },
  {
   "cell_type": "code",
   "execution_count": 20,
   "metadata": {},
   "outputs": [],
   "source": [
    "# title = \"Cabaret\"\n",
    "# for movie in candidate:\n",
    "#     if title in movie:\n",
    "#         print(movie + \"in candidate\")\n",
    "# for movie in test_title:\n",
    "#     if title in movie:\n",
    "#         print(movie + \"in test\")\n",
    "# for movie in train_title:\n",
    "#     if title in movie:\n",
    "#         print(movie + \"in train\")"
   ]
  },
  {
   "cell_type": "code",
   "execution_count": null,
   "metadata": {},
   "outputs": [
    {
     "name": "stdout",
     "output_type": "stream",
     "text": [
      "Airplane! (1980) in testing\n",
      "Abyss, The (1989) in testing\n"
     ]
    },
    {
     "data": {
      "text/plain": [
       "0.2"
      ]
     },
     "execution_count": 27,
     "metadata": {},
     "output_type": "execute_result"
    }
   ],
   "source": [
    "movie_popularity = merged_df.groupby('title').size().sort_values(ascending=False)\n",
    "baseline_pred = []\n",
    "for movie in movie_popularity.index:\n",
    "    if movie in candidate:\n",
    "        baseline_pred.append(movie)\n",
    "    if len(baseline_pred) >= 10:\n",
    "        break\n",
    "accuracy(baseline_pred, test_title)"
   ]
  },
  {
   "cell_type": "markdown",
   "metadata": {},
   "source": [
    "Results:\n",
    "\n",
    "1. The GPT model gives results not in testing even if we specify a testing set. It only support a candidate set of around 100.\n",
    "2. The GPT gives recommendation with accuracy 0.5, while the \"most popular\" recommender only gives recommendation with accuracy 0.2."
   ]
  }
 ],
 "metadata": {
  "kernelspec": {
   "display_name": "base",
   "language": "python",
   "name": "python3"
  },
  "language_info": {
   "codemirror_mode": {
    "name": "ipython",
    "version": 3
   },
   "file_extension": ".py",
   "mimetype": "text/x-python",
   "name": "python",
   "nbconvert_exporter": "python",
   "pygments_lexer": "ipython3",
   "version": "3.9.6"
  },
  "orig_nbformat": 4
 },
 "nbformat": 4,
 "nbformat_minor": 2
}
