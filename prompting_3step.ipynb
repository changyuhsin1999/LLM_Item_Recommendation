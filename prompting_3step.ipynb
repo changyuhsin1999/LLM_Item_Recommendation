{
 "cells": [
  {
   "cell_type": "markdown",
   "metadata": {},
   "source": [
    "# Step 0.1: Data Loading"
   ]
  },
  {
   "cell_type": "code",
   "execution_count": 166,
   "metadata": {},
   "outputs": [],
   "source": [
    "import os\n",
    "import pandas as pd\n",
    "from openai import OpenAI\n",
    "from func import get_user_watch_history\n",
    "from sklearn.model_selection import train_test_split\n",
    "\n",
    "client = OpenAI()\n",
    "\n",
    "data = pd.read_csv(\"data/merged_df.csv\")\n",
    "\n",
    "train_data, test_data = train_test_split(data, test_size=0.2, random_state=42)\n",
    "system_prompt = \"You are a movie recommender system that will compare user previous watch history and ratings.\"\n",
    "unique_movie_titles = set(data['title'].unique().tolist())\n",
    "\n",
    "user_id = 123\n",
    "candidate_size = 100"
   ]
  },
  {
   "cell_type": "code",
   "execution_count": 167,
   "metadata": {},
   "outputs": [],
   "source": [
    "train_user_df = train_data[train_data[\"userId\"] == user_id]\n",
    "test_user_df = test_data[test_data[\"userId\"] == user_id]\n",
    "\n",
    "train_title, train_rating = train_user_df[\"title\"], train_user_df[\"rating\"]\n",
    "test_title, test_rating = test_user_df[\"title\"], test_user_df[\"rating\"]"
   ]
  },
  {
   "cell_type": "markdown",
   "metadata": {},
   "source": [
    "# Step 0.2: User Filtering"
   ]
  },
  {
   "cell_type": "code",
   "execution_count": 168,
   "metadata": {},
   "outputs": [],
   "source": [
    "from sklearn.metrics.pairwise import cosine_similarity\n",
    "import pandas as pd\n",
    "\n",
    "def get_similar_users(user_id, data):\n",
    "    user_movie_matrix = data.pivot_table(index='userId', columns='title', values='rating')\n",
    "    user_movie_matrix = user_movie_matrix.fillna(0)\n",
    "    similarity_matrix = cosine_similarity(user_movie_matrix)\n",
    "    similarity_df = pd.DataFrame(similarity_matrix, index=user_movie_matrix.index, columns=user_movie_matrix.index)\n",
    "    similar_users = similarity_df[user_id].sort_values(ascending=False)\n",
    "    return similar_users\n",
    "\n",
    "similar_users = list(get_similar_users(user_id, train_data).iloc[:candidate_size].index)\n",
    "train_similar_df = train_data[train_data[\"userId\"].isin(similar_users)]\n",
    "movie_popularity = train_similar_df.groupby('title').size().sort_values(ascending=False)\n",
    "candidate1 = list(movie_popularity.head(candidate_size).head(candidate_size).index)"
   ]
  },
  {
   "cell_type": "markdown",
   "metadata": {},
   "source": [
    "# Step 0.3: Item Filtering"
   ]
  },
  {
   "cell_type": "code",
   "execution_count": 169,
   "metadata": {},
   "outputs": [],
   "source": [
    "train_movie = train_user_df[\"movieId\"]\n",
    "watched = pd.unique(train_movie).tolist()"
   ]
  },
  {
   "cell_type": "code",
   "execution_count": 170,
   "metadata": {},
   "outputs": [],
   "source": [
    "user_item_matrix = data.pivot_table(index='userId', columns='movieId', values='rating')\n",
    "user_item_matrix = user_item_matrix.fillna(0)\n",
    "item_similarity = cosine_similarity(user_item_matrix.T)\n",
    "def find_similar_movies(target_item_id, data):\n",
    "    target_item_index = user_item_matrix.columns.get_loc(target_item_id)\n",
    "    similarities = item_similarity[target_item_index]\n",
    "    similar_items_df = pd.DataFrame({'movieId': user_item_matrix.columns, 'similarity_score': similarities})\n",
    "    similar_items_df = similar_items_df.sort_values(by='similarity_score', ascending=False)\n",
    "    N = candidate_size\n",
    "    top_similar_items = similar_items_df.head(N)\n",
    "    return top_similar_items\n",
    "\n",
    "similar_movies = []\n",
    "for movie in watched:\n",
    "    similar_movies.append(find_similar_movies(movie, train_data))\n",
    "similar_df = pd.concat(similar_movies)\n",
    "\n",
    "movie_popularity = similar_df.groupby('movieId').size().sort_values(ascending=False)\n",
    "candidate2 = list(movie_popularity.head(candidate_size).head(candidate_size).index)\n",
    "candidate2 = train_data.loc[train_data['movieId'].isin(candidate2), 'title'].tolist()\n",
    "candidate = list(set(candidate1) | set(candidate2))"
   ]
  },
  {
   "cell_type": "code",
   "execution_count": 171,
   "metadata": {},
   "outputs": [
    {
     "name": "stdout",
     "output_type": "stream",
     "text": [
      "2 4\n"
     ]
    }
   ],
   "source": [
    "def clean_candidate(candidate, train_title, test_title):\n",
    "    to_remove = []\n",
    "    \n",
    "    for movie in candidate:\n",
    "        if movie in train_title:\n",
    "            ro_remove.append(movie)\n",
    "            print(f\"to remove: {movie} \")\n",
    "    count1 = 0\n",
    "    count2 = 0\n",
    "    for movie in to_remove:\n",
    "        candidate.append(movie)\n",
    "    for movie in test_title:\n",
    "        if movie not in candidate:\n",
    "            # print(f\"not in candidate: {movie} \")\n",
    "            count1 += 1\n",
    "        else:\n",
    "            # print(movie)\n",
    "            count2 += 1\n",
    "    print(count1, count2)\n",
    "            \n",
    "    return candidate\n",
    "            \n",
    "candidate = clean_candidate(candidate, train_title, test_title)"
   ]
  },
  {
   "cell_type": "code",
   "execution_count": 172,
   "metadata": {},
   "outputs": [
    {
     "name": "stdout",
     "output_type": "stream",
     "text": [
      "The length of the training set: 50\n",
      "The length of the testing set: 6\n",
      "The length of the candidate set: 128\n"
     ]
    }
   ],
   "source": [
    "print(f\"The length of the training set: {len(train_title)}\")\n",
    "print(f\"The length of the testing set: {len(test_title)}\")\n",
    "print(f\"The length of the candidate set: {len(candidate)}\")"
   ]
  },
  {
   "cell_type": "markdown",
   "metadata": {},
   "source": [
    "# Step 1: Summarize User Preferences"
   ]
  },
  {
   "cell_type": "code",
   "execution_count": 173,
   "metadata": {},
   "outputs": [],
   "source": [
    "import numpy as np\n",
    "import random\n",
    "movie_df = list(pd.unique(data[\"title\"]))"
   ]
  },
  {
   "cell_type": "code",
   "execution_count": 174,
   "metadata": {},
   "outputs": [],
   "source": [
    "\n",
    "movie_rating = \"\"\n",
    "for i in range(len(train_title)):\n",
    "    movie_rating += f\"{train_title.iloc[i]}: {train_rating.iloc[i]} \\n\"\n",
    "\n",
    "if user_id in data['userId'].values:\n",
    "    titles_list, ratings_list = get_user_watch_history(user_id, data)\n",
    "    messages=[\n",
    "        # {\"role\": \"user\", \"content\": f\"Candidate Set(candidate movies): \"},\n",
    "        {\"role\": \"user\", \"content\": f\"The movies I have watched(watched movies): {movie_rating}\"},\n",
    "        {\"role\": \"user\", \"content\": f\"Step 1: What features are most important to me when selecting movies? \"},\n",
    "    ]\n",
    "    completion = client.chat.completions.create(\n",
    "        model=\"gpt-3.5-turbo-1106\",\n",
    "        messages=messages\n",
    "    )\n",
    "\n",
    "answer1 = (completion.choices[0].message.content)\n",
    "answer1\n"
   ]
  },
  {
   "cell_type": "markdown",
   "metadata": {},
   "source": [
    "# Step 2: User's Favorite Movies"
   ]
  },
  {
   "cell_type": "code",
   "execution_count": 175,
   "metadata": {},
   "outputs": [
    {
     "name": "stdout",
     "output_type": "stream",
     "text": [
      "Based on your personal preferences, the selected movies in descending order of preference are:\n",
      "\n",
      "1. Nightcrawler (2014)\n",
      "2. Memento (2000)\n",
      "3. American History X (1998)\n",
      "4. Fight Club (1999)\n",
      "5. Zodiac (2007)\n",
      "6. Inside Man (2006)\n",
      "7. Seven (a.k.a. Se7en) (1995)\n",
      "8. The Imitation Game (2014)\n",
      "9. Django Unchained (2012)\n",
      "10. Gone Girl (2014)\n",
      "\n",
      "These selections are based on the high ratings you've given to these movies, indicating a strong preference for intense, thought-provoking, and visually compelling films.\n"
     ]
    }
   ],
   "source": [
    "# movie_rating = \"\"\n",
    "# for i in range(len(train_title)):\n",
    "#     movie_rating += f\"{train_title.iloc[i]}: {train_rating.iloc[i]} \\n\"\n",
    "\n",
    "messages=[\n",
    "    {\"role\": \"user\", \"content\": f\"The movies I have watched(watched movies) and their ratings: {movie_rating}\"},\n",
    "    {\"role\": \"user\", \"content\": f\"Step 1: What features are most important to me when selecting movies? \"},\n",
    "]\n",
    "\n",
    "messages.append({\"role\": \"assistant\", \"content\": answer1})\n",
    "                \n",
    "step2 = \"You will select the movies (at most 10 movies) that appeal to me the most from the list of movies \\\n",
    "    I have watched, based on my personal preferences. The selected movies will be presented in descending \\\n",
    "    order of preference. (Format: no. a watched movie).\"\n",
    "    \n",
    "messages.append({\"role\": \"user\", \"content\": step2})\n",
    "                \n",
    "completion = client.chat.completions.create(\n",
    "        model=\"gpt-3.5-turbo-1106\",\n",
    "        messages=messages\n",
    "    )\n",
    "\n",
    "answer2 = (completion.choices[0].message.content)\n",
    "print(answer2)"
   ]
  },
  {
   "cell_type": "markdown",
   "metadata": {},
   "source": [
    "# Step3: Recommend From Candidate"
   ]
  },
  {
   "cell_type": "code",
   "execution_count": 176,
   "metadata": {},
   "outputs": [
    {
     "name": "stdout",
     "output_type": "stream",
     "text": [
      "Sure, based on your watched movies, here are some recommendations from the candidate set:\n",
      "\n",
      "1. Nightcrawler : Zodiac (2007)\n",
      "2. Memento : Inception (2010)\n",
      "3. American History X : The Departed (2006)\n",
      "4. Fight Club : Seven (a.k.a. Se7en) (1995)\n",
      "5. Zodiac : The Girl with the Dragon Tattoo (2011)\n",
      "6. Inside Man : The Usual Suspects (1995)\n",
      "7. Seven : Silence of the Lambs (1991)\n",
      "8. The Imitation Game : Inception (2010)\n",
      "9. Django Unchained : Inglourious Basterds (2009)\n",
      "10. Gone Girl : Shutter Island (2010)\n",
      "\n",
      "These recommendations are based on the themes, genres, and ratings of the movies you've watched, aiming to provide similar viewing experiences.\n"
     ]
    }
   ],
   "source": [
    "\n",
    "messages.append({\"role\": \"assistant\", \"content\": answer2})\n",
    "\n",
    "messages.append({\"role\": \"user\", \"content\": f\"Candidate Set(candidate movies): {', '.join(candidate)}\"},)\n",
    "                \n",
    "step3 = \"Can you recommend 10 different movies only from the Candidate Set similar to the selected \\\n",
    "    movies I've watched (Format: [<n>. <a watched movie> : <a candidate movie>])?\" + f\"Candidate Set(candidate movies): {', '.join(candidate)}\"\n",
    "    \n",
    "messages.append({\"role\": \"user\", \"content\": step3})\n",
    "                \n",
    "completion = client.chat.completions.create(\n",
    "        model=\"gpt-3.5-turbo-1106\",\n",
    "        messages=messages\n",
    "    )\n",
    "\n",
    "answer3 = (completion.choices[0].message.content)\n",
    "print(answer3)"
   ]
  },
  {
   "cell_type": "code",
   "execution_count": 182,
   "metadata": {},
   "outputs": [
    {
     "name": "stdout",
     "output_type": "stream",
     "text": [
      "Inception in test\n",
      "Silence of the Lambs in test\n",
      "Inception in test\n"
     ]
    },
    {
     "data": {
      "text/plain": [
       "0.3"
      ]
     },
     "execution_count": 182,
     "metadata": {},
     "output_type": "execute_result"
    }
   ],
   "source": [
    "import re\n",
    "\n",
    "def parse_answer3(answer3):\n",
    "    lines = answer3.split('\\n')\n",
    "    pattern = r': (.*?) \\((\\d+)\\)'\n",
    "    movie_pred = []\n",
    "    for line in lines:\n",
    "        match = re.search(pattern, line)\n",
    "        if match:\n",
    "            title = match.group(1)\n",
    "            year = match.group(2)\n",
    "            movie_pred.append((title, year))\n",
    "    return movie_pred\n",
    "\n",
    "def accuracy(movie_pred, test_title):\n",
    "    correct = 0\n",
    "    test_title_list = list(test_title)\n",
    "    for title, year in movie_pred:\n",
    "        if \"The\" in title:\n",
    "            title = title[4:]\n",
    "        find_candidate = 0\n",
    "        for movie in candidate:\n",
    "            if title in movie:\n",
    "                find_candidate = 1\n",
    "                break\n",
    "        if not find_candidate:\n",
    "            print(f\"{title} not in candidate\")\n",
    "        for movie in test_title_list:\n",
    "            if title in movie:\n",
    "                print(f\"{title} in test\")\n",
    "                correct += 1\n",
    "                break\n",
    "    return correct / len(movie_pred)\n",
    "\n",
    "movie_pred = parse_answer3(answer3)\n",
    "accuracy(movie_pred, test_title)"
   ]
  },
  {
   "cell_type": "code",
   "execution_count": 183,
   "metadata": {},
   "outputs": [
    {
     "name": "stdout",
     "output_type": "stream",
     "text": [
      "in candidate: Sixth Sense, The (1999)\n"
     ]
    }
   ],
   "source": [
    "# word = \"Sixth\"\n",
    "# for movie in candidate:\n",
    "#     if word in movie:\n",
    "#         print(f\"in candidate: {movie}\")\n",
    "# for movie in test_title:\n",
    "#     if word in movie:\n",
    "#         print(f\"in test: {movie}\")"
   ]
  },
  {
   "cell_type": "code",
   "execution_count": 186,
   "metadata": {},
   "outputs": [],
   "source": [
    "def accuracy(movie_pred, test_title):\n",
    "    correct = 0\n",
    "    test_title_list = list(test_title)\n",
    "    for movie in movie_pred:\n",
    "        if movie in test_title_list:\n",
    "            print(f\"{movie} in test\")\n",
    "            correct += 1\n",
    "            break\n",
    "    return correct / len(movie_pred)"
   ]
  },
  {
   "cell_type": "code",
   "execution_count": 187,
   "metadata": {},
   "outputs": [
    {
     "name": "stdout",
     "output_type": "stream",
     "text": [
      "Silence of the Lambs, The (1991) in test\n"
     ]
    },
    {
     "data": {
      "text/plain": [
       "0.1"
      ]
     },
     "execution_count": 187,
     "metadata": {},
     "output_type": "execute_result"
    }
   ],
   "source": [
    "movie_popularity = data.groupby('title').size().sort_values(ascending=False)\n",
    "baseline_pred = []\n",
    "for movie in movie_popularity.index:\n",
    "    if movie in candidate:\n",
    "        baseline_pred.append(movie)\n",
    "    if len(baseline_pred) >= 10:\n",
    "        break\n",
    "accuracy(baseline_pred, test_title)"
   ]
  },
  {
   "cell_type": "markdown",
   "metadata": {},
   "source": [
    "# Step 4: Evaluation:"
   ]
  },
  {
   "cell_type": "code",
   "execution_count": null,
   "metadata": {},
   "outputs": [],
   "source": [
    "def"
   ]
  },
  {
   "cell_type": "markdown",
   "metadata": {},
   "source": [
    "Results:\n",
    "\n",
    "1. The GPT model gives results not in testing even if we specify a testing set. It only support a candidate set of around 100.\n",
    "2. The GPT gives recommendation with accuracy 0.5, while the \"most popular\" recommender only gives recommendation with accuracy 0.2."
   ]
  }
 ],
 "metadata": {
  "kernelspec": {
   "display_name": "base",
   "language": "python",
   "name": "python3"
  },
  "language_info": {
   "codemirror_mode": {
    "name": "ipython",
    "version": 3
   },
   "file_extension": ".py",
   "mimetype": "text/x-python",
   "name": "python",
   "nbconvert_exporter": "python",
   "pygments_lexer": "ipython3",
   "version": "3.9.6"
  },
  "orig_nbformat": 4
 },
 "nbformat": 4,
 "nbformat_minor": 2
}
