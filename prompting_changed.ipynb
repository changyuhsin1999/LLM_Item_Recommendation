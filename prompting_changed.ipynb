{
 "cells": [
  {
   "cell_type": "code",
   "execution_count": 1,
   "metadata": {},
   "outputs": [
    {
     "name": "stdout",
     "output_type": "stream",
     "text": [
      "Based on User 312's previously watched movies and ratings, I would recommend the following 10 movies that they might enjoy:\n",
      "\n",
      "1. The Shining (1980)\n",
      "2. Pulp Fiction (1994)\n",
      "3. The Godfather (1972)\n",
      "4. Fight Club (1999)\n",
      "5. The Matrix (1999)\n",
      "6. The Dark Knight (2008)\n",
      "7. Inception (2010)\n",
      "8. The Silence of the Lambs (1991)\n",
      "9. Forrest Gump (1994)\n",
      "10. The Shawshank Redemption (1994)\n",
      "\n",
      "As for the predicted ratings for these movies, it is difficult to provide an exact prediction without knowing User 312's specific preferences. However, based on the previous ratings they have given, these movies are highly regarded and have generally received positive reviews. Hence, it is likely that User 312 will rate these movies somewhere between 3.5 and 5.0.\n"
     ]
    }
   ],
   "source": [
    "import os\n",
    "import pandas as pd\n",
    "from openai import OpenAI\n",
    "from src.func import get_user_watch_history\n",
    "\n",
    "client = OpenAI()\n",
    "\n",
    "merged_df = pd.read_csv(\"data/merged_df.csv\")\n",
    "unique_movie_titles = merged_df['title'].unique().tolist()\n",
    "system_prompt = \"You are a movie recommender system that will compare user previous watch history and ratings.\"\n",
    "\n",
    "# def get_movies_and_predict_ratings():\n",
    "user_response = input(\"Are you planning to watch the movie alone or with a partner? (alone[a]/partner[p]): \").strip().lower()\n",
    "if user_response in ['alone', 'a']:\n",
    "  user_id = int(input(\"Enter Your User ID:\"))\n",
    "  if user_id in merged_df['userId'].values:\n",
    "    titles_list, ratings_list = get_user_watch_history(user_id, merged_df)\n",
    "    completion = client.chat.completions.create(\n",
    "    model=\"gpt-3.5-turbo\",\n",
    "    messages=[\n",
    "      {\"role\": \"system\", \"content\": f\"{system_prompt} Based on the genre and ratings of those movies that this particular user gave, please recommend 10 movie that this user would enjoy watching and predict the rating of these 10 movies given by this user\"},\n",
    "      {\"role\": \"user\", \"content\": f\"User {user_id}'s previously watch movies include {titles_list} and the corresponded ratings are {ratings_list}. Please suggest 10 movie based on the watch history and predict ratings of those 10 movies based on user preferences\"}\n",
    "    ]\n",
    "  )\n",
    "  else:\n",
    "    print(\"This is not a valid user ID, please try again\")\n",
    "elif user_response in ['partner', 'p']:\n",
    "  user_A = int(input(\"Enter Your User ID:\"))\n",
    "  user_B = int(input(\"Enter Your Partner's User ID:\"))\n",
    "  if user_A and user_B in merged_df['userId'].values:\n",
    "    titles_list_A, ratings_list_A = get_user_watch_history(user_A, merged_df)\n",
    "    titles_list_B, ratings_list_B = get_user_watch_history(user_B, merged_df)\n",
    "    completion = client.chat.completions.create(\n",
    "    model=\"gpt-3.5-turbo\",\n",
    "    messages=[\n",
    "      {\"role\": \"system\", \"content\": f\"{system_prompt} Based on the genre and ratings of movies from 2 users, please recommend 10 movie that these 2 users would enjoy watching together and predict the rating of these 10 movies\"},\n",
    "      {\"role\": \"user\", \"content\": f\"User {user_A}'s previously watch movies include {titles_list_A} and the corresponded ratings are {ratings_list_A}. User {user_B}'s previously watch movies include {titles_list_B} and the corresponded ratings are {ratings_list_B} Please suggest 10 movie that both users would enjoy watching based on the watch histories and predict specific ratings of those 10 movies based on user preferences\"}\n",
    "    ]\n",
    "  )\n",
    "else:\n",
    "    print(\"Invalid response. Please answer with 'alone','a' or 'partner','p'.\")\n",
    "    \n",
    "\n",
    "print(completion.choices[0].message.content) "
   ]
  },
  {
   "cell_type": "markdown",
   "metadata": {},
   "source": [
    "# Watch party with 2 userID\n",
    "user_A = 23\n",
    "\n",
    "user_B = 445"
   ]
  },
  {
   "cell_type": "code",
   "execution_count": 2,
   "metadata": {},
   "outputs": [
    {
     "name": "stdout",
     "output_type": "stream",
     "text": [
      "Based on User 312's previously watched movies and ratings, I would recommend the following 10 movies that they might enjoy:\n",
      "\n",
      "1. The Shining (1980)\n",
      "2. Pulp Fiction (1994)\n",
      "3. The Godfather (1972)\n",
      "4. Fight Club (1999)\n",
      "5. The Matrix (1999)\n",
      "6. The Dark Knight (2008)\n",
      "7. Inception (2010)\n",
      "8. The Silence of the Lambs (1991)\n",
      "9. Forrest Gump (1994)\n",
      "10. The Shawshank Redemption (1994)\n",
      "\n",
      "As for the predicted ratings for these movies, it is difficult to provide an exact prediction without knowing User 312's specific preferences. However, based on the previous ratings they have given, these movies are highly regarded and have generally received positive reviews. Hence, it is likely that User 312 will rate these movies somewhere between 3.5 and 5.0.\n"
     ]
    }
   ],
   "source": [
    "print(completion.choices[0].message.content)"
   ]
  },
  {
   "cell_type": "markdown",
   "metadata": {},
   "source": [
    "# Recommend based on genre"
   ]
  },
  {
   "cell_type": "code",
   "execution_count": 3,
   "metadata": {},
   "outputs": [
    {
     "name": "stdout",
     "output_type": "stream",
     "text": [
      "Based on User 231's favorite genres (Crime, Action, Horror), here are 10 movie recommendations:\n",
      "\n",
      "1. \"The Dark Knight\" - Genre: Crime, Action\n",
      "2. \"Pulp Fiction\" - Genre: Crime, Action\n",
      "3. \"Se7en\" - Genre: Crime, Horror\n",
      "4. \"The Departed\" - Genre: Crime, Action\n",
      "5. \"Get Out\" - Genre: Horror, Mystery\n",
      "6. \"The Silence of the Lambs\" - Genre: Crime, Horror\n",
      "7. \"Kill Bill: Volume 1\" - Genre: Crime, Action\n",
      "8. \"A Quiet Place\" - Genre: Horror, Thriller\n",
      "9. \"Training Day\" - Genre: Crime, Action\n",
      "10. \"The Conjuring\" - Genre: Horror, Mystery\n",
      "\n",
      "Please note that these recommendations are based on the user's favorite genres and may vary depending on individual preferences.\n"
     ]
    }
   ],
   "source": [
    "from src.func import find_top_3_genre\n",
    "\n",
    "# def get_movie_genre():\n",
    "user_id_genre = int(input(\"We will suggest movies based on your favorite genre, please enter your user ID:\"))\n",
    "if user_id_genre in merged_df['userId'].values:\n",
    "    top_3_genre = find_top_3_genre(user_id_genre,merged_df)\n",
    "    genre_response = client.chat.completions.create(\n",
    "    model=\"gpt-3.5-turbo\",\n",
    "    messages=[\n",
    "      {\"role\": \"system\", \"content\": \"You are a movie recommender system that will recommend 10 movie in this user's favorite genres and predict the rating of these 10 movies given by this user\"},\n",
    "      {\"role\": \"user\", \"content\": f\"User {user_id_genre}'s favorite genre include {top_3_genre}. Please suggest 10 movie in these genre for the user\"}\n",
    "    ]\n",
    ")\n",
    "else:\n",
    "    print(\"This is not a valid user ID, please try again\")\n",
    "\n",
    "print(genre_response.choices[0].message.content)"
   ]
  },
  {
   "cell_type": "markdown",
   "metadata": {},
   "source": [
    "# Recommend based on similar user"
   ]
  },
  {
   "cell_type": "code",
   "execution_count": 4,
   "metadata": {},
   "outputs": [
    {
     "name": "stdout",
     "output_type": "stream",
     "text": [
      "To recommend 10 movies for user 323, we can consider the movies watched by user 38 and their corresponding ratings. Based on the similarity between the two users, there is a higher chance that user 323 will also enjoy these movies. Here are the 10 movie recommendations for user 323:\n",
      "\n",
      "1. Legends of the Fall (1994) - Predicted Rating: 4.0\n",
      "2. Usual Suspects, The (1995) - Predicted Rating: 4.5\n",
      "3. Quiz Show (1994) - Predicted Rating: 4.0\n",
      "4. Schindler's List (1993) - Predicted Rating: 5.0\n",
      "5. Jurassic Park (1993) - Predicted Rating: 4.0\n",
      "6. Apollo 13 (1995) - Predicted Rating: 4.0\n",
      "7. Clerks (1994) - Predicted Rating: 3.5\n",
      "8. True Romance (1993) - Predicted Rating: 3.5\n",
      "9. Forrest Gump (1994) - Predicted Rating: 4.5\n",
      "10. Pulp Fiction (1994) - Predicted Rating: 4.5\n",
      "\n",
      "Please note that the predicted ratings are based on the ratings provided by user 38 for the respective movies.\n"
     ]
    }
   ],
   "source": [
    "from src.func import get_similar_users\n",
    "\n",
    "# def rec_from_similar_user():\n",
    "user_id_sim = int(input(\"We will suggest movies you may also like based on similar user, please enter your user ID:\"))\n",
    "if user_id_sim in merged_df['userId'].values:\n",
    "    most_similar = get_similar_users(user_id_sim, merged_df)\n",
    "    titles_list, ratings_list = get_user_watch_history(most_similar, merged_df)\n",
    "    response_sim = client.chat.completions.create(\n",
    "    model=\"gpt-3.5-turbo\",\n",
    "    messages=[\n",
    "    {\"role\": \"system\", \"content\": \"You are a movie recommender system that will suggest movies that the user may also like based on similar user's watch histories. From the most similar user's watch histories, please recommend 10 movies that this user would enjoy watching and predict the rating of these 10 movies given by this user\"},\n",
    "    {\"role\": \"user\", \"content\": f\"User {user_id_sim}'s most similar user is user {most_similar}, which has previously watched {titles_list} and the corresponded ratings are {ratings_list}. Please suggest 10 movies that user {user_id_sim} may also like and provide rating prediction of those 10 movies based on user preferences\"}\n",
    "    ]\n",
    ")\n",
    "else:\n",
    "    print(\"This is not a valid user ID, please try again\")   \n",
    "\n",
    "print(response_sim.choices[0].message.content)"
   ]
  },
  {
   "cell_type": "markdown",
   "metadata": {},
   "source": [
    "# Rating prediction for evaluation metric"
   ]
  },
  {
   "cell_type": "code",
   "execution_count": 11,
   "metadata": {},
   "outputs": [
    {
     "name": "stdout",
     "output_type": "stream",
     "text": [
      "Here are the predicted ratings for the given movies:\n",
      "\n",
      "- Alien (1979) - Predicted Rating: 4.0\n",
      "- Terminator, The (1984) - Predicted Rating: 4.5\n",
      "- Matrix, The (1999) - Predicted Rating: 4.5\n",
      "- Interstellar (2014) - Predicted Rating: 4.5\n",
      "- Godfather, The (1972) - Predicted Rating: 5.0\n"
     ]
    }
   ],
   "source": [
    "from src.func import get_user_watch_history_20\n",
    "# def rating_prediction()\n",
    "user_id_rating = int(input(\"We want to predict movie ratings from your watch list, please enter your user ID:\"))\n",
    "if user_id_rating in merged_df['userId'].values:\n",
    "    titles_list, ratings_list = get_user_watch_history(user_id_rating, merged_df)\n",
    "    test_title_list, true_ratings = get_user_watch_history_20(user_id_rating, merged_df, fraction=0.8)\n",
    "    response_rating = client.chat.completions.create(\n",
    "    model=\"gpt-3.5-turbo\",\n",
    "    messages=[\n",
    "    {\"role\": \"system\", \"content\": \"You are a movie rating prediction system that will predict rating with a list of titles given\"},\n",
    "    {\"role\": \"user\", \"content\": f\"User {user_id_rating}'s previously watch movies include {titles_list} and the corresponded ratings are {ratings_list}. Based on these ratings, please provide a list of prediction rating corresponded to {test_title_list} with the format of movie title - Predicted Rating: ratings\"}\n",
    "    ]\n",
    ")\n",
    "else:\n",
    "    print(\"This is not a valid user ID, please try again\")   \n",
    "\n",
    "print(response_rating.choices[0].message.content)"
   ]
  },
  {
   "cell_type": "markdown",
   "metadata": {},
   "source": [
    "# Evaluation metric (RMSE of the prediction)"
   ]
  },
  {
   "cell_type": "code",
   "execution_count": 12,
   "metadata": {},
   "outputs": [],
   "source": [
    "from src.func import extract_ratings\n",
    "message = f\"{response_rating.choices[0].message.content}\"\n",
    "movies_and_ratings = extract_ratings(message)\n",
    "predicted_ratings = []\n",
    "for movie, rating in movies_and_ratings:\n",
    "    predicted_ratings.append(rating)"
   ]
  },
  {
   "cell_type": "code",
   "execution_count": 13,
   "metadata": {},
   "outputs": [
    {
     "data": {
      "text/plain": [
       "5"
      ]
     },
     "execution_count": 13,
     "metadata": {},
     "output_type": "execute_result"
    }
   ],
   "source": [
    "len(true_ratings)"
   ]
  },
  {
   "cell_type": "code",
   "execution_count": 14,
   "metadata": {},
   "outputs": [
    {
     "name": "stdout",
     "output_type": "stream",
     "text": [
      "RMSE: 0.8660254037844386\n"
     ]
    }
   ],
   "source": [
    "import math\n",
    "from src.func import calculate_rmse\n",
    "rmse_score = calculate_rmse(predicted_ratings, true_ratings)\n",
    "print(f\"RMSE: {rmse_score}\")"
   ]
  },
  {
   "cell_type": "markdown",
   "metadata": {},
   "source": [
    "# To Do List\n",
    "- Organized prompts into src.function or class\n",
    "- put into .py file\n",
    "- Think about evaluation metric to compare baseline and message from prompt\n",
    "- requirement.txt file\n",
    "- update readme"
   ]
  }
 ],
 "metadata": {
  "kernelspec": {
   "display_name": "base",
   "language": "python",
   "name": "python3"
  },
  "language_info": {
   "codemirror_mode": {
    "name": "ipython",
    "version": 3
   },
   "file_extension": ".py",
   "mimetype": "text/x-python",
   "name": "python",
   "nbconvert_exporter": "python",
   "pygments_lexer": "ipython3",
   "version": "3.9.6"
  },
  "orig_nbformat": 4
 },
 "nbformat": 4,
 "nbformat_minor": 2
}
