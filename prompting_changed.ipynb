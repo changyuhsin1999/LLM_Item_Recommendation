{
 "cells": [
  {
   "cell_type": "code",
   "execution_count": 1,
   "metadata": {},
   "outputs": [],
   "source": [
    "import os\n",
    "import pandas as pd\n",
    "from openai import OpenAI\n",
    "from src.prompt import *\n",
    "\n",
    "data = pd.read_csv(\"data/merged_df.csv\")\n",
    "\n",
    "recommend_prompt = RecommendPrompt(data)\n",
    "\n"
   ]
  },
  {
   "cell_type": "code",
   "execution_count": 2,
   "metadata": {},
   "outputs": [
    {
     "name": "stdout",
     "output_type": "stream",
     "text": [
      "[]\n"
     ]
    }
   ],
   "source": [
    "\n",
    "prompt, answer, recommendations = recommend_prompt.prompt_recommend_with_user_history(123)\n",
    "print(recommendations)"
   ]
  },
  {
   "cell_type": "code",
   "execution_count": 12,
   "metadata": {},
   "outputs": [
    {
     "name": "stdout",
     "output_type": "stream",
     "text": [
      "Based on the watch histories and ratings of User 123 and User 456, here are 10 movie recommendations that both users would enjoy watching together:\n",
      "\n",
      "1. Star Wars: Episode IV - A New Hope (1977)\n",
      "2. Avengers, The (2012)\n",
      "3. The Hunger Games (2012)\n",
      "4. Sherlock Holmes: A Game of Shadows (2011)\n",
      "5. The Social Network (2010)\n",
      "6. Guardians of the Galaxy (2014)\n",
      "7. The Imitation Game (2014)\n",
      "8. X-Men: First Class (2011)\n",
      "9. Iron Man (2008)\n",
      "10. Inglourious Basterds (2009)\n",
      "\n",
      "To predict specific ratings of these 10 movies based on user preferences, we can use collaborative filtering or content-based filtering algorithms to generate personalized movie ratings for both users. This will involve analyzing their past ratings and preferences to make predictions on how they would rate the recommended movies.\n",
      "\n",
      "After analyzing the preferences and ratings of both users, the ratings for the recommended movies could be predicted by the system.\n"
     ]
    }
   ],
   "source": [
    "prompt, answer = recommend_prompt.prompt_recommend_with_partner_history(123, 456)\n",
    "print(answer)"
   ]
  },
  {
   "cell_type": "code",
   "execution_count": 13,
   "metadata": {},
   "outputs": [
    {
     "name": "stderr",
     "output_type": "stream",
     "text": [
      "/Users/yiyang/Desktop/RL Apps/LLM_Item_Recommendation/src/prompt.py:55: SettingWithCopyWarning: \n",
      "A value is trying to be set on a copy of a slice from a DataFrame.\n",
      "Try using .loc[row_indexer,col_indexer] = value instead\n",
      "\n",
      "See the caveats in the documentation: https://pandas.pydata.org/pandas-docs/stable/user_guide/indexing.html#returning-a-view-versus-a-copy\n",
      "  user_data = self.train_data[self.train_data[\"userId\"] == user_id]\n"
     ]
    },
    {
     "name": "stdout",
     "output_type": "stream",
     "text": [
      "Sure, I will recommend 10 movies in the genres of Western, Children, and IMAX for User 123:\n",
      "\n",
      "Western:\n",
      "1. The Good, the Bad and the Ugly (1966)\n",
      "2. Once Upon a Time in the West (1968)\n",
      "3. Unforgiven (1992)\n",
      "\n",
      "Children:\n",
      "4. Toy Story (1995)\n",
      "5. The Lion King (1994)\n",
      "6. Finding Nemo (2003)\n",
      "\n",
      "IMAX:\n",
      "7. Dunkirk (2017)\n",
      "8. The Dark Knight (2008)\n",
      "9. Interstellar (2014)\n",
      "10. Avatar (2009)\n",
      "\n",
      "These movies cover a range of favorites in the specified genres. Now, let's predict the user rating for these movies.\n"
     ]
    }
   ],
   "source": [
    "prompt, answer = recommend_prompt.prompt_with_genre(123)\n",
    "print(answer)"
   ]
  },
  {
   "cell_type": "code",
   "execution_count": 14,
   "metadata": {},
   "outputs": [
    {
     "name": "stdout",
     "output_type": "stream",
     "text": [
      "Based on the watch history and ratings of user 582, here are 10 movie recommendations for user 123 along with the predicted ratings:\n",
      "\n",
      "1. The Dark Knight (2008) - Predicted Rating: 4.0\n",
      "2. Interstellar (2014) - Predicted Rating: 4.5\n",
      "3. Memento (2000) - Predicted Rating: 4.0\n",
      "4. Fight Club (1999) - Predicted Rating: 4.0\n",
      "5. Inglourious Basterds (2009) - Predicted Rating: 4.0\n",
      "6. The Departed (2006) - Predicted Rating: 4.0\n",
      "7. Star Wars: Episode IV - A New Hope (1977) - Predicted Rating: 4.0\n",
      "8. The Matrix (1999) - Predicted Rating: 5.0\n",
      "9. Spirited Away (Sen to Chihiro no kamikakushi) (2001) - Predicted Rating: 3.5\n",
      "10. The Prestige (2006) - Predicted Rating: 3.5\n",
      "\n",
      "These predictions are based on the ratings given by user 582 for the similar movies watched.\n"
     ]
    }
   ],
   "source": [
    "prompt, answer = recommend_prompt.prompt_with_similar_user(123)\n",
    "print(answer)"
   ]
  },
  {
   "cell_type": "code",
   "execution_count": 15,
   "metadata": {},
   "outputs": [
    {
     "name": "stdout",
     "output_type": "stream",
     "text": [
      "Here are the predicted ratings for the movies you provided:\n",
      "\n",
      "1. Silence of the Lambs, The (1991) - Predicted Rating: 4.0\n",
      "2. Angels & Demons (2009) - Predicted Rating: 3.5\n",
      "3. Whiplash (2014) - Predicted Rating: 4.0\n",
      "4. Interstellar (2014) - Predicted Rating: 4.5\n",
      "5. Bourne Ultimatum, The (2007) - Predicted Rating: 3.5\n",
      "6. Inception (2010) - Predicted Rating: 4.5\n",
      "\n",
      "Please note that these predicted ratings are based on the movies you have previously watched and their corresponding ratings.\n"
     ]
    }
   ],
   "source": [
    "prompt, answer = recommend_prompt.prompt_for_rating(123)\n",
    "print(answer)"
   ]
  }
 ],
 "metadata": {
  "kernelspec": {
   "display_name": "base",
   "language": "python",
   "name": "python3"
  },
  "language_info": {
   "codemirror_mode": {
    "name": "ipython",
    "version": 3
   },
   "file_extension": ".py",
   "mimetype": "text/x-python",
   "name": "python",
   "nbconvert_exporter": "python",
   "pygments_lexer": "ipython3",
   "version": "3.9.6"
  },
  "orig_nbformat": 4
 },
 "nbformat": 4,
 "nbformat_minor": 2
}
