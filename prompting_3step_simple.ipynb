{
 "cells": [
  {
   "cell_type": "markdown",
   "metadata": {},
   "source": [
    "# Step 0.1: Data Loading"
   ]
  },
  {
   "cell_type": "code",
   "execution_count": null,
   "metadata": {},
   "outputs": [],
   "source": [
    "from src.3step import *"
   ]
  },
  {
   "cell_type": "code",
   "execution_count": 209,
   "metadata": {},
   "outputs": [],
   "source": [
    "import os\n",
    "import pandas as pd\n",
    "from openai import OpenAI\n",
    "from func import get_user_watch_history\n",
    "from sklearn.model_selection import train_test_split\n",
    "\n",
    "client = OpenAI()\n",
    "\n",
    "data = pd.read_csv(\"data/merged_df.csv\")\n",
    "\n",
    "train_data, test_data = train_test_split(data, test_size=0.2, random_state=42)\n",
    "system_prompt = \"You are a movie recommender system that will compare user previous watch history and ratings.\"\n",
    "unique_movie_titles = set(data['title'].unique().tolist())\n",
    "\n",
    "user_id = 123\n",
    "candidate_size = 100"
   ]
  },
  {
   "cell_type": "code",
   "execution_count": 210,
   "metadata": {},
   "outputs": [],
   "source": [
    "train_user_df = train_data[train_data[\"userId\"] == user_id]\n",
    "test_user_df = test_data[test_data[\"userId\"] == user_id]\n",
    "\n",
    "train_title, train_rating = train_user_df[\"title\"], train_user_df[\"rating\"]\n",
    "test_title, test_rating = test_user_df[\"title\"], test_user_df[\"rating\"]"
   ]
  },
  {
   "cell_type": "markdown",
   "metadata": {},
   "source": [
    "# Step 0.2: User Filtering"
   ]
  },
  {
   "cell_type": "code",
   "execution_count": 211,
   "metadata": {},
   "outputs": [],
   "source": [
    "from sklearn.metrics.pairwise import cosine_similarity\n",
    "import pandas as pd\n",
    "\n",
    "def get_similar_users(user_id, data):\n",
    "    user_movie_matrix = data.pivot_table(index='userId', columns='title', values='rating')\n",
    "    user_movie_matrix = user_movie_matrix.fillna(0)\n",
    "    similarity_matrix = cosine_similarity(user_movie_matrix)\n",
    "    similarity_df = pd.DataFrame(similarity_matrix, index=user_movie_matrix.index, columns=user_movie_matrix.index)\n",
    "    similar_users = similarity_df[user_id].sort_values(ascending=False)\n",
    "    return similar_users\n",
    "\n",
    "similar_users = list(get_similar_users(user_id, train_data).iloc[:candidate_size].index)\n",
    "train_similar_df = train_data[train_data[\"userId\"].isin(similar_users)]\n",
    "movie_popularity = train_similar_df.groupby('title').size().sort_values(ascending=False)\n",
    "candidate1 = list(movie_popularity.head(candidate_size).head(candidate_size).index)"
   ]
  },
  {
   "cell_type": "markdown",
   "metadata": {},
   "source": [
    "# Step 0.3: Item Filtering"
   ]
  },
  {
   "cell_type": "code",
   "execution_count": 212,
   "metadata": {},
   "outputs": [],
   "source": [
    "train_movie = train_user_df[\"movieId\"]\n",
    "watched = pd.unique(train_movie).tolist()"
   ]
  },
  {
   "cell_type": "code",
   "execution_count": 213,
   "metadata": {},
   "outputs": [],
   "source": [
    "user_item_matrix = data.pivot_table(index='userId', columns='movieId', values='rating')\n",
    "user_item_matrix = user_item_matrix.fillna(0)\n",
    "item_similarity = cosine_similarity(user_item_matrix.T)\n",
    "def find_similar_movies(target_item_id, data):\n",
    "    target_item_index = user_item_matrix.columns.get_loc(target_item_id)\n",
    "    similarities = item_similarity[target_item_index]\n",
    "    similar_items_df = pd.DataFrame({'movieId': user_item_matrix.columns, 'similarity_score': similarities})\n",
    "    similar_items_df = similar_items_df.sort_values(by='similarity_score', ascending=False)\n",
    "    N = candidate_size\n",
    "    top_similar_items = similar_items_df.head(N)\n",
    "    return top_similar_items\n",
    "\n",
    "similar_movies = []\n",
    "for movie in watched:\n",
    "    similar_movies.append(find_similar_movies(movie, train_data))\n",
    "similar_df = pd.concat(similar_movies)\n",
    "\n",
    "movie_popularity = similar_df.groupby('movieId').size().sort_values(ascending=False)\n",
    "candidate2 = list(movie_popularity.head(candidate_size).head(candidate_size).index)\n",
    "candidate2 = train_data.loc[train_data['movieId'].isin(candidate2), 'title'].tolist()\n",
    "candidate = list(set(candidate1) | set(candidate2))"
   ]
  },
  {
   "cell_type": "code",
   "execution_count": 214,
   "metadata": {},
   "outputs": [
    {
     "name": "stdout",
     "output_type": "stream",
     "text": [
      "2 4\n"
     ]
    }
   ],
   "source": [
    "def clean_candidate(candidate, train_title, test_title):\n",
    "    to_remove = []\n",
    "    \n",
    "    for movie in candidate:\n",
    "        if movie in train_title:\n",
    "            ro_remove.append(movie)\n",
    "            print(f\"to remove: {movie} \")\n",
    "    count1 = 0\n",
    "    count2 = 0\n",
    "    for movie in to_remove:\n",
    "        candidate.append(movie)\n",
    "    for movie in test_title:\n",
    "        if movie not in candidate:\n",
    "            # print(f\"not in candidate: {movie} \")\n",
    "            count1 += 1\n",
    "        else:\n",
    "            # print(movie)\n",
    "            count2 += 1\n",
    "    print(count1, count2)\n",
    "            \n",
    "    return candidate\n",
    "            \n",
    "candidate = clean_candidate(candidate, train_title, test_title)"
   ]
  },
  {
   "cell_type": "code",
   "execution_count": 215,
   "metadata": {},
   "outputs": [
    {
     "name": "stdout",
     "output_type": "stream",
     "text": [
      "The length of the training set: 50\n",
      "The length of the testing set: 6\n",
      "The length of the candidate set: 128\n"
     ]
    }
   ],
   "source": [
    "print(f\"The length of the training set: {len(train_title)}\")\n",
    "print(f\"The length of the testing set: {len(test_title)}\")\n",
    "print(f\"The length of the candidate set: {len(candidate)}\")"
   ]
  },
  {
   "cell_type": "markdown",
   "metadata": {},
   "source": [
    "# Step 1: Summarize User Preferences"
   ]
  },
  {
   "cell_type": "code",
   "execution_count": 216,
   "metadata": {},
   "outputs": [],
   "source": [
    "import numpy as np\n",
    "import random\n",
    "movie_df = list(pd.unique(data[\"title\"]))"
   ]
  },
  {
   "cell_type": "code",
   "execution_count": 217,
   "metadata": {},
   "outputs": [
    {
     "data": {
      "text/plain": [
       "'Based on the list of movies you have watched and rated, it seems like the most important features to you when selecting movies may include a combination of action, thriller, drama, and science fiction elements. You also seem to appreciate well-developed plots and strong character development. Additionally, based on the ratings, it seems that you prioritize strong storytelling and engaging narratives.'"
      ]
     },
     "execution_count": 217,
     "metadata": {},
     "output_type": "execute_result"
    }
   ],
   "source": [
    "\n",
    "movie_rating = \"\"\n",
    "for i in range(len(train_title)):\n",
    "    movie_rating += f\"{train_title.iloc[i]}: {train_rating.iloc[i]} \\n\"\n",
    "\n",
    "if user_id in data['userId'].values:\n",
    "    titles_list, ratings_list = get_user_watch_history(user_id, data)\n",
    "    messages=[\n",
    "        # {\"role\": \"user\", \"content\": f\"Candidate Set(candidate movies): \"},\n",
    "        {\"role\": \"user\", \"content\": f\"The movies I have watched(watched movies): {movie_rating}\"},\n",
    "        {\"role\": \"user\", \"content\": f\"Step 1: What features are most important to me when selecting movies? \"},\n",
    "    ]\n",
    "    completion = client.chat.completions.create(\n",
    "        model=\"gpt-3.5-turbo-1106\",\n",
    "        messages=messages\n",
    "    )\n",
    "\n",
    "answer1 = (completion.choices[0].message.content)\n",
    "answer1\n"
   ]
  },
  {
   "cell_type": "markdown",
   "metadata": {},
   "source": [
    "# Step 2: User's Favorite Movies"
   ]
  },
  {
   "cell_type": "code",
   "execution_count": 218,
   "metadata": {},
   "outputs": [
    {
     "name": "stdout",
     "output_type": "stream",
     "text": [
      "Based on your ratings and preferences, Here are 10 selected movies from the list presented in descending order of preference:\n",
      "1. Star Wars: Episode IV - A New Hope (1977)\n",
      "2. Nightcrawler (2014)\n",
      "3. Memento (2000)\n",
      "4. American History X (1998)\n",
      "5. Inside Man (2006)\n",
      "6. Inglourious Basterds (2009)\n",
      "7. The Imitation Game (2014)\n",
      "8. Zodiac (2007)\n",
      "9. Edge of Tomorrow (2014)\n",
      "10. The Hunger Games (2012)\n"
     ]
    }
   ],
   "source": [
    "# movie_rating = \"\"\n",
    "# for i in range(len(train_title)):\n",
    "#     movie_rating += f\"{train_title.iloc[i]}: {train_rating.iloc[i]} \\n\"\n",
    "\n",
    "messages=[\n",
    "    {\"role\": \"user\", \"content\": f\"The movies I have watched(watched movies) and their ratings: {movie_rating}\"},\n",
    "    {\"role\": \"user\", \"content\": f\"Step 1: What features are most important to me when selecting movies? \"},\n",
    "]\n",
    "\n",
    "messages.append({\"role\": \"assistant\", \"content\": answer1})\n",
    "                \n",
    "step2 = \"You will select the movies (at most 10 movies) that appeal to me the most from the list of movies \\\n",
    "    I have watched, based on my personal preferences. The selected movies will be presented in descending \\\n",
    "    order of preference. (Format: no. a watched movie).\"\n",
    "    \n",
    "messages.append({\"role\": \"user\", \"content\": step2})\n",
    "                \n",
    "completion = client.chat.completions.create(\n",
    "        model=\"gpt-3.5-turbo-1106\",\n",
    "        messages=messages\n",
    "    )\n",
    "\n",
    "answer2 = (completion.choices[0].message.content)\n",
    "print(answer2)"
   ]
  },
  {
   "cell_type": "markdown",
   "metadata": {},
   "source": [
    "# Step3: Recommend From Candidate"
   ]
  },
  {
   "cell_type": "code",
   "execution_count": 219,
   "metadata": {},
   "outputs": [
    {
     "name": "stdout",
     "output_type": "stream",
     "text": [
      "Here are 10 different movies from the Candidate Set that are similar to the selected movies you've watched:\n",
      "\n",
      "1. Star Wars: Episode IV - A New Hope (1977) : Star Wars: Episode VI - Return of the Jedi (1983)\n",
      "2. Nightcrawler (2014) : Drive (2011)\n",
      "3. Memento (2000) : Inception (2010)\n",
      "4. American History X (1998) : Fight Club (1999)\n",
      "5. Inside Man (2006) : The Usual Suspects (1995)\n",
      "6. Inglourious Basterds (2009) : Django Unchained (2012)\n",
      "7. The Imitation Game (2014) : The Social Network (2010)\n",
      "8. Zodiac (2007) : Se7en (1995)\n",
      "9. Edge of Tomorrow (2014) : Source Code (2011)\n",
      "10. The Hunger Games (2012) : The Truman Show (1998)\n",
      "\n",
      "These recommendations are based on similarities in genre, themes, and storytelling styles, aiming to align with your movie preferences.\n"
     ]
    }
   ],
   "source": [
    "\n",
    "messages.append({\"role\": \"assistant\", \"content\": answer2})\n",
    "\n",
    "messages.append({\"role\": \"user\", \"content\": f\"Candidate Set(candidate movies): {', '.join(candidate)}\"},)\n",
    "                \n",
    "step3 = \"Can you recommend 10 different movies only from the Candidate Set similar to the selected \\\n",
    "    movies I've watched (Format: [<n>. <a watched movie> : <a candidate movie>])?\" + f\"Candidate Set(candidate movies): {', '.join(candidate)}\"\n",
    "    \n",
    "messages.append({\"role\": \"user\", \"content\": step3})\n",
    "                \n",
    "completion = client.chat.completions.create(\n",
    "        model=\"gpt-3.5-turbo-1106\",\n",
    "        messages=messages\n",
    "    )\n",
    "\n",
    "answer3 = (completion.choices[0].message.content)\n",
    "print(answer3)"
   ]
  },
  {
   "cell_type": "code",
   "execution_count": 220,
   "metadata": {},
   "outputs": [
    {
     "name": "stdout",
     "output_type": "stream",
     "text": [
      "Inception in test\n"
     ]
    },
    {
     "data": {
      "text/plain": [
       "0.1"
      ]
     },
     "execution_count": 220,
     "metadata": {},
     "output_type": "execute_result"
    }
   ],
   "source": [
    "import re\n",
    "\n",
    "def parse_answer3(answer3):\n",
    "    lines = answer3.split('\\n')\n",
    "    pattern = r': (.*?) \\((\\d+)\\)'\n",
    "    movie_pred = []\n",
    "    for line in lines:\n",
    "        match = re.search(pattern, line)\n",
    "        if match:\n",
    "            title = match.group(1)\n",
    "            year = match.group(2)\n",
    "            movie_pred.append((title, year))\n",
    "    return movie_pred\n",
    "\n",
    "def accuracy(movie_pred, test_title):\n",
    "    correct = 0\n",
    "    test_title_list = list(test_title)\n",
    "    for title, year in movie_pred:\n",
    "        if \"The\" in title:\n",
    "            title = title[4:]\n",
    "        find_candidate = 0\n",
    "        for movie in candidate:\n",
    "            if title in movie:\n",
    "                find_candidate = 1\n",
    "                break\n",
    "        if not find_candidate:\n",
    "            print(f\"{title} not in candidate\")\n",
    "        for movie in test_title_list:\n",
    "            if title in movie:\n",
    "                print(f\"{title} in test\")\n",
    "                correct += 1\n",
    "                break\n",
    "    return correct / len(movie_pred)\n",
    "\n",
    "movie_pred = parse_answer3(answer3)\n",
    "accuracy(movie_pred, test_title)"
   ]
  },
  {
   "cell_type": "code",
   "execution_count": 221,
   "metadata": {},
   "outputs": [],
   "source": [
    "# word = \"Sixth\"\n",
    "# for movie in candidate:\n",
    "#     if word in movie:\n",
    "#         print(f\"in candidate: {movie}\")\n",
    "# for movie in test_title:\n",
    "#     if word in movie:\n",
    "#         print(f\"in test: {movie}\")"
   ]
  },
  {
   "cell_type": "code",
   "execution_count": 222,
   "metadata": {},
   "outputs": [],
   "source": [
    "def accuracy(movie_pred, test_title):\n",
    "    correct = 0\n",
    "    test_title_list = list(test_title)\n",
    "    for movie in movie_pred:\n",
    "        if movie in test_title_list:\n",
    "            print(f\"{movie} in test\")\n",
    "            correct += 1\n",
    "            break\n",
    "    return correct / len(movie_pred)"
   ]
  },
  {
   "cell_type": "code",
   "execution_count": 223,
   "metadata": {},
   "outputs": [
    {
     "name": "stdout",
     "output_type": "stream",
     "text": [
      "Silence of the Lambs, The (1991) in test\n"
     ]
    },
    {
     "data": {
      "text/plain": [
       "0.1"
      ]
     },
     "execution_count": 223,
     "metadata": {},
     "output_type": "execute_result"
    }
   ],
   "source": [
    "movie_popularity = train_data.groupby('title').size().sort_values(ascending=False)\n",
    "baseline_pred = []\n",
    "for movie in movie_popularity.index:\n",
    "    if movie in candidate:\n",
    "        baseline_pred.append(movie)\n",
    "    if len(baseline_pred) >= 10:\n",
    "        break\n",
    "accuracy(baseline_pred, test_title)"
   ]
  },
  {
   "cell_type": "markdown",
   "metadata": {},
   "source": [
    "# Step 4: Evaluation:"
   ]
  },
  {
   "cell_type": "code",
   "execution_count": 224,
   "metadata": {},
   "outputs": [
    {
     "ename": "NameError",
     "evalue": "name 'train_data' is not defined",
     "output_type": "error",
     "traceback": [
      "\u001b[0;31m---------------------------------------------------------------------------\u001b[0m",
      "\u001b[0;31mNameError\u001b[0m                                 Traceback (most recent call last)",
      "\u001b[1;32m/Users/yiyang/Desktop/RL Apps/LLM_Item_Recommendation/prompting_3step.ipynb Cell 23\u001b[0m line \u001b[0;36m4\n\u001b[1;32m      <a href='vscode-notebook-cell:/Users/yiyang/Desktop/RL%20Apps/LLM_Item_Recommendation/prompting_3step.ipynb#Y106sZmlsZQ%3D%3D?line=0'>1</a>\u001b[0m \u001b[39mfrom\u001b[39;00m \u001b[39msrc\u001b[39;00m\u001b[39m.\u001b[39;00m\u001b[39mbaseline\u001b[39;00m \u001b[39mimport\u001b[39;00m \u001b[39m*\u001b[39m\n\u001b[1;32m      <a href='vscode-notebook-cell:/Users/yiyang/Desktop/RL%20Apps/LLM_Item_Recommendation/prompting_3step.ipynb#Y106sZmlsZQ%3D%3D?line=2'>3</a>\u001b[0m mostPopularRecommendor \u001b[39m=\u001b[39m MostPopularRecommendor(train_data)\n\u001b[0;32m----> <a href='vscode-notebook-cell:/Users/yiyang/Desktop/RL%20Apps/LLM_Item_Recommendation/prompting_3step.ipynb#Y106sZmlsZQ%3D%3D?line=3'>4</a>\u001b[0m baseline_pred \u001b[39m=\u001b[39m mostPopularRecommendor\u001b[39m.\u001b[39;49mpred()\n\u001b[1;32m      <a href='vscode-notebook-cell:/Users/yiyang/Desktop/RL%20Apps/LLM_Item_Recommendation/prompting_3step.ipynb#Y106sZmlsZQ%3D%3D?line=4'>5</a>\u001b[0m \u001b[39mprint\u001b[39m(accuracy(baseline_pred, test_title))\n",
      "File \u001b[0;32m~/Desktop/RL Apps/LLM_Item_Recommendation/src/baseline.py:12\u001b[0m, in \u001b[0;36mMostPopularRecommendor.pred\u001b[0;34m(self)\u001b[0m\n\u001b[1;32m     11\u001b[0m \u001b[39mdef\u001b[39;00m \u001b[39mpred\u001b[39m(\u001b[39mself\u001b[39m):\n\u001b[0;32m---> 12\u001b[0m     movie_popularity \u001b[39m=\u001b[39m train_data\u001b[39m.\u001b[39mgroupby(\u001b[39m'\u001b[39m\u001b[39mtitle\u001b[39m\u001b[39m'\u001b[39m)\u001b[39m.\u001b[39msize()\u001b[39m.\u001b[39msort_values(ascending\u001b[39m=\u001b[39m\u001b[39mFalse\u001b[39;00m)\n\u001b[1;32m     13\u001b[0m     baseline_pred \u001b[39m=\u001b[39m []\n\u001b[1;32m     14\u001b[0m     \u001b[39mfor\u001b[39;00m movie \u001b[39min\u001b[39;00m movie_popularity\u001b[39m.\u001b[39mindex:\n",
      "\u001b[0;31mNameError\u001b[0m: name 'train_data' is not defined"
     ]
    }
   ],
   "source": [
    "from src.baseline import *\n",
    "\n",
    "mostPopularRecommendor = MostPopularRecommendor(train_data)\n",
    "baseline_pred = mostPopularRecommendor.pred()\n",
    "print(accuracy(baseline_pred, test_title))"
   ]
  },
  {
   "cell_type": "markdown",
   "metadata": {},
   "source": [
    "Results:\n",
    "\n",
    "1. The GPT model gives results not in testing even if we specify a testing set. It only support a candidate set of around 100.\n",
    "2. The GPT gives recommendation with accuracy 0.5, while the \"most popular\" recommender only gives recommendation with accuracy 0.2."
   ]
  }
 ],
 "metadata": {
  "kernelspec": {
   "display_name": "base",
   "language": "python",
   "name": "python3"
  },
  "language_info": {
   "codemirror_mode": {
    "name": "ipython",
    "version": 3
   },
   "file_extension": ".py",
   "mimetype": "text/x-python",
   "name": "python",
   "nbconvert_exporter": "python",
   "pygments_lexer": "ipython3",
   "version": "3.9.6"
  },
  "orig_nbformat": 4
 },
 "nbformat": 4,
 "nbformat_minor": 2
}
