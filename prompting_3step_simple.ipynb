{
 "cells": [
  {
   "cell_type": "markdown",
   "metadata": {},
   "source": [
    "# Step 0.1: Data Loading"
   ]
  },
  {
   "cell_type": "code",
   "execution_count": 1,
   "metadata": {},
   "outputs": [],
   "source": [
    "import os\n",
    "import pandas as pd\n",
    "from openai import OpenAI\n",
    "from func import get_user_watch_history\n",
    "from sklearn.model_selection import train_test_split\n",
    "\n",
    "client = OpenAI()\n",
    "\n",
    "user_id = 123\n",
    "candidate_size = 100\n",
    "\n",
    "data = pd.read_csv(\"data/merged_df.csv\")\n",
    "\n",
    "train_data, test_data = train_test_split(data, test_size=0.2, random_state=42)\n",
    "train_user_df = train_data[train_data[\"userId\"] == user_id]\n",
    "train_title = train_user_df[\"title\"]\n",
    "\n",
    "test_user_df = test_data[test_data[\"userId\"] == user_id]\n",
    "test_title = test_user_df[\"title\"]\n",
    "\n"
   ]
  },
  {
   "cell_type": "code",
   "execution_count": 3,
   "metadata": {},
   "outputs": [
    {
     "ename": "NameError",
     "evalue": "name 'movie_rating' is not defined",
     "output_type": "error",
     "traceback": [
      "\u001b[0;31m---------------------------------------------------------------------------\u001b[0m",
      "\u001b[0;31mNameError\u001b[0m                                 Traceback (most recent call last)",
      "\u001b[1;32m/Users/yiyang/Desktop/RL Apps/LLM_Item_Recommendation/prompting_3step_simple.ipynb Cell 3\u001b[0m line \u001b[0;36m4\n\u001b[1;32m      <a href='vscode-notebook-cell:/Users/yiyang/Desktop/RL%20Apps/LLM_Item_Recommendation/prompting_3step_simple.ipynb#X65sZmlsZQ%3D%3D?line=0'>1</a>\u001b[0m \u001b[39mfrom\u001b[39;00m \u001b[39msrc\u001b[39;00m\u001b[39m.\u001b[39;00m\u001b[39mthree_step\u001b[39;00m \u001b[39mimport\u001b[39;00m \u001b[39m*\u001b[39m\n\u001b[1;32m      <a href='vscode-notebook-cell:/Users/yiyang/Desktop/RL%20Apps/LLM_Item_Recommendation/prompting_3step_simple.ipynb#X65sZmlsZQ%3D%3D?line=2'>3</a>\u001b[0m threeStepRecommender \u001b[39m=\u001b[39m ThreeStepRecommender(user_id, train_data, candidate_size)\n\u001b[0;32m----> <a href='vscode-notebook-cell:/Users/yiyang/Desktop/RL%20Apps/LLM_Item_Recommendation/prompting_3step_simple.ipynb#X65sZmlsZQ%3D%3D?line=3'>4</a>\u001b[0m movie_pred \u001b[39m=\u001b[39m threeStepRecommender\u001b[39m.\u001b[39;49mget_pred()\n\u001b[1;32m      <a href='vscode-notebook-cell:/Users/yiyang/Desktop/RL%20Apps/LLM_Item_Recommendation/prompting_3step_simple.ipynb#X65sZmlsZQ%3D%3D?line=4'>5</a>\u001b[0m accuracy \u001b[39m=\u001b[39m threeStepRecommender\u001b[39m.\u001b[39maccuracy(movie_pred, test_title)\n",
      "File \u001b[0;32m~/Desktop/RL Apps/LLM_Item_Recommendation/src/three_step.py:143\u001b[0m, in \u001b[0;36mThreeStepRecommender.get_pred\u001b[0;34m(self)\u001b[0m\n\u001b[1;32m    141\u001b[0m \u001b[39mself\u001b[39m\u001b[39m.\u001b[39mfilter_movie()\n\u001b[1;32m    142\u001b[0m \u001b[39mself\u001b[39m\u001b[39m.\u001b[39mstep1()\n\u001b[0;32m--> 143\u001b[0m \u001b[39mself\u001b[39;49m\u001b[39m.\u001b[39;49mstep2()\n\u001b[1;32m    144\u001b[0m \u001b[39mself\u001b[39m\u001b[39m.\u001b[39mstep3()\n\u001b[1;32m    145\u001b[0m \u001b[39mreturn\u001b[39;00m movie_pred\n",
      "File \u001b[0;32m~/Desktop/RL Apps/LLM_Item_Recommendation/src/three_step.py:85\u001b[0m, in \u001b[0;36mThreeStepRecommender.step2\u001b[0;34m(self)\u001b[0m\n\u001b[1;32m     82\u001b[0m \u001b[39mdef\u001b[39;00m \u001b[39mstep2\u001b[39m(\u001b[39mself\u001b[39m):\n\u001b[1;32m     84\u001b[0m     messages\u001b[39m=\u001b[39m[\n\u001b[0;32m---> 85\u001b[0m         {\u001b[39m\"\u001b[39m\u001b[39mrole\u001b[39m\u001b[39m\"\u001b[39m: \u001b[39m\"\u001b[39m\u001b[39muser\u001b[39m\u001b[39m\"\u001b[39m, \u001b[39m\"\u001b[39m\u001b[39mcontent\u001b[39m\u001b[39m\"\u001b[39m: \u001b[39mf\u001b[39m\u001b[39m\"\u001b[39m\u001b[39mThe movies I have watched(watched movies) and their ratings: \u001b[39m\u001b[39m{\u001b[39;00mmovie_rating\u001b[39m}\u001b[39;00m\u001b[39m\"\u001b[39m},\n\u001b[1;32m     86\u001b[0m         {\u001b[39m\"\u001b[39m\u001b[39mrole\u001b[39m\u001b[39m\"\u001b[39m: \u001b[39m\"\u001b[39m\u001b[39muser\u001b[39m\u001b[39m\"\u001b[39m, \u001b[39m\"\u001b[39m\u001b[39mcontent\u001b[39m\u001b[39m\"\u001b[39m: \u001b[39mf\u001b[39m\u001b[39m\"\u001b[39m\u001b[39mStep 1: What features are most important to me when selecting movies? \u001b[39m\u001b[39m\"\u001b[39m},\n\u001b[1;32m     87\u001b[0m     ]\n\u001b[1;32m     89\u001b[0m     messages\u001b[39m.\u001b[39mappend({\u001b[39m\"\u001b[39m\u001b[39mrole\u001b[39m\u001b[39m\"\u001b[39m: \u001b[39m\"\u001b[39m\u001b[39massistant\u001b[39m\u001b[39m\"\u001b[39m, \u001b[39m\"\u001b[39m\u001b[39mcontent\u001b[39m\u001b[39m\"\u001b[39m: \u001b[39mself\u001b[39m\u001b[39m.\u001b[39manswer1})\n\u001b[1;32m     91\u001b[0m     step2 \u001b[39m=\u001b[39m \u001b[39m\"\u001b[39m\u001b[39mYou will select the movies (at most 10 movies) that appeal to me the most from the list of movies \u001b[39m\u001b[39m\\\u001b[39;00m\n\u001b[1;32m     92\u001b[0m \u001b[39m        I have watched, based on my personal preferences. The selected movies will be presented in descending \u001b[39m\u001b[39m\\\u001b[39;00m\n\u001b[1;32m     93\u001b[0m \u001b[39m        order of preference. (Format: no. a watched movie).\u001b[39m\u001b[39m\"\u001b[39m\n",
      "\u001b[0;31mNameError\u001b[0m: name 'movie_rating' is not defined"
     ]
    }
   ],
   "source": [
    "from src.three_step import *\n",
    "\n",
    "threeStepRecommender = ThreeStepRecommender(user_id, train_data, candidate_size)\n",
    "movie_pred = threeStepRecommender.get_pred()\n",
    "accuracy = threeStepRecommender.accuracy(movie_pred, test_title)"
   ]
  },
  {
   "cell_type": "code",
   "execution_count": 224,
   "metadata": {},
   "outputs": [
    {
     "ename": "NameError",
     "evalue": "name 'train_data' is not defined",
     "output_type": "error",
     "traceback": [
      "\u001b[0;31m---------------------------------------------------------------------------\u001b[0m",
      "\u001b[0;31mNameError\u001b[0m                                 Traceback (most recent call last)",
      "\u001b[1;32m/Users/yiyang/Desktop/RL Apps/LLM_Item_Recommendation/prompting_3step.ipynb Cell 23\u001b[0m line \u001b[0;36m4\n\u001b[1;32m      <a href='vscode-notebook-cell:/Users/yiyang/Desktop/RL%20Apps/LLM_Item_Recommendation/prompting_3step.ipynb#Y106sZmlsZQ%3D%3D?line=0'>1</a>\u001b[0m \u001b[39mfrom\u001b[39;00m \u001b[39msrc\u001b[39;00m\u001b[39m.\u001b[39;00m\u001b[39mbaseline\u001b[39;00m \u001b[39mimport\u001b[39;00m \u001b[39m*\u001b[39m\n\u001b[1;32m      <a href='vscode-notebook-cell:/Users/yiyang/Desktop/RL%20Apps/LLM_Item_Recommendation/prompting_3step.ipynb#Y106sZmlsZQ%3D%3D?line=2'>3</a>\u001b[0m mostPopularRecommendor \u001b[39m=\u001b[39m MostPopularRecommendor(train_data)\n\u001b[0;32m----> <a href='vscode-notebook-cell:/Users/yiyang/Desktop/RL%20Apps/LLM_Item_Recommendation/prompting_3step.ipynb#Y106sZmlsZQ%3D%3D?line=3'>4</a>\u001b[0m baseline_pred \u001b[39m=\u001b[39m mostPopularRecommendor\u001b[39m.\u001b[39;49mpred()\n\u001b[1;32m      <a href='vscode-notebook-cell:/Users/yiyang/Desktop/RL%20Apps/LLM_Item_Recommendation/prompting_3step.ipynb#Y106sZmlsZQ%3D%3D?line=4'>5</a>\u001b[0m \u001b[39mprint\u001b[39m(accuracy(baseline_pred, test_title))\n",
      "File \u001b[0;32m~/Desktop/RL Apps/LLM_Item_Recommendation/src/baseline.py:12\u001b[0m, in \u001b[0;36mMostPopularRecommendor.pred\u001b[0;34m(self)\u001b[0m\n\u001b[1;32m     11\u001b[0m \u001b[39mdef\u001b[39;00m \u001b[39mpred\u001b[39m(\u001b[39mself\u001b[39m):\n\u001b[0;32m---> 12\u001b[0m     movie_popularity \u001b[39m=\u001b[39m train_data\u001b[39m.\u001b[39mgroupby(\u001b[39m'\u001b[39m\u001b[39mtitle\u001b[39m\u001b[39m'\u001b[39m)\u001b[39m.\u001b[39msize()\u001b[39m.\u001b[39msort_values(ascending\u001b[39m=\u001b[39m\u001b[39mFalse\u001b[39;00m)\n\u001b[1;32m     13\u001b[0m     baseline_pred \u001b[39m=\u001b[39m []\n\u001b[1;32m     14\u001b[0m     \u001b[39mfor\u001b[39;00m movie \u001b[39min\u001b[39;00m movie_popularity\u001b[39m.\u001b[39mindex:\n",
      "\u001b[0;31mNameError\u001b[0m: name 'train_data' is not defined"
     ]
    }
   ],
   "source": [
    "from src.baseline import *\n",
    "\n",
    "mostPopularRecommendor = MostPopularRecommendor(train_data)\n",
    "baseline_pred = mostPopularRecommendor.pred()\n",
    "print(accuracy(baseline_pred, test_title))"
   ]
  },
  {
   "cell_type": "markdown",
   "metadata": {},
   "source": [
    "Results:\n",
    "\n",
    "1. The GPT model gives results not in testing even if we specify a testing set. It only support a candidate set of around 100.\n",
    "2. The GPT gives recommendation with accuracy 0.5, while the \"most popular\" recommender only gives recommendation with accuracy 0.2."
   ]
  }
 ],
 "metadata": {
  "kernelspec": {
   "display_name": "base",
   "language": "python",
   "name": "python3"
  },
  "language_info": {
   "codemirror_mode": {
    "name": "ipython",
    "version": 3
   },
   "file_extension": ".py",
   "mimetype": "text/x-python",
   "name": "python",
   "nbconvert_exporter": "python",
   "pygments_lexer": "ipython3",
   "version": "3.9.6"
  },
  "orig_nbformat": 4
 },
 "nbformat": 4,
 "nbformat_minor": 2
}
