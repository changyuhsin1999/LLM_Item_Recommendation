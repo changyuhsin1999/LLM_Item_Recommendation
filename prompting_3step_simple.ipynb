{
 "cells": [
  {
   "cell_type": "markdown",
   "metadata": {},
   "source": [
    "# Step 0.1: Data Loading"
   ]
  },
  {
   "cell_type": "code",
   "execution_count": 2,
   "metadata": {},
   "outputs": [
    {
     "ename": "SyntaxError",
     "evalue": "invalid syntax (three_step.py, line 11)",
     "output_type": "error",
     "traceback": [
      "Traceback \u001b[0;36m(most recent call last)\u001b[0m:\n",
      "\u001b[0m  File \u001b[1;32m~/opt/anaconda3/envs/RL/lib/python3.9/site-packages/IPython/core/interactiveshell.py:3550\u001b[0m in \u001b[1;35mrun_code\u001b[0m\n    exec(code_obj, self.user_global_ns, self.user_ns)\u001b[0m\n",
      "\u001b[0;36m  Cell \u001b[0;32mIn[2], line 1\u001b[0;36m\n\u001b[0;31m    from src.three_step import *\u001b[0;36m\n",
      "\u001b[0;36m  File \u001b[0;32m~/Desktop/RL Apps/LLM_Item_Recommendation/src/three_step.py:11\u001b[0;36m\u001b[0m\n\u001b[0;31m    def __init__(self, 123, candidate_size = 100):\u001b[0m\n\u001b[0m                       ^\u001b[0m\n\u001b[0;31mSyntaxError\u001b[0m\u001b[0;31m:\u001b[0m invalid syntax\n"
     ]
    }
   ],
   "source": [
    "from src.three_step import *"
   ]
  },
  {
   "cell_type": "code",
   "execution_count": 209,
   "metadata": {},
   "outputs": [],
   "source": [
    "import os\n",
    "import pandas as pd\n",
    "from openai import OpenAI\n",
    "from func import get_user_watch_history\n",
    "from sklearn.model_selection import train_test_split\n",
    "\n",
    "client = OpenAI()\n",
    "\n",
    "data = pd.read_csv(\"data/merged_df.csv\")\n",
    "\n",
    "train_data, test_data = train_test_split(data, test_size=0.2, random_state=42)\n",
    "system_prompt = \"You are a movie recommender system that will compare user previous watch history and ratings.\"\n",
    "unique_movie_titles = set(data['title'].unique().tolist())\n",
    "\n",
    "user_id = 123\n",
    "candidate_size = 100"
   ]
  },
  {
   "cell_type": "code",
   "execution_count": 224,
   "metadata": {},
   "outputs": [
    {
     "ename": "NameError",
     "evalue": "name 'train_data' is not defined",
     "output_type": "error",
     "traceback": [
      "\u001b[0;31m---------------------------------------------------------------------------\u001b[0m",
      "\u001b[0;31mNameError\u001b[0m                                 Traceback (most recent call last)",
      "\u001b[1;32m/Users/yiyang/Desktop/RL Apps/LLM_Item_Recommendation/prompting_3step.ipynb Cell 23\u001b[0m line \u001b[0;36m4\n\u001b[1;32m      <a href='vscode-notebook-cell:/Users/yiyang/Desktop/RL%20Apps/LLM_Item_Recommendation/prompting_3step.ipynb#Y106sZmlsZQ%3D%3D?line=0'>1</a>\u001b[0m \u001b[39mfrom\u001b[39;00m \u001b[39msrc\u001b[39;00m\u001b[39m.\u001b[39;00m\u001b[39mbaseline\u001b[39;00m \u001b[39mimport\u001b[39;00m \u001b[39m*\u001b[39m\n\u001b[1;32m      <a href='vscode-notebook-cell:/Users/yiyang/Desktop/RL%20Apps/LLM_Item_Recommendation/prompting_3step.ipynb#Y106sZmlsZQ%3D%3D?line=2'>3</a>\u001b[0m mostPopularRecommendor \u001b[39m=\u001b[39m MostPopularRecommendor(train_data)\n\u001b[0;32m----> <a href='vscode-notebook-cell:/Users/yiyang/Desktop/RL%20Apps/LLM_Item_Recommendation/prompting_3step.ipynb#Y106sZmlsZQ%3D%3D?line=3'>4</a>\u001b[0m baseline_pred \u001b[39m=\u001b[39m mostPopularRecommendor\u001b[39m.\u001b[39;49mpred()\n\u001b[1;32m      <a href='vscode-notebook-cell:/Users/yiyang/Desktop/RL%20Apps/LLM_Item_Recommendation/prompting_3step.ipynb#Y106sZmlsZQ%3D%3D?line=4'>5</a>\u001b[0m \u001b[39mprint\u001b[39m(accuracy(baseline_pred, test_title))\n",
      "File \u001b[0;32m~/Desktop/RL Apps/LLM_Item_Recommendation/src/baseline.py:12\u001b[0m, in \u001b[0;36mMostPopularRecommendor.pred\u001b[0;34m(self)\u001b[0m\n\u001b[1;32m     11\u001b[0m \u001b[39mdef\u001b[39;00m \u001b[39mpred\u001b[39m(\u001b[39mself\u001b[39m):\n\u001b[0;32m---> 12\u001b[0m     movie_popularity \u001b[39m=\u001b[39m train_data\u001b[39m.\u001b[39mgroupby(\u001b[39m'\u001b[39m\u001b[39mtitle\u001b[39m\u001b[39m'\u001b[39m)\u001b[39m.\u001b[39msize()\u001b[39m.\u001b[39msort_values(ascending\u001b[39m=\u001b[39m\u001b[39mFalse\u001b[39;00m)\n\u001b[1;32m     13\u001b[0m     baseline_pred \u001b[39m=\u001b[39m []\n\u001b[1;32m     14\u001b[0m     \u001b[39mfor\u001b[39;00m movie \u001b[39min\u001b[39;00m movie_popularity\u001b[39m.\u001b[39mindex:\n",
      "\u001b[0;31mNameError\u001b[0m: name 'train_data' is not defined"
     ]
    }
   ],
   "source": [
    "from src.baseline import *\n",
    "\n",
    "mostPopularRecommendor = MostPopularRecommendor(train_data)\n",
    "baseline_pred = mostPopularRecommendor.pred()\n",
    "print(accuracy(baseline_pred, test_title))"
   ]
  },
  {
   "cell_type": "markdown",
   "metadata": {},
   "source": [
    "Results:\n",
    "\n",
    "1. The GPT model gives results not in testing even if we specify a testing set. It only support a candidate set of around 100.\n",
    "2. The GPT gives recommendation with accuracy 0.5, while the \"most popular\" recommender only gives recommendation with accuracy 0.2."
   ]
  }
 ],
 "metadata": {
  "kernelspec": {
   "display_name": "base",
   "language": "python",
   "name": "python3"
  },
  "language_info": {
   "codemirror_mode": {
    "name": "ipython",
    "version": 3
   },
   "file_extension": ".py",
   "mimetype": "text/x-python",
   "name": "python",
   "nbconvert_exporter": "python",
   "pygments_lexer": "ipython3",
   "version": "3.9.6"
  },
  "orig_nbformat": 4
 },
 "nbformat": 4,
 "nbformat_minor": 2
}
