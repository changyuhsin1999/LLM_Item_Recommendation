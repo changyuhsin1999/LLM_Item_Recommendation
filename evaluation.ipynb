{
 "cells": [
  {
   "cell_type": "markdown",
   "metadata": {},
   "source": [
    "# Step 0.1: Data Loading"
   ]
  },
  {
   "cell_type": "code",
   "execution_count": 3,
   "metadata": {},
   "outputs": [],
   "source": [
    "import os\n",
    "import pandas as pd\n",
    "from openai import OpenAI\n",
    "from sklearn.model_selection import train_test_split\n",
    "from src.three_step import *\n",
    "from src.baseline import *\n",
    "from src.prompt import *\n",
    "\n",
    "client = OpenAI()\n",
    "\n",
    "USER_ID = user_id = 123\n",
    "USER_ID2 = 234\n",
    "candidate_size = 100\n",
    "\n",
    "data = pd.read_csv(\"data/merged_df.csv\")\n",
    "\n",
    "train_data, test_data = train_test_split(data, test_size=0.2, random_state=42)\n",
    "train_user_df = train_data[train_data[\"userId\"] == user_id]\n",
    "train_title = train_user_df[\"title\"]\n",
    "\n",
    "test_user_df = test_data[test_data[\"userId\"] == user_id]\n",
    "test_title = test_user_df[\"title\"]\n",
    "\n"
   ]
  },
  {
   "cell_type": "code",
   "execution_count": 4,
   "metadata": {},
   "outputs": [
    {
     "data": {
      "text/plain": [
       "0.1"
      ]
     },
     "execution_count": 4,
     "metadata": {},
     "output_type": "execute_result"
    }
   ],
   "source": [
    "def get_accuracy_3step(train_data, test_data, user_id):\n",
    "    \n",
    "    train_user_df = train_data[train_data[\"userId\"] == user_id]\n",
    "    train_title = train_user_df[\"title\"]\n",
    "\n",
    "    test_user_df = test_data[test_data[\"userId\"] == user_id]\n",
    "    test_title = test_user_df[\"title\"]\n",
    "\n",
    "    threeStepRecommender = ThreeStepRecommender(user_id, train_data, candidate_size)\n",
    "    movie_pred = threeStepRecommender.get_pred()\n",
    "    accuracy1 = threeStepRecommender.accuracy(movie_pred, test_title)\n",
    "    return accuracy1\n",
    "\n",
    "accuracy_3step = get_accuracy_3step(train_data, test_data, user_id)\n",
    "accuracy_3step\n",
    "    "
   ]
  },
  {
   "cell_type": "code",
   "execution_count": 5,
   "metadata": {},
   "outputs": [
    {
     "data": {
      "text/plain": [
       "0.1"
      ]
     },
     "execution_count": 5,
     "metadata": {},
     "output_type": "execute_result"
    }
   ],
   "source": [
    "def get_accuracy_popular(train_data, test_data, user_id):\n",
    "    train_user_df = train_data[train_data[\"userId\"] == user_id]\n",
    "    train_title = train_user_df[\"title\"]\n",
    "    test_user_df = test_data[test_data[\"userId\"] == user_id]\n",
    "    test_title = test_user_df[\"title\"]\n",
    "    mostPopularRecommendor = MostPopularRecommendor(train_data)\n",
    "    baseline_pred = mostPopularRecommendor.pred()\n",
    "    accuracy2 = mostPopularRecommendor.accuracy(baseline_pred, test_title)\n",
    "    return accuracy2\n",
    "\n",
    "accuracy_popular = get_accuracy_popular(train_data, test_data, user_id)\n",
    "accuracy_popular"
   ]
  },
  {
   "cell_type": "code",
   "execution_count": 6,
   "metadata": {},
   "outputs": [
    {
     "name": "stdout",
     "output_type": "stream",
     "text": [
      "Inception in test\n",
      "Whiplash in test\n",
      "Accuracy of User History Prompting: 0.2\n"
     ]
    }
   ],
   "source": [
    "recommend_prompt = RecommendPrompt(data)\n",
    "prompt, answer, recommendations = recommend_prompt.prompt_recommend_with_user_history(USER_ID)\n",
    "accuracy_user = recommend_prompt.accuracy(recommendations, USER_ID)\n",
    "print(f\"Accuracy of User History Prompting: {accuracy_user}\")"
   ]
  },
  {
   "cell_type": "code",
   "execution_count": 7,
   "metadata": {},
   "outputs": [
    {
     "name": "stdout",
     "output_type": "stream",
     "text": [
      "Accuracy of Partner History Prompting: 0.0\n"
     ]
    }
   ],
   "source": [
    "prompt, answer, recommendations = recommend_prompt.prompt_recommend_with_partner_history(USER_ID, USER_ID2)\n",
    "accuracy_partner = recommend_prompt.accuracy(recommendations, USER_ID)\n",
    "print(f\"Accuracy of Partner History Prompting: {accuracy_partner}\")"
   ]
  },
  {
   "cell_type": "code",
   "execution_count": 8,
   "metadata": {},
   "outputs": [
    {
     "name": "stderr",
     "output_type": "stream",
     "text": [
      "/Users/yiyang/Desktop/RL Apps/LLM_Item_Recommendation/src/prompt.py:58: SettingWithCopyWarning: \n",
      "A value is trying to be set on a copy of a slice from a DataFrame.\n",
      "Try using .loc[row_indexer,col_indexer] = value instead\n",
      "\n",
      "See the caveats in the documentation: https://pandas.pydata.org/pandas-docs/stable/user_guide/indexing.html#returning-a-view-versus-a-copy\n",
      "  user_data['genres'] = user_data['genres'].str.split('|')\n"
     ]
    },
    {
     "name": "stdout",
     "output_type": "stream",
     "text": [
      "Accuracy of Genre Prompting: 0.0\n"
     ]
    }
   ],
   "source": [
    "prompt, answer, recommendations = recommend_prompt.prompt_with_genre(USER_ID)\n",
    "accuracy_genre = recommend_prompt.accuracy(recommendations, USER_ID)\n",
    "print(f\"Accuracy of Genre Prompting: {accuracy_genre}\")"
   ]
  },
  {
   "cell_type": "code",
   "execution_count": 9,
   "metadata": {},
   "outputs": [
    {
     "name": "stdout",
     "output_type": "stream",
     "text": [
      "Interstellar in test\n",
      "Accuracy of Similar User Prompting: 0.1\n"
     ]
    }
   ],
   "source": [
    "prompt, answer, recommendations = recommend_prompt.prompt_with_similar_user(USER_ID)\n",
    "accuracy_similar_user = recommend_prompt.accuracy(recommendations, USER_ID)\n",
    "print(f\"Accuracy of Similar User Prompting: {accuracy_similar_user}\")"
   ]
  },
  {
   "cell_type": "code",
   "execution_count": 10,
   "metadata": {},
   "outputs": [
    {
     "name": "stdout",
     "output_type": "stream",
     "text": [
      "Recommendation Rating RMSE: 0.25\n",
      "RMSE of Rvaluation Prompting: 0.25\n"
     ]
    }
   ],
   "source": [
    "prompt, answer, recommendations = recommend_prompt.prompt_for_rating(USER_ID)\n",
    "rmse_prompt = recommend_prompt.evaluation(recommendations, USER_ID)\n",
    "print(f\"RMSE of Rvaluation Prompting: {rmse_prompt}\")"
   ]
  },
  {
   "cell_type": "code",
   "execution_count": 11,
   "metadata": {},
   "outputs": [],
   "source": [
    "rmse_collaborative = 0.7063453808169152"
   ]
  },
  {
   "cell_type": "markdown",
   "metadata": {},
   "source": [
    "# Evaluation Plot\n",
    "\n",
    "In terms of prediction accuracy, certain models may exhibit lower accuracy due to their recommendations not aligning with the movie dataset. GPT models, having access to a broader range of movies, might offer suggestions that are not within the dataset we are utilizing.\n",
    "\n",
    "It's important to note that achieving a 20% accuracy rate is considered high. This is because two out of the ten recommendations coincide with the test set, and the test set itself comprises only six items, while there are thousands of candidates to choose from."
   ]
  },
  {
   "cell_type": "code",
   "execution_count": 12,
   "metadata": {},
   "outputs": [
    {
     "data": {
      "image/png": "[encoded data removed]",
      "text/plain": [
       "<Figure size 600x400 with 1 Axes>"
      ]
     },
     "metadata": {},
     "output_type": "display_data"
    }
   ],
   "source": [
    "import matplotlib.pyplot as plt\n",
    "\n",
    "# Names of the models\n",
    "models = ['3 step', 'Popular', 'User', 'Partner','Genre' ,'Similar User']\n",
    "\n",
    "# Accuracy scores of the models\n",
    "accuracy_scores = [accuracy_3step, accuracy_popular, accuracy_user, accuracy_partner, accuracy_genre, accuracy_similar_user]\n",
    "\n",
    "# Create a bar chart\n",
    "plt.figure(figsize=(6, 4))\n",
    "plt.bar(models, accuracy_scores, color='skyblue')\n",
    "plt.xlabel('Models')\n",
    "plt.ylabel('Accuracy')\n",
    "plt.title('Model Accuracy Comparison')\n",
    "plt.ylim(0, 1)  # Set the y-axis limits between 0 and 1 for accuracy scores\n",
    "plt.grid(axis='y', linestyle='--', alpha=0.7)\n",
    "plt.xticks(rotation=45, ha='right')\n",
    "\n",
    "# Display the accuracy values on top of the bars\n",
    "for i, score in enumerate(accuracy_scores):\n",
    "    plt.text(i, score + 0.02, f'{score:.2f}', ha='center', va='bottom')\n",
    "\n",
    "plt.tight_layout()\n",
    "plt.show()"
   ]
  },
  {
   "cell_type": "code",
   "execution_count": 13,
   "metadata": {},
   "outputs": [
    {
     "data": {
      "image/png": "[encoded data removed]",
      "text/plain": [
       "<Figure size 600x400 with 1 Axes>"
      ]
     },
     "metadata": {},
     "output_type": "display_data"
    }
   ],
   "source": [
    "import matplotlib.pyplot as plt\n",
    "\n",
    "# Names of the models\n",
    "models = ['Rate Prompt', 'Collaborative Filtering']\n",
    "\n",
    "# Accuracy scores of the models\n",
    "accuracy_scores = [rmse_prompt, rmse_collaborative]\n",
    "\n",
    "# Create a bar chart\n",
    "plt.figure(figsize=(6, 4))\n",
    "plt.bar(models, accuracy_scores, color='skyblue')\n",
    "plt.xlabel('Models')\n",
    "plt.ylabel('RMSE')\n",
    "plt.title('Model RMSE Comparison')\n",
    "plt.ylim(0, 1)  # Set the y-axis limits between 0 and 1 for accuracy scores\n",
    "plt.grid(axis='y', linestyle='--', alpha=0.7)\n",
    "# plt.xticks(rotation=45, ha='right')\n",
    "\n",
    "# Display the accuracy values on top of the bars\n",
    "for i, score in enumerate(accuracy_scores):\n",
    "    plt.text(i, score + 0.02, f'{score:.2f}', ha='center', va='bottom')\n",
    "\n",
    "plt.tight_layout()\n",
    "plt.show()"
   ]
  }
 ],
 "metadata": {
  "kernelspec": {
   "display_name": "RL",
   "language": "python",
   "name": "python3"
  },
  "language_info": {
   "codemirror_mode": {
    "name": "ipython",
    "version": 3
   },
   "file_extension": ".py",
   "mimetype": "text/x-python",
   "name": "python",
   "nbconvert_exporter": "python",
   "pygments_lexer": "ipython3",
   "version": "3.9.6"
  }
 },
 "nbformat": 4,
 "nbformat_minor": 2
}
